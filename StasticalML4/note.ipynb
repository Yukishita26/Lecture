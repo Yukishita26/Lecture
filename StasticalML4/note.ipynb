{
 "cells": [
  {
   "cell_type": "code",
   "execution_count": 1,
   "id": "5e8b7aac",
   "metadata": {},
   "outputs": [],
   "source": [
    "import numpy as np\n",
    "import pandas as pd\n",
    "import matplotlib.pyplot as plt\n",
    "%matplotlib inline"
   ]
  },
  {
   "cell_type": "code",
   "execution_count": 2,
   "id": "aa1c7122",
   "metadata": {
    "scrolled": true
   },
   "outputs": [
    {
     "data": {
      "text/plain": [
       "{'data': array([[   8.3252    ,   41.        ,    6.98412698, ...,    2.55555556,\n",
       "           37.88      , -122.23      ],\n",
       "        [   8.3014    ,   21.        ,    6.23813708, ...,    2.10984183,\n",
       "           37.86      , -122.22      ],\n",
       "        [   7.2574    ,   52.        ,    8.28813559, ...,    2.80225989,\n",
       "           37.85      , -122.24      ],\n",
       "        ...,\n",
       "        [   1.7       ,   17.        ,    5.20554273, ...,    2.3256351 ,\n",
       "           39.43      , -121.22      ],\n",
       "        [   1.8672    ,   18.        ,    5.32951289, ...,    2.12320917,\n",
       "           39.43      , -121.32      ],\n",
       "        [   2.3886    ,   16.        ,    5.25471698, ...,    2.61698113,\n",
       "           39.37      , -121.24      ]]),\n",
       " 'target': array([4.526, 3.585, 3.521, ..., 0.923, 0.847, 0.894]),\n",
       " 'frame': None,\n",
       " 'target_names': ['MedHouseVal'],\n",
       " 'feature_names': ['MedInc',\n",
       "  'HouseAge',\n",
       "  'AveRooms',\n",
       "  'AveBedrms',\n",
       "  'Population',\n",
       "  'AveOccup',\n",
       "  'Latitude',\n",
       "  'Longitude'],\n",
       " 'DESCR': '.. _california_housing_dataset:\\n\\nCalifornia Housing dataset\\n--------------------------\\n\\n**Data Set Characteristics:**\\n\\n    :Number of Instances: 20640\\n\\n    :Number of Attributes: 8 numeric, predictive attributes and the target\\n\\n    :Attribute Information:\\n        - MedInc        median income in block\\n        - HouseAge      median house age in block\\n        - AveRooms      average number of rooms\\n        - AveBedrms     average number of bedrooms\\n        - Population    block population\\n        - AveOccup      average house occupancy\\n        - Latitude      house block latitude\\n        - Longitude     house block longitude\\n\\n    :Missing Attribute Values: None\\n\\nThis dataset was obtained from the StatLib repository.\\nhttp://lib.stat.cmu.edu/datasets/\\n\\nThe target variable is the median house value for California districts.\\n\\nThis dataset was derived from the 1990 U.S. census, using one row per census\\nblock group. A block group is the smallest geographical unit for which the U.S.\\nCensus Bureau publishes sample data (a block group typically has a population\\nof 600 to 3,000 people).\\n\\nIt can be downloaded/loaded using the\\n:func:`sklearn.datasets.fetch_california_housing` function.\\n\\n.. topic:: References\\n\\n    - Pace, R. Kelley and Ronald Barry, Sparse Spatial Autoregressions,\\n      Statistics and Probability Letters, 33 (1997) 291-297\\n'}"
      ]
     },
     "execution_count": 2,
     "metadata": {},
     "output_type": "execute_result"
    }
   ],
   "source": [
    "from sklearn.datasets import fetch_california_housing\n",
    "housing = fetch_california_housing()\n",
    "housing"
   ]
  },
  {
   "cell_type": "code",
   "execution_count": 5,
   "id": "f78edb1f",
   "metadata": {},
   "outputs": [
    {
     "name": "stdout",
     "output_type": "stream",
     "text": [
      "<class 'pandas.core.frame.DataFrame'>\n",
      "RangeIndex: 20640 entries, 0 to 20639\n",
      "Data columns (total 8 columns):\n",
      " #   Column      Non-Null Count  Dtype  \n",
      "---  ------      --------------  -----  \n",
      " 0   MedInc      20640 non-null  float64\n",
      " 1   HouseAge    20640 non-null  float64\n",
      " 2   AveRooms    20640 non-null  float64\n",
      " 3   AveBedrms   20640 non-null  float64\n",
      " 4   Population  20640 non-null  float64\n",
      " 5   AveOccup    20640 non-null  float64\n",
      " 6   Latitude    20640 non-null  float64\n",
      " 7   Longitude   20640 non-null  float64\n",
      "dtypes: float64(8)\n",
      "memory usage: 1.3 MB\n"
     ]
    }
   ],
   "source": [
    "df = pd.DataFrame(housing['data'], columns=housing['feature_names'])\n",
    "df.info()"
   ]
  },
  {
   "cell_type": "code",
   "execution_count": 6,
   "id": "a4d47249",
   "metadata": {},
   "outputs": [],
   "source": [
    "from sklearn.model_selection import train_test_split\n",
    "train_x, test_x, train_y, test_y = train_test_split(df, housing['target'],\n",
    "                                                    test_size=0.2, random_state=42)"
   ]
  },
  {
   "cell_type": "code",
   "execution_count": 7,
   "id": "1bd931c5",
   "metadata": {},
   "outputs": [
    {
     "data": {
      "text/plain": [
       "RandomForestRegressor(n_estimators=500)"
      ]
     },
     "execution_count": 7,
     "metadata": {},
     "output_type": "execute_result"
    }
   ],
   "source": [
    "from sklearn.ensemble import RandomForestRegressor\n",
    "model = RandomForestRegressor(n_estimators=500)\n",
    "model.fit(train_x, train_y)"
   ]
  },
  {
   "cell_type": "code",
   "execution_count": 8,
   "id": "14bf7677",
   "metadata": {},
   "outputs": [
    {
     "data": {
      "text/plain": [
       "(0.9743737934110901, 0.8075312458561839)"
      ]
     },
     "execution_count": 8,
     "metadata": {},
     "output_type": "execute_result"
    }
   ],
   "source": [
    "model.score(train_x, train_y), model.score(test_x, test_y)"
   ]
  },
  {
   "cell_type": "code",
   "execution_count": 9,
   "id": "203bda18",
   "metadata": {},
   "outputs": [],
   "source": [
    "from sklearn.model_selection import KFold\n",
    "import xgboost as xgb\n",
    "import optuna"
   ]
  },
  {
   "cell_type": "code",
   "execution_count": 12,
   "id": "10df12cd",
   "metadata": {},
   "outputs": [
    {
     "name": "stderr",
     "output_type": "stream",
     "text": [
      "\u001b[32m[I 2021-07-27 01:53:08,637]\u001b[0m A new study created in memory with name: no-name-852273dd-5fec-4c21-95b5-6920e30847e3\u001b[0m\n",
      "\u001b[32m[I 2021-07-27 01:53:26,914]\u001b[0m Trial 0 finished with value: -0.8169110165280861 and parameters: {'eta': 0.027551103490971583, 'max_depth': 7, 'gamma': 0.76546275975211, 'subsample': 0.6874838627062277, 'colsample_bylevel': 0.15290703731121014, 'n_estimators': 487}. Best is trial 0 with value: -0.8169110165280861.\u001b[0m\n",
      "\u001b[32m[I 2021-07-27 01:54:10,370]\u001b[0m Trial 1 finished with value: 1.847388846390467 and parameters: {'eta': 3.0367646475613494e-07, 'max_depth': 9, 'gamma': 0.4269519478986783, 'subsample': 0.9379459560075206, 'colsample_bylevel': 0.2655353696010091, 'n_estimators': 605}. Best is trial 0 with value: -0.8169110165280861.\u001b[0m\n",
      "\u001b[32m[I 2021-07-27 01:54:20,573]\u001b[0m Trial 2 finished with value: -0.8201837720880988 and parameters: {'eta': 0.03439661281293666, 'max_depth': 5, 'gamma': 0.15031263361285818, 'subsample': 0.6529624014765942, 'colsample_bylevel': 0.41708330074826616, 'n_estimators': 275}. Best is trial 2 with value: -0.8201837720880988.\u001b[0m\n",
      "\u001b[32m[I 2021-07-27 01:54:35,342]\u001b[0m Trial 3 finished with value: -0.8101703928495894 and parameters: {'eta': 0.03576629141029988, 'max_depth': 4, 'gamma': 0.3144541769360406, 'subsample': 0.08134985426926522, 'colsample_bylevel': 0.27498256305669977, 'n_estimators': 930}. Best is trial 2 with value: -0.8201837720880988.\u001b[0m\n",
      "\u001b[32m[I 2021-07-27 01:55:05,208]\u001b[0m Trial 4 finished with value: 1.846752620015622 and parameters: {'eta': 5.921636819934808e-07, 'max_depth': 9, 'gamma': 0.1706381148221371, 'subsample': 0.44455270463082186, 'colsample_bylevel': 0.4655350375980557, 'n_estimators': 525}. Best is trial 2 with value: -0.8201837720880988.\u001b[0m\n",
      "\u001b[32m[I 2021-07-27 01:55:07,868]\u001b[0m Trial 5 finished with value: 1.8466548799659563 and parameters: {'eta': 7.1900097229214695e-06, 'max_depth': 6, 'gamma': 0.8649986457376369, 'subsample': 0.9870974819980866, 'colsample_bylevel': 0.7625552109194239, 'n_estimators': 46}. Best is trial 2 with value: -0.8201837720880988.\u001b[0m\n",
      "\u001b[32m[I 2021-07-27 01:55:36,981]\u001b[0m Trial 6 finished with value: -0.8438692461830748 and parameters: {'eta': 0.0652579600437908, 'max_depth': 6, 'gamma': 0.6872794029072905, 'subsample': 0.6262056446135419, 'colsample_bylevel': 0.2653551866387004, 'n_estimators': 746}. Best is trial 6 with value: -0.8438692461830748.\u001b[0m\n",
      "\u001b[32m[I 2021-07-27 01:56:01,067]\u001b[0m Trial 7 finished with value: -0.8127910355382296 and parameters: {'eta': 0.0067762711567630595, 'max_depth': 6, 'gamma': 0.9061013605739414, 'subsample': 0.1953654159595627, 'colsample_bylevel': 0.8733762794297986, 'n_estimators': 861}. Best is trial 6 with value: -0.8438692461830748.\u001b[0m\n",
      "\u001b[32m[I 2021-07-27 01:56:12,006]\u001b[0m Trial 8 finished with value: -0.73987486716168 and parameters: {'eta': 0.2601512937942788, 'max_depth': 2, 'gamma': 0.11078805468964192, 'subsample': 0.046518888038580064, 'colsample_bylevel': 0.229028088488326, 'n_estimators': 954}. Best is trial 6 with value: -0.8438692461830748.\u001b[0m\n",
      "\u001b[32m[I 2021-07-27 01:56:15,761]\u001b[0m Trial 9 finished with value: 1.8461978323306976 and parameters: {'eta': 2.5232648988651726e-06, 'max_depth': 2, 'gamma': 0.6102182259522427, 'subsample': 0.5835605758797976, 'colsample_bylevel': 0.30592760340554814, 'n_estimators': 201}. Best is trial 6 with value: -0.8438692461830748.\u001b[0m\n",
      "\u001b[32m[I 2021-07-27 01:56:44,027]\u001b[0m Trial 10 finished with value: 1.0585903363331481 and parameters: {'eta': 0.0002826408578788184, 'max_depth': 8, 'gamma': 0.7064315297925593, 'subsample': 0.3832541738905043, 'colsample_bylevel': 0.0024819985682058565, 'n_estimators': 732}. Best is trial 6 with value: -0.8438692461830748.\u001b[0m\n",
      "\u001b[32m[I 2021-07-27 01:56:55,296]\u001b[0m Trial 11 finished with value: -0.8082934575328018 and parameters: {'eta': 0.5613476193465718, 'max_depth': 4, 'gamma': 0.0001537614149806077, 'subsample': 0.7969387877490494, 'colsample_bylevel': 0.5445244140122293, 'n_estimators': 339}. Best is trial 6 with value: -0.8438692461830748.\u001b[0m\n",
      "\u001b[32m[I 2021-07-27 01:57:05,598]\u001b[0m Trial 12 finished with value: 1.2528742066771548 and parameters: {'eta': 0.000475970854050706, 'max_depth': 4, 'gamma': 0.5340943944138496, 'subsample': 0.7711550561815883, 'colsample_bylevel': 0.5161078530621435, 'n_estimators': 303}. Best is trial 6 with value: -0.8438692461830748.\u001b[0m\n",
      "\u001b[32m[I 2021-07-27 01:57:25,250]\u001b[0m Trial 13 finished with value: -0.7495962659902002 and parameters: {'eta': 0.6481924271296239, 'max_depth': 5, 'gamma': 0.3523697645708158, 'subsample': 0.593621710569163, 'colsample_bylevel': 0.006061199267726858, 'n_estimators': 682}. Best is trial 6 with value: -0.8438692461830748.\u001b[0m\n",
      "\u001b[32m[I 2021-07-27 01:57:25,983]\u001b[0m Trial 14 finished with value: 1.6636076237420823 and parameters: {'eta': 0.00233702774361159, 'max_depth': 6, 'gamma': 0.990710028613809, 'subsample': 0.40532547689581905, 'colsample_bylevel': 0.4203886537346157, 'n_estimators': 17}. Best is trial 6 with value: -0.8438692461830748.\u001b[0m\n",
      "\u001b[32m[I 2021-07-27 01:57:31,236]\u001b[0m Trial 15 finished with value: 1.811169570378634 and parameters: {'eta': 4.3869314058177464e-05, 'max_depth': 3, 'gamma': 0.6202537305875427, 'subsample': 0.8230287082035301, 'colsample_bylevel': 0.6857367184076493, 'n_estimators': 184}. Best is trial 6 with value: -0.8438692461830748.\u001b[0m\n",
      "\u001b[32m[I 2021-07-27 01:57:44,842]\u001b[0m Trial 16 finished with value: -0.8226596531790233 and parameters: {'eta': 0.054246444751568076, 'max_depth': 7, 'gamma': 0.0009497210631780884, 'subsample': 0.5764888047346828, 'colsample_bylevel': 0.10762801584913284, 'n_estimators': 346}. Best is trial 6 with value: -0.8438692461830748.\u001b[0m\n",
      "\u001b[32m[I 2021-07-27 01:58:00,213]\u001b[0m Trial 17 finished with value: -0.8064672217237232 and parameters: {'eta': 0.18526540359794752, 'max_depth': 8, 'gamma': 0.75270203023559, 'subsample': 0.2786541510223066, 'colsample_bylevel': 0.10594604396310688, 'n_estimators': 449}. Best is trial 6 with value: -0.8438692461830748.\u001b[0m\n",
      "\u001b[32m[I 2021-07-27 01:58:30,651]\u001b[0m Trial 18 finished with value: 1.8482145019206588 and parameters: {'eta': 2.2630356101174233e-08, 'max_depth': 7, 'gamma': 0.0068935734101488455, 'subsample': 0.5283507092423121, 'colsample_bylevel': 0.11141423529600203, 'n_estimators': 806}. Best is trial 6 with value: -0.8438692461830748.\u001b[0m\n",
      "\u001b[32m[I 2021-07-27 01:58:47,794]\u001b[0m Trial 19 finished with value: -0.830177305727509 and parameters: {'eta': 0.08040245715798361, 'max_depth': 7, 'gamma': 0.5187132877593947, 'subsample': 0.900109869383113, 'colsample_bylevel': 0.0170802721261602, 'n_estimators': 391}. Best is trial 6 with value: -0.8438692461830748.\u001b[0m\n",
      "\u001b[32m[I 2021-07-27 01:59:21,425]\u001b[0m Trial 20 finished with value: -0.6631126190498557 and parameters: {'eta': 0.0030253827694120303, 'max_depth': 8, 'gamma': 0.48016831752911837, 'subsample': 0.9065355258570671, 'colsample_bylevel': 0.021893056855823538, 'n_estimators': 656}. Best is trial 6 with value: -0.8438692461830748.\u001b[0m\n",
      "\u001b[32m[I 2021-07-27 01:59:37,891]\u001b[0m Trial 21 finished with value: -0.8297712277465925 and parameters: {'eta': 0.08667813881878392, 'max_depth': 7, 'gamma': 0.6051529382119476, 'subsample': 0.7069550710904476, 'colsample_bylevel': 0.15378969578572946, 'n_estimators': 421}. Best is trial 6 with value: -0.8438692461830748.\u001b[0m\n",
      "\u001b[32m[I 2021-07-27 01:59:54,493]\u001b[0m Trial 22 finished with value: -0.7237023558988652 and parameters: {'eta': 0.0067393694163242765, 'max_depth': 7, 'gamma': 0.6052985698517552, 'subsample': 0.7208743011782665, 'colsample_bylevel': 0.1849390985841106, 'n_estimators': 417}. Best is trial 6 with value: -0.8438692461830748.\u001b[0m\n",
      "\u001b[32m[I 2021-07-27 02:00:18,210]\u001b[0m Trial 23 finished with value: -0.7296613334834218 and parameters: {'eta': 0.9559283951561703, 'max_depth': 6, 'gamma': 0.697295880749139, 'subsample': 0.8781952604281014, 'colsample_bylevel': 0.37372490148360404, 'n_estimators': 562}. Best is trial 6 with value: -0.8438692461830748.\u001b[0m\n",
      "\u001b[32m[I 2021-07-27 02:00:37,694]\u001b[0m Trial 24 finished with value: -0.8302951378808444 and parameters: {'eta': 0.1312743848448578, 'max_depth': 8, 'gamma': 0.5253501822293671, 'subsample': 0.7293314116089809, 'colsample_bylevel': 0.06856237476817396, 'n_estimators': 405}. Best is trial 6 with value: -0.8438692461830748.\u001b[0m\n"
     ]
    },
    {
     "name": "stderr",
     "output_type": "stream",
     "text": [
      "\u001b[32m[I 2021-07-27 02:00:47,606]\u001b[0m Trial 25 finished with value: -0.6138029701496703 and parameters: {'eta': 0.010587237291329722, 'max_depth': 9, 'gamma': 0.4389996556855891, 'subsample': 0.9631203399251871, 'colsample_bylevel': 0.039152786649597565, 'n_estimators': 157}. Best is trial 6 with value: -0.8438692461830748.\u001b[0m\n",
      "\u001b[32m[I 2021-07-27 02:01:32,329]\u001b[0m Trial 26 finished with value: -0.29487823600803614 and parameters: {'eta': 0.001211536333490795, 'max_depth': 8, 'gamma': 0.30020990373644985, 'subsample': 0.8324287928944932, 'colsample_bylevel': 0.3476042712853572, 'n_estimators': 755}. Best is trial 6 with value: -0.8438692461830748.\u001b[0m\n",
      "\u001b[32m[I 2021-07-27 02:01:59,193]\u001b[0m Trial 27 finished with value: -0.8177227198002444 and parameters: {'eta': 0.23300933512680647, 'max_depth': 8, 'gamma': 0.5366618082588861, 'subsample': 0.6441370887829841, 'colsample_bylevel': 0.058519565665659135, 'n_estimators': 598}. Best is trial 6 with value: -0.8438692461830748.\u001b[0m\n",
      "\u001b[32m[I 2021-07-27 02:02:10,955]\u001b[0m Trial 28 finished with value: 1.7534327745697926 and parameters: {'eta': 5.717313372778723e-05, 'max_depth': 5, 'gamma': 0.3943016770142186, 'subsample': 0.7558555264014295, 'colsample_bylevel': 0.18987121030824083, 'n_estimators': 387}. Best is trial 6 with value: -0.8438692461830748.\u001b[0m\n",
      "\u001b[32m[I 2021-07-27 02:02:36,156]\u001b[0m Trial 29 finished with value: -0.8388670216586445 and parameters: {'eta': 0.019429401071194723, 'max_depth': 7, 'gamma': 0.8578637715189001, 'subsample': 0.5029514235603537, 'colsample_bylevel': 0.6268269120405472, 'n_estimators': 524}. Best is trial 6 with value: -0.8438692461830748.\u001b[0m\n",
      "\u001b[32m[I 2021-07-27 02:02:55,473]\u001b[0m Trial 30 finished with value: -0.825629707356909 and parameters: {'eta': 0.015390295925572168, 'max_depth': 6, 'gamma': 0.8469404923401971, 'subsample': 0.49380708261461553, 'colsample_bylevel': 0.6103864655792666, 'n_estimators': 476}. Best is trial 6 with value: -0.8438692461830748.\u001b[0m\n",
      "\u001b[32m[I 2021-07-27 02:03:22,455]\u001b[0m Trial 31 finished with value: -0.8469412052628588 and parameters: {'eta': 0.10745634595713137, 'max_depth': 7, 'gamma': 0.7995050645748876, 'subsample': 0.6660691488976866, 'colsample_bylevel': 0.7366262334229263, 'n_estimators': 521}. Best is trial 31 with value: -0.8469412052628588.\u001b[0m\n",
      "\u001b[32m[I 2021-07-27 02:03:59,225]\u001b[0m Trial 32 finished with value: -0.839268641751248 and parameters: {'eta': 0.15118139275130368, 'max_depth': 9, 'gamma': 0.98442971675117, 'subsample': 0.6734633742708512, 'colsample_bylevel': 0.7859250922468419, 'n_estimators': 513}. Best is trial 31 with value: -0.8469412052628588.\u001b[0m\n",
      "\u001b[32m[I 2021-07-27 02:04:37,464]\u001b[0m Trial 33 finished with value: -0.6739807101439146 and parameters: {'eta': 0.8396803282018774, 'max_depth': 9, 'gamma': 0.9620289172016704, 'subsample': 0.6429795398034261, 'colsample_bylevel': 0.8594557273851925, 'n_estimators': 524}. Best is trial 31 with value: -0.8469412052628588.\u001b[0m\n",
      "\u001b[32m[I 2021-07-27 02:05:08,209]\u001b[0m Trial 34 finished with value: -0.8411156571867368 and parameters: {'eta': 0.02009744362299404, 'max_depth': 7, 'gamma': 0.8107924502232563, 'subsample': 0.5144315773981414, 'colsample_bylevel': 0.9647115819552162, 'n_estimators': 602}. Best is trial 31 with value: -0.8469412052628588.\u001b[0m\n",
      "\u001b[32m[I 2021-07-27 02:05:35,579]\u001b[0m Trial 35 finished with value: -0.8419228173207497 and parameters: {'eta': 0.044012717753704744, 'max_depth': 5, 'gamma': 0.7857356571136337, 'subsample': 0.6683345788196478, 'colsample_bylevel': 0.9395033379432314, 'n_estimators': 685}. Best is trial 31 with value: -0.8469412052628588.\u001b[0m\n",
      "\u001b[32m[I 2021-07-27 02:05:55,072]\u001b[0m Trial 36 finished with value: -0.8321252851589499 and parameters: {'eta': 0.032253641299928616, 'max_depth': 5, 'gamma': 0.7739912232327009, 'subsample': 0.30889163459619756, 'colsample_bylevel': 0.9894237240383296, 'n_estimators': 665}. Best is trial 31 with value: -0.8469412052628588.\u001b[0m\n",
      "\u001b[32m[I 2021-07-27 02:06:33,273]\u001b[0m Trial 37 finished with value: -0.7105487703264795 and parameters: {'eta': 0.0023609211523149946, 'max_depth': 6, 'gamma': 0.806982179490102, 'subsample': 0.5383194400278991, 'colsample_bylevel': 0.983092399868576, 'n_estimators': 856}. Best is trial 31 with value: -0.8469412052628588.\u001b[0m\n",
      "\u001b[32m[I 2021-07-27 02:06:55,577]\u001b[0m Trial 38 finished with value: 0.42132301669631483 and parameters: {'eta': 0.0006812210400294372, 'max_depth': 5, 'gamma': 0.9293373951886787, 'subsample': 0.4682198240859336, 'colsample_bylevel': 0.9275377293010696, 'n_estimators': 627}. Best is trial 31 with value: -0.8469412052628588.\u001b[0m\n",
      "\u001b[32m[I 2021-07-27 02:07:14,767]\u001b[0m Trial 39 finished with value: -0.7472386519079883 and parameters: {'eta': 0.006235470925599242, 'max_depth': 3, 'gamma': 0.7043765213023699, 'subsample': 0.6110439137059323, 'colsample_bylevel': 0.7914361461714308, 'n_estimators': 737}. Best is trial 31 with value: -0.8469412052628588.\u001b[0m\n",
      "\u001b[32m[I 2021-07-27 02:07:50,567]\u001b[0m Trial 40 finished with value: -0.8467022217098872 and parameters: {'eta': 0.043375167636062854, 'max_depth': 6, 'gamma': 0.664730500368361, 'subsample': 0.4304779987601436, 'colsample_bylevel': 0.8941430055737658, 'n_estimators': 905}. Best is trial 31 with value: -0.8469412052628588.\u001b[0m\n",
      "\u001b[32m[I 2021-07-27 02:08:26,238]\u001b[0m Trial 41 finished with value: -0.845142265143885 and parameters: {'eta': 0.03229506874931674, 'max_depth': 6, 'gamma': 0.6724041208104303, 'subsample': 0.4188323297292503, 'colsample_bylevel': 0.9116282994362747, 'n_estimators': 907}. Best is trial 31 with value: -0.8469412052628588.\u001b[0m\n",
      "\u001b[32m[I 2021-07-27 02:08:58,321]\u001b[0m Trial 42 finished with value: -0.7807445178581536 and parameters: {'eta': 0.3657318802882495, 'max_depth': 6, 'gamma': 0.6616597071197355, 'subsample': 0.3544558729343001, 'colsample_bylevel': 0.8554958244206092, 'n_estimators': 886}. Best is trial 31 with value: -0.8469412052628588.\u001b[0m\n",
      "\u001b[32m[I 2021-07-27 02:09:26,519]\u001b[0m Trial 43 finished with value: -0.8352411787424842 and parameters: {'eta': 0.044470750431649594, 'max_depth': 4, 'gamma': 0.7489973277846419, 'subsample': 0.43753304413450284, 'colsample_bylevel': 0.9014791032865171, 'n_estimators': 998}. Best is trial 31 with value: -0.8469412052628588.\u001b[0m\n",
      "\u001b[32m[I 2021-07-27 02:09:48,899]\u001b[0m Trial 44 finished with value: -0.8314623459506503 and parameters: {'eta': 0.05085675345901995, 'max_depth': 5, 'gamma': 0.6547679222220526, 'subsample': 0.18377612289033787, 'colsample_bylevel': 0.7360055084962613, 'n_estimators': 945}. Best is trial 31 with value: -0.8469412052628588.\u001b[0m\n",
      "\u001b[32m[I 2021-07-27 02:10:17,523]\u001b[0m Trial 45 finished with value: -0.7788505999008289 and parameters: {'eta': 0.35564134253606605, 'max_depth': 6, 'gamma': 0.8988787970028818, 'subsample': 0.3346132098753678, 'colsample_bylevel': 0.9312261548274973, 'n_estimators': 803}. Best is trial 31 with value: -0.8469412052628588.\u001b[0m\n",
      "\u001b[32m[I 2021-07-27 02:10:45,346]\u001b[0m Trial 46 finished with value: 1.1723066136956433 and parameters: {'eta': 0.00018269952530881116, 'max_depth': 4, 'gamma': 0.7969359801070515, 'subsample': 0.554272470214709, 'colsample_bylevel': 0.8281781707085926, 'n_estimators': 898}. Best is trial 31 with value: -0.8469412052628588.\u001b[0m\n",
      "\u001b[32m[I 2021-07-27 02:11:11,657]\u001b[0m Trial 47 finished with value: -0.8024905316123336 and parameters: {'eta': 0.004955774306975165, 'max_depth': 6, 'gamma': 0.7267175983079034, 'subsample': 0.24442089769850017, 'colsample_bylevel': 0.7007475555072453, 'n_estimators': 827}. Best is trial 31 with value: -0.8469412052628588.\u001b[0m\n",
      "\u001b[32m[I 2021-07-27 02:11:48,594]\u001b[0m Trial 48 finished with value: -0.843789210828082 and parameters: {'eta': 0.02636121136598512, 'max_depth': 6, 'gamma': 0.6516937405442758, 'subsample': 0.3969066595749627, 'colsample_bylevel': 0.8203695814891722, 'n_estimators': 980}. Best is trial 31 with value: -0.8469412052628588.\u001b[0m\n",
      "\u001b[32m[I 2021-07-27 02:12:24,929]\u001b[0m Trial 49 finished with value: -0.8369437129854195 and parameters: {'eta': 0.013739973069910613, 'max_depth': 6, 'gamma': 0.5831204114193849, 'subsample': 0.4089463168149952, 'colsample_bylevel': 0.6489085258194526, 'n_estimators': 955}. Best is trial 31 with value: -0.8469412052628588.\u001b[0m\n",
      "\u001b[32m[I 2021-07-27 02:13:09,881]\u001b[0m Trial 50 finished with value: -0.8435701879537728 and parameters: {'eta': 0.10053032622465627, 'max_depth': 7, 'gamma': 0.6792495131417969, 'subsample': 0.4577782176641169, 'colsample_bylevel': 0.5583314686967116, 'n_estimators': 993}. Best is trial 31 with value: -0.8469412052628588.\u001b[0m\n"
     ]
    },
    {
     "name": "stderr",
     "output_type": "stream",
     "text": [
      "\u001b[32m[I 2021-07-27 02:13:50,500]\u001b[0m Trial 51 finished with value: -0.8379960082330756 and parameters: {'eta': 0.12308212907343671, 'max_depth': 7, 'gamma': 0.6701575910371926, 'subsample': 0.3757201741256905, 'colsample_bylevel': 0.5530972617551209, 'n_estimators': 1000}. Best is trial 31 with value: -0.8469412052628588.\u001b[0m\n",
      "\u001b[32m[I 2021-07-27 02:14:26,767]\u001b[0m Trial 52 finished with value: -0.7817096640738916 and parameters: {'eta': 0.4261522782653247, 'max_depth': 6, 'gamma': 0.5687814181873001, 'subsample': 0.4472293034613867, 'colsample_bylevel': 0.4720070855056576, 'n_estimators': 985}. Best is trial 31 with value: -0.8469412052628588.\u001b[0m\n",
      "\u001b[32m[I 2021-07-27 02:15:07,216]\u001b[0m Trial 53 finished with value: -0.8446242109384947 and parameters: {'eta': 0.07260574183809197, 'max_depth': 7, 'gamma': 0.6551473317131118, 'subsample': 0.4117396770734222, 'colsample_bylevel': 0.8224318721083507, 'n_estimators': 919}. Best is trial 31 with value: -0.8469412052628588.\u001b[0m\n",
      "\u001b[32m[I 2021-07-27 02:15:34,465]\u001b[0m Trial 54 finished with value: -0.8386180555616715 and parameters: {'eta': 0.024494482542899425, 'max_depth': 6, 'gamma': 0.6455681200757323, 'subsample': 0.232795361381397, 'colsample_bylevel': 0.8261040235837265, 'n_estimators': 916}. Best is trial 31 with value: -0.8469412052628588.\u001b[0m\n",
      "\u001b[32m[I 2021-07-27 02:16:11,514]\u001b[0m Trial 55 finished with value: 0.23893963538110463 and parameters: {'eta': 0.9370079538210102, 'max_depth': 7, 'gamma': 0.7304576567268651, 'subsample': 0.4184490652714642, 'colsample_bylevel': 0.7383550799675563, 'n_estimators': 854}. Best is trial 31 with value: -0.8469412052628588.\u001b[0m\n",
      "\u001b[32m[I 2021-07-27 02:16:38,625]\u001b[0m Trial 56 finished with value: 1.8130941864231047 and parameters: {'eta': 9.15216423529584e-06, 'max_depth': 6, 'gamma': 0.6250661126754595, 'subsample': 0.30475121882539613, 'colsample_bylevel': 0.8924770504776265, 'n_estimators': 783}. Best is trial 31 with value: -0.8469412052628588.\u001b[0m\n",
      "\u001b[32m[I 2021-07-27 02:17:27,025]\u001b[0m Trial 57 finished with value: -0.8488581115353886 and parameters: {'eta': 0.0742797113602546, 'max_depth': 7, 'gamma': 0.4744646415859114, 'subsample': 0.6011643464490782, 'colsample_bylevel': 0.8199835546073562, 'n_estimators': 948}. Best is trial 57 with value: -0.8488581115353886.\u001b[0m\n",
      "\u001b[32m[I 2021-07-27 02:18:19,654]\u001b[0m Trial 58 finished with value: -0.8312794602237787 and parameters: {'eta': 0.21911637491589323, 'max_depth': 8, 'gamma': 0.5655726404927675, 'subsample': 0.6112829697160361, 'colsample_bylevel': 0.7550481766777052, 'n_estimators': 887}. Best is trial 57 with value: -0.8488581115353886.\u001b[0m\n",
      "\u001b[32m[I 2021-07-27 02:18:56,042]\u001b[0m Trial 59 finished with value: -0.8499196528279068 and parameters: {'eta': 0.0763904991004626, 'max_depth': 7, 'gamma': 0.45745224186522027, 'subsample': 0.5954405936114275, 'colsample_bylevel': 0.701538285031506, 'n_estimators': 718}. Best is trial 59 with value: -0.8499196528279068.\u001b[0m\n",
      "\u001b[32m[I 2021-07-27 02:19:32,003]\u001b[0m Trial 60 finished with value: 1.8480257002480207 and parameters: {'eta': 7.69409635617899e-08, 'max_depth': 7, 'gamma': 0.46848828530819286, 'subsample': 0.5812741426428921, 'colsample_bylevel': 0.6815935394790908, 'n_estimators': 707}. Best is trial 59 with value: -0.8499196528279068.\u001b[0m\n",
      "\u001b[32m[I 2021-07-27 02:20:17,102]\u001b[0m Trial 61 finished with value: -0.8489387002778415 and parameters: {'eta': 0.07397724842019479, 'max_depth': 8, 'gamma': 0.4384526764826982, 'subsample': 0.5564517887115871, 'colsample_bylevel': 0.7922676428340648, 'n_estimators': 773}. Best is trial 59 with value: -0.8499196528279068.\u001b[0m\n",
      "\u001b[32m[I 2021-07-27 02:21:02,941]\u001b[0m Trial 62 finished with value: -0.8449915567462296 and parameters: {'eta': 0.0879245055970931, 'max_depth': 8, 'gamma': 0.2830055643346828, 'subsample': 0.5606563632344698, 'colsample_bylevel': 0.786967303973926, 'n_estimators': 774}. Best is trial 59 with value: -0.8499196528279068.\u001b[0m\n",
      "\u001b[32m[I 2021-07-27 02:21:50,574]\u001b[0m Trial 63 finished with value: -0.84185791787874 and parameters: {'eta': 0.009971362180058693, 'max_depth': 8, 'gamma': 0.31531429470853645, 'subsample': 0.5583304353684247, 'colsample_bylevel': 0.7754765788361129, 'n_estimators': 773}. Best is trial 59 with value: -0.8499196528279068.\u001b[0m\n",
      "\u001b[32m[I 2021-07-27 02:22:36,640]\u001b[0m Trial 64 finished with value: -0.8309557738821092 and parameters: {'eta': 0.18999564937000835, 'max_depth': 8, 'gamma': 0.2160276914813581, 'subsample': 0.5004200461394392, 'colsample_bylevel': 0.7169964540988532, 'n_estimators': 829}. Best is trial 59 with value: -0.8499196528279068.\u001b[0m\n",
      "\u001b[32m[I 2021-07-27 02:23:27,951]\u001b[0m Trial 65 finished with value: -0.847487436979397 and parameters: {'eta': 0.08145054547311945, 'max_depth': 9, 'gamma': 0.44484810053901924, 'subsample': 0.6889179693717857, 'colsample_bylevel': 0.8932483414630317, 'n_estimators': 721}. Best is trial 59 with value: -0.8499196528279068.\u001b[0m\n",
      "\u001b[32m[I 2021-07-27 02:24:08,980]\u001b[0m Trial 66 finished with value: -0.7959977161574823 and parameters: {'eta': 0.4598585748521194, 'max_depth': 9, 'gamma': 0.3739025799816569, 'subsample': 0.7447354094647634, 'colsample_bylevel': 0.8920603002241081, 'n_estimators': 569}. Best is trial 59 with value: -0.8499196528279068.\u001b[0m\n",
      "\u001b[32m[I 2021-07-27 02:24:51,193]\u001b[0m Trial 67 finished with value: -0.7763202711546427 and parameters: {'eta': 0.003737647421767014, 'max_depth': 8, 'gamma': 0.4253535152302395, 'subsample': 0.6971146561257333, 'colsample_bylevel': 0.846611526462845, 'n_estimators': 643}. Best is trial 59 with value: -0.8499196528279068.\u001b[0m\n",
      "\u001b[32m[I 2021-07-27 02:25:50,253]\u001b[0m Trial 68 finished with value: -0.8422085566513179 and parameters: {'eta': 0.00905492576009407, 'max_depth': 9, 'gamma': 0.4896768293399602, 'subsample': 0.7883480844137224, 'colsample_bylevel': 0.9498426974289385, 'n_estimators': 720}. Best is trial 59 with value: -0.8499196528279068.\u001b[0m\n",
      "\u001b[32m[I 2021-07-27 02:26:27,137]\u001b[0m Trial 69 finished with value: -0.8498314778889725 and parameters: {'eta': 0.05853109176730957, 'max_depth': 7, 'gamma': 0.4441346384501946, 'subsample': 0.6321855042122541, 'colsample_bylevel': 0.9035264404746645, 'n_estimators': 702}. Best is trial 59 with value: -0.8499196528279068.\u001b[0m\n",
      "\u001b[32m[I 2021-07-27 02:26:56,600]\u001b[0m Trial 70 finished with value: -0.05375054502429113 and parameters: {'eta': 0.0012198649133255248, 'max_depth': 7, 'gamma': 0.44727940791889736, 'subsample': 0.6169050525150983, 'colsample_bylevel': 0.6644596653122227, 'n_estimators': 561}. Best is trial 59 with value: -0.8499196528279068.\u001b[0m\n",
      "\u001b[32m[I 2021-07-27 02:27:34,061]\u001b[0m Trial 71 finished with value: -0.8497780273071553 and parameters: {'eta': 0.042030317170359294, 'max_depth': 7, 'gamma': 0.5093328874755024, 'subsample': 0.653779591129754, 'colsample_bylevel': 0.9997137074258796, 'n_estimators': 695}. Best is trial 59 with value: -0.8499196528279068.\u001b[0m\n",
      "\u001b[32m[I 2021-07-27 02:28:11,312]\u001b[0m Trial 72 finished with value: -0.8488446027507601 and parameters: {'eta': 0.07994345531414157, 'max_depth': 7, 'gamma': 0.39851308296104104, 'subsample': 0.6521085663063267, 'colsample_bylevel': 0.9980551710468035, 'n_estimators': 693}. Best is trial 59 with value: -0.8499196528279068.\u001b[0m\n",
      "\u001b[32m[I 2021-07-27 02:28:53,230]\u001b[0m Trial 73 finished with value: -0.8400348545723242 and parameters: {'eta': 0.14439013389683666, 'max_depth': 8, 'gamma': 0.41131072627976234, 'subsample': 0.6446378424511046, 'colsample_bylevel': 0.9882843519124324, 'n_estimators': 683}. Best is trial 59 with value: -0.8499196528279068.\u001b[0m\n",
      "\u001b[32m[I 2021-07-27 02:29:33,323]\u001b[0m Trial 74 finished with value: -0.8506477757140022 and parameters: {'eta': 0.06997827866692546, 'max_depth': 7, 'gamma': 0.334121714916768, 'subsample': 0.6798819210284515, 'colsample_bylevel': 0.9562317175716785, 'n_estimators': 749}. Best is trial 74 with value: -0.8506477757140022.\u001b[0m\n",
      "\u001b[32m[I 2021-07-27 02:30:10,374]\u001b[0m Trial 75 finished with value: -0.8286825291729333 and parameters: {'eta': 0.2891836630279602, 'max_depth': 7, 'gamma': 0.34573462094710194, 'subsample': 0.6901007738037614, 'colsample_bylevel': 0.9627812204840239, 'n_estimators': 706}. Best is trial 74 with value: -0.8506477757140022.\u001b[0m\n",
      "\u001b[32m[I 2021-07-27 02:30:55,266]\u001b[0m Trial 76 finished with value: -0.8503085675464543 and parameters: {'eta': 0.05894484512041513, 'max_depth': 8, 'gamma': 0.2548753295017194, 'subsample': 0.5929008855174518, 'colsample_bylevel': 0.9996871425809579, 'n_estimators': 743}. Best is trial 74 with value: -0.8506477757140022.\u001b[0m\n"
     ]
    },
    {
     "name": "stderr",
     "output_type": "stream",
     "text": [
      "\u001b[32m[I 2021-07-27 02:31:40,646]\u001b[0m Trial 77 finished with value: -0.6923097866312837 and parameters: {'eta': 0.6721687404008444, 'max_depth': 8, 'gamma': 0.24770562553481187, 'subsample': 0.5893878055290196, 'colsample_bylevel': 0.9914264767680417, 'n_estimators': 751}. Best is trial 74 with value: -0.8506477757140022.\u001b[0m\n",
      "\u001b[32m[I 2021-07-27 02:32:15,406]\u001b[0m Trial 78 finished with value: -0.8401507399237895 and parameters: {'eta': 0.014897209323211678, 'max_depth': 7, 'gamma': 0.3879983618957526, 'subsample': 0.7186405813171135, 'colsample_bylevel': 0.9565236374847385, 'n_estimators': 613}. Best is trial 74 with value: -0.8506477757140022.\u001b[0m\n",
      "\u001b[32m[I 2021-07-27 02:32:55,593]\u001b[0m Trial 79 finished with value: -0.8514218598562652 and parameters: {'eta': 0.05686235734304286, 'max_depth': 8, 'gamma': 0.12989814770841485, 'subsample': 0.637526326585875, 'colsample_bylevel': 0.8634962335696391, 'n_estimators': 650}. Best is trial 79 with value: -0.8514218598562652.\u001b[0m\n",
      "\u001b[32m[I 2021-07-27 02:33:33,674]\u001b[0m Trial 80 finished with value: -0.8503868757902632 and parameters: {'eta': 0.05322258793738066, 'max_depth': 8, 'gamma': 0.11972160241035268, 'subsample': 0.531881397952542, 'colsample_bylevel': 0.8735364040363911, 'n_estimators': 654}. Best is trial 79 with value: -0.8514218598562652.\u001b[0m\n",
      "\u001b[32m[I 2021-07-27 02:34:11,744]\u001b[0m Trial 81 finished with value: -0.8499824830803316 and parameters: {'eta': 0.04712025622731642, 'max_depth': 8, 'gamma': 0.08985460277650656, 'subsample': 0.5311082256100149, 'colsample_bylevel': 0.8522986912760553, 'n_estimators': 656}. Best is trial 79 with value: -0.8514218598562652.\u001b[0m\n",
      "\u001b[32m[I 2021-07-27 02:34:48,343]\u001b[0m Trial 82 finished with value: -0.8501401661852992 and parameters: {'eta': 0.02930146531800671, 'max_depth': 8, 'gamma': 0.051624957230373615, 'subsample': 0.4834281775789485, 'colsample_bylevel': 0.8565291940451825, 'n_estimators': 658}. Best is trial 79 with value: -0.8514218598562652.\u001b[0m\n",
      "\u001b[32m[I 2021-07-27 02:35:26,084]\u001b[0m Trial 83 finished with value: -0.8506721686683587 and parameters: {'eta': 0.037006711885536246, 'max_depth': 8, 'gamma': 0.07252866970127331, 'subsample': 0.5274833888387068, 'colsample_bylevel': 0.920900433663235, 'n_estimators': 645}. Best is trial 79 with value: -0.8514218598562652.\u001b[0m\n",
      "\u001b[32m[I 2021-07-27 02:36:03,919]\u001b[0m Trial 84 finished with value: -0.8485580492919876 and parameters: {'eta': 0.02141159581145747, 'max_depth': 8, 'gamma': 0.07806754450652198, 'subsample': 0.5253232023603668, 'colsample_bylevel': 0.857070204226513, 'n_estimators': 655}. Best is trial 79 with value: -0.8514218598562652.\u001b[0m\n",
      "\u001b[32m[I 2021-07-27 02:36:44,528]\u001b[0m Trial 85 finished with value: -0.849661904671661 and parameters: {'eta': 0.030220558876372827, 'max_depth': 9, 'gamma': 0.052389727167792284, 'subsample': 0.4786809131632105, 'colsample_bylevel': 0.8748030544052176, 'n_estimators': 630}. Best is trial 79 with value: -0.8514218598562652.\u001b[0m\n",
      "\u001b[32m[I 2021-07-27 02:37:17,720]\u001b[0m Trial 86 finished with value: -0.831302879101707 and parameters: {'eta': 0.1702133865177414, 'max_depth': 8, 'gamma': 0.1442776580590721, 'subsample': 0.47929625980907187, 'colsample_bylevel': 0.9188798098108156, 'n_estimators': 594}. Best is trial 79 with value: -0.8514218598562652.\u001b[0m\n",
      "\u001b[32m[I 2021-07-27 02:38:03,055]\u001b[0m Trial 87 finished with value: -0.845326268972036 and parameters: {'eta': 0.012549287586617887, 'max_depth': 9, 'gamma': 0.03188248733761988, 'subsample': 0.5251343477894318, 'colsample_bylevel': 0.8719540044943994, 'n_estimators': 668}. Best is trial 79 with value: -0.8514218598562652.\u001b[0m\n",
      "\u001b[32m[I 2021-07-27 02:38:40,219]\u001b[0m Trial 88 finished with value: -0.8275398978748045 and parameters: {'eta': 0.007201744787931447, 'max_depth': 8, 'gamma': 0.11660463951284443, 'subsample': 0.6311472343248696, 'colsample_bylevel': 0.9294114610162345, 'n_estimators': 577}. Best is trial 79 with value: -0.8514218598562652.\u001b[0m\n",
      "\u001b[32m[I 2021-07-27 02:39:24,707]\u001b[0m Trial 89 finished with value: -0.8509046624493297 and parameters: {'eta': 0.05238624405350585, 'max_depth': 8, 'gamma': 0.21376680937877113, 'subsample': 0.5794207788618224, 'colsample_bylevel': 0.9686740464814252, 'n_estimators': 738}. Best is trial 79 with value: -0.8514218598562652.\u001b[0m\n",
      "\u001b[32m[I 2021-07-27 02:40:12,372]\u001b[0m Trial 90 finished with value: -0.8166247048026362 and parameters: {'eta': 0.27423595008890744, 'max_depth': 8, 'gamma': 0.17732101304818543, 'subsample': 0.5758657456514297, 'colsample_bylevel': 0.9527935577003476, 'n_estimators': 800}. Best is trial 79 with value: -0.8514218598562652.\u001b[0m\n",
      "\u001b[32m[I 2021-07-27 02:40:55,661]\u001b[0m Trial 91 finished with value: -0.8511109546748197 and parameters: {'eta': 0.043875983040217295, 'max_depth': 8, 'gamma': 0.18969953218547922, 'subsample': 0.5393924363122139, 'colsample_bylevel': 0.9775930028101454, 'n_estimators': 738}. Best is trial 79 with value: -0.8514218598562652.\u001b[0m\n",
      "\u001b[32m[I 2021-07-27 02:41:33,141]\u001b[0m Trial 92 finished with value: -0.8506912118318068 and parameters: {'eta': 0.03056131135387854, 'max_depth': 8, 'gamma': 0.19029823323581796, 'subsample': 0.5465534541702848, 'colsample_bylevel': 0.8460255366637176, 'n_estimators': 638}. Best is trial 79 with value: -0.8514218598562652.\u001b[0m\n",
      "\u001b[32m[I 2021-07-27 02:42:24,093]\u001b[0m Trial 93 finished with value: -0.849133030298395 and parameters: {'eta': 0.019914244468183497, 'max_depth': 9, 'gamma': 0.19149147193148675, 'subsample': 0.5386978397388683, 'colsample_bylevel': 0.965497526031767, 'n_estimators': 739}. Best is trial 79 with value: -0.8514218598562652.\u001b[0m\n",
      "\u001b[32m[I 2021-07-27 02:43:00,689]\u001b[0m Trial 94 finished with value: -0.8501492309540597 and parameters: {'eta': 0.03661106977118832, 'max_depth': 8, 'gamma': 0.13654966397320636, 'subsample': 0.5089457571555267, 'colsample_bylevel': 0.8405506319158333, 'n_estimators': 641}. Best is trial 79 with value: -0.8514218598562652.\u001b[0m\n",
      "\u001b[32m[I 2021-07-27 02:43:37,781]\u001b[0m Trial 95 finished with value: -0.7748268944544157 and parameters: {'eta': 0.0038444482541416633, 'max_depth': 8, 'gamma': 0.13921998368450927, 'subsample': 0.5003995052082615, 'colsample_bylevel': 0.9289725379594834, 'n_estimators': 621}. Best is trial 79 with value: -0.8514218598562652.\u001b[0m\n",
      "\u001b[32m[I 2021-07-27 02:44:13,920]\u001b[0m Trial 96 finished with value: -0.848371100381676 and parameters: {'eta': 0.03660528682285313, 'max_depth': 9, 'gamma': 0.22929998965909743, 'subsample': 0.481025945788343, 'colsample_bylevel': 0.9726633273688737, 'n_estimators': 550}. Best is trial 79 with value: -0.8514218598562652.\u001b[0m\n",
      "\u001b[32m[I 2021-07-27 02:44:23,311]\u001b[0m Trial 97 finished with value: -0.6491502780007355 and parameters: {'eta': 0.016405991424750493, 'max_depth': 1, 'gamma': 0.26406532186894527, 'subsample': 0.572678976903233, 'colsample_bylevel': 0.8750534445310088, 'n_estimators': 639}. Best is trial 79 with value: -0.8514218598562652.\u001b[0m\n",
      "\u001b[32m[I 2021-07-27 02:44:56,068]\u001b[0m Trial 98 finished with value: -0.8486542906483923 and parameters: {'eta': 0.025328190734964773, 'max_depth': 8, 'gamma': 0.12115880638184012, 'subsample': 0.4538264701037542, 'colsample_bylevel': 0.809620728076648, 'n_estimators': 598}. Best is trial 79 with value: -0.8514218598562652.\u001b[0m\n",
      "\u001b[32m[I 2021-07-27 02:45:38,988]\u001b[0m Trial 99 finished with value: -0.8424474749995206 and parameters: {'eta': 0.10847168960671433, 'max_depth': 8, 'gamma': 0.20066539422343135, 'subsample': 0.5048892339321426, 'colsample_bylevel': 0.9396307860020854, 'n_estimators': 752}. Best is trial 79 with value: -0.8514218598562652.\u001b[0m\n"
     ]
    },
    {
     "name": "stdout",
     "output_type": "stream",
     "text": [
      "{'eta': 0.05686235734304286, 'max_depth': 8, 'gamma': 0.12989814770841485, 'subsample': 0.637526326585875, 'colsample_bylevel': 0.8634962335696391, 'n_estimators': 650}\n",
      "-0.8514218598562652\n",
      "FrozenTrial(number=79, values=[-0.8514218598562652], datetime_start=datetime.datetime(2021, 7, 27, 2, 32, 15, 407769), datetime_complete=datetime.datetime(2021, 7, 27, 2, 32, 55, 592589), params={'eta': 0.05686235734304286, 'max_depth': 8, 'gamma': 0.12989814770841485, 'subsample': 0.637526326585875, 'colsample_bylevel': 0.8634962335696391, 'n_estimators': 650}, distributions={'eta': LogUniformDistribution(high=1.0, low=1e-08), 'max_depth': IntUniformDistribution(high=9, low=1, step=1), 'gamma': UniformDistribution(high=1.0, low=0.0), 'subsample': UniformDistribution(high=1.0, low=0.0), 'colsample_bylevel': UniformDistribution(high=1.0, low=0.0), 'n_estimators': IntUniformDistribution(high=1000, low=10, step=1)}, user_attrs={}, system_attrs={}, intermediate_values={}, trial_id=79, state=TrialState.COMPLETE, value=None)\n"
     ]
    }
   ],
   "source": [
    "def objective(trial):\n",
    "    params = {\n",
    "        # 損失関数は2乗誤差\n",
    "        'objective': 'reg:squarederror',\n",
    "        # logスケールで10^-8～1の一様分布\n",
    "        'eta': trial.suggest_loguniform('eta', 1e-8, 1.0),\n",
    "        # 1～9の整数で一様分布\n",
    "        'max_depth': trial.suggest_int('max_depth', 1, 9),\n",
    "        # 0～1の一様分布\n",
    "        'gamma': trial.suggest_uniform('gamma', 0, 1),\n",
    "        # 0～1の一様分布\n",
    "        'subsample': trial.suggest_uniform('subsample', 0, 1),\n",
    "        # 0～1の一様分布\n",
    "        'colsample_bylevel': trial.suggest_uniform('colsample_bylevel', 0, 1),\n",
    "        # 10～1000の整数で一様分布\n",
    "        'n_estimators': trial.suggest_int('n_estimators', 10, 1000)\n",
    "    }\n",
    "\n",
    "    scores = []\n",
    "    for train_index, test_index in KFold(n_splits=5, shuffle=True, random_state=42).split(df):\n",
    "        x_train, x_test = df.values[train_index], df.values[test_index]\n",
    "        y_train, y_test = housing['target'][train_index], housing['target'][test_index]\n",
    "\n",
    "        model = xgb.XGBRegressor(**params)\n",
    "        model.fit(x_train, y_train)\n",
    "        scores += [model.score(x_test, y_test)]\n",
    "    scores = np.array(scores)\n",
    "    # スコアの負を返す（目的関数を最小化するため）\n",
    "    return -scores.mean()\n",
    "\n",
    "if __name__ == '__main__':\n",
    "\n",
    "    study = optuna.create_study()\n",
    "    study.optimize(objective, n_trials=100)\n",
    "\n",
    "    print(study.best_params)\n",
    "    print(study.best_value)\n",
    "    print(study.best_trial)"
   ]
  },
  {
   "cell_type": "code",
   "execution_count": 13,
   "id": "eac6275f",
   "metadata": {
    "scrolled": true
   },
   "outputs": [
    {
     "name": "stderr",
     "output_type": "stream",
     "text": [
      "\u001b[32m[I 2021-07-27 02:45:39,031]\u001b[0m A new study created in memory with name: no-name-c52a8f9e-96b7-4f2f-b176-00a540ad0137\u001b[0m\n",
      "\u001b[32m[I 2021-07-27 02:45:59,479]\u001b[0m Trial 0 finished with value: -0.6653023639212592 and parameters: {'eta': 0.007096828884059276, 'max_depth': 1, 'gamma': 0.5052991585791321, 'subsample': 0.12452332632105112, 'colsample_bylevel': 0.2870637974664868, 'n_estimators': 1941}. Best is trial 0 with value: -0.6653023639212592.\u001b[0m\n",
      "\u001b[32m[I 2021-07-27 02:48:50,170]\u001b[0m Trial 1 finished with value: -0.8479037476027459 and parameters: {'eta': 0.07094147174833376, 'max_depth': 7, 'gamma': 0.2536075947055695, 'subsample': 0.4516004245998301, 'colsample_bylevel': 0.588118043108562, 'n_estimators': 3951}. Best is trial 1 with value: -0.8479037476027459.\u001b[0m\n",
      "\u001b[32m[I 2021-07-27 02:55:04,619]\u001b[0m Trial 2 finished with value: 0.5860440505146226 and parameters: {'eta': 4.2853567395960576e-05, 'max_depth': 9, 'gamma': 0.38128212000429007, 'subsample': 0.20150987068483472, 'colsample_bylevel': 0.8883110777060154, 'n_estimators': 8116}. Best is trial 1 with value: -0.8479037476027459.\u001b[0m\n",
      "\u001b[32m[I 2021-07-27 02:55:46,651]\u001b[0m Trial 3 finished with value: -0.776550224203454 and parameters: {'eta': 0.558991144567688, 'max_depth': 5, 'gamma': 0.9395240207389152, 'subsample': 0.5389818196610733, 'colsample_bylevel': 0.10000346778158953, 'n_estimators': 1602}. Best is trial 1 with value: -0.8479037476027459.\u001b[0m\n",
      "\u001b[32m[I 2021-07-27 02:58:36,498]\u001b[0m Trial 4 finished with value: -0.8273849815800087 and parameters: {'eta': 0.17147338525302344, 'max_depth': 2, 'gamma': 0.9656195595372614, 'subsample': 0.8104313239901948, 'colsample_bylevel': 0.9716000823109162, 'n_estimators': 8444}. Best is trial 1 with value: -0.8479037476027459.\u001b[0m\n",
      "\u001b[32m[I 2021-07-27 03:00:02,551]\u001b[0m Trial 5 finished with value: 1.8480239689403557 and parameters: {'eta': 1.6826102002091636e-08, 'max_depth': 1, 'gamma': 0.1789160689663234, 'subsample': 0.5210231809335168, 'colsample_bylevel': 0.6425088682485406, 'n_estimators': 6371}. Best is trial 1 with value: -0.8479037476027459.\u001b[0m\n",
      "\u001b[32m[I 2021-07-27 03:01:59,671]\u001b[0m Trial 6 finished with value: -0.8260882682717334 and parameters: {'eta': 0.3619638902890492, 'max_depth': 4, 'gamma': 0.9098499647977804, 'subsample': 0.7218625983014926, 'colsample_bylevel': 0.4740937937124221, 'n_estimators': 3951}. Best is trial 1 with value: -0.8479037476027459.\u001b[0m\n",
      "\u001b[32m[I 2021-07-27 03:02:20,837]\u001b[0m Trial 7 finished with value: 1.8472983223182335 and parameters: {'eta': 1.438703662604497e-07, 'max_depth': 1, 'gamma': 0.8403359667853296, 'subsample': 0.37614734409779127, 'colsample_bylevel': 0.22535028004976032, 'n_estimators': 1803}. Best is trial 1 with value: -0.8479037476027459.\u001b[0m\n",
      "\u001b[32m[I 2021-07-27 03:05:55,613]\u001b[0m Trial 8 finished with value: -0.8213377597349864 and parameters: {'eta': 0.0011306337093735944, 'max_depth': 6, 'gamma': 0.8692742265663371, 'subsample': 0.5263318239803565, 'colsample_bylevel': 0.6498266686753202, 'n_estimators': 5267}. Best is trial 1 with value: -0.8479037476027459.\u001b[0m\n",
      "\u001b[32m[I 2021-07-27 03:06:45,730]\u001b[0m Trial 9 finished with value: 1.0090275870024334 and parameters: {'eta': 7.190838443176723e-05, 'max_depth': 4, 'gamma': 0.2903423513687401, 'subsample': 0.08193445589128523, 'colsample_bylevel': 0.2350299802557141, 'n_estimators': 3432}. Best is trial 1 with value: -0.8479037476027459.\u001b[0m\n",
      "\u001b[32m[I 2021-07-27 03:07:03,326]\u001b[0m Trial 10 finished with value: 1.8462775525850095 and parameters: {'eta': 1.946287195454615e-06, 'max_depth': 9, 'gamma': 0.06897011015726284, 'subsample': 0.9858279399253409, 'colsample_bylevel': 0.8027330626850746, 'n_estimators': 204}. Best is trial 1 with value: -0.8479037476027459.\u001b[0m\n",
      "\u001b[32m[I 2021-07-27 03:15:01,125]\u001b[0m Trial 11 finished with value: -0.8546065588923977 and parameters: {'eta': 0.029859593661459034, 'max_depth': 7, 'gamma': 0.5782921731901621, 'subsample': 0.8000116151969712, 'colsample_bylevel': 0.9758552460137874, 'n_estimators': 8620}. Best is trial 11 with value: -0.8546065588923977.\u001b[0m\n",
      "\u001b[32m[I 2021-07-27 03:23:27,719]\u001b[0m Trial 12 finished with value: -0.8538837255550435 and parameters: {'eta': 0.0036957078825174674, 'max_depth': 7, 'gamma': 0.6197994353161285, 'subsample': 0.741175299234406, 'colsample_bylevel': 0.44570455469977116, 'n_estimators': 9784}. Best is trial 11 with value: -0.8546065588923977.\u001b[0m\n",
      "\u001b[32m[I 2021-07-27 03:32:39,211]\u001b[0m Trial 13 finished with value: -0.853717157462933 and parameters: {'eta': 0.005678779211958588, 'max_depth': 7, 'gamma': 0.6745814000627333, 'subsample': 0.9987240396667048, 'colsample_bylevel': 0.4511705772805149, 'n_estimators': 9603}. Best is trial 11 with value: -0.8546065588923977.\u001b[0m\n",
      "\u001b[32m[I 2021-07-27 03:42:07,682]\u001b[0m Trial 14 finished with value: -0.8364668150545219 and parameters: {'eta': 0.0007899082440907271, 'max_depth': 8, 'gamma': 0.6314534275571424, 'subsample': 0.7794188082662652, 'colsample_bylevel': 0.35873319686149596, 'n_estimators': 9785}. Best is trial 11 with value: -0.8546065588923977.\u001b[0m\n",
      "\u001b[32m[I 2021-07-27 03:47:08,174]\u001b[0m Trial 15 finished with value: -0.8469210842172664 and parameters: {'eta': 0.021609108009708028, 'max_depth': 7, 'gamma': 0.6737203689877229, 'subsample': 0.6695833643412034, 'colsample_bylevel': 0.025914569365622198, 'n_estimators': 7734}. Best is trial 11 with value: -0.8546065588923977.\u001b[0m\n",
      "\u001b[32m[I 2021-07-27 03:55:35,149]\u001b[0m Trial 16 finished with value: -0.8134008576495763 and parameters: {'eta': 0.00046689203937621795, 'max_depth': 6, 'gamma': 0.4810033273119261, 'subsample': 0.8912110230837179, 'colsample_bylevel': 0.7834114492497348, 'n_estimators': 9943}. Best is trial 11 with value: -0.8546065588923977.\u001b[0m\n",
      "\u001b[32m[I 2021-07-27 04:02:21,148]\u001b[0m Trial 17 finished with value: 1.5604262379205918 and parameters: {'eta': 9.047856664973047e-06, 'max_depth': 8, 'gamma': 0.5565845362535251, 'subsample': 0.6550165164090749, 'colsample_bylevel': 0.5538836622670924, 'n_estimators': 6726}. Best is trial 11 with value: -0.8546065588923977.\u001b[0m\n",
      "\u001b[32m[I 2021-07-27 04:11:33,376]\u001b[0m Trial 18 finished with value: -0.8562961078380413 and parameters: {'eta': 0.01147815287190077, 'max_depth': 8, 'gamma': 0.7652662481066801, 'subsample': 0.8892113223880413, 'colsample_bylevel': 0.3861668460259729, 'n_estimators': 8968}. Best is trial 18 with value: -0.8562961078380413.\u001b[0m\n",
      "\u001b[32m[I 2021-07-27 04:20:06,125]\u001b[0m Trial 19 finished with value: -0.8459024210947177 and parameters: {'eta': 0.05164931235862858, 'max_depth': 9, 'gamma': 0.8009946476008877, 'subsample': 0.8997121426854532, 'colsample_bylevel': 0.1310900643689425, 'n_estimators': 8636}. Best is trial 18 with value: -0.8562961078380413.\u001b[0m\n",
      "\u001b[32m[I 2021-07-27 04:27:12,681]\u001b[0m Trial 20 finished with value: -0.8093558839148212 and parameters: {'eta': 0.5637699592814901, 'max_depth': 8, 'gamma': 0.7608792784535093, 'subsample': 0.8886843832332516, 'colsample_bylevel': 0.38647988502430874, 'n_estimators': 6981}. Best is trial 18 with value: -0.8562961078380413.\u001b[0m\n",
      "\u001b[32m[I 2021-07-27 04:33:19,942]\u001b[0m Trial 21 finished with value: -0.8492813789901179 and parameters: {'eta': 0.005243265289118369, 'max_depth': 6, 'gamma': 0.7320240556100464, 'subsample': 0.7640460654747236, 'colsample_bylevel': 0.365799625371578, 'n_estimators': 9036}. Best is trial 18 with value: -0.8562961078380413.\u001b[0m\n",
      "\u001b[32m[I 2021-07-27 04:41:15,923]\u001b[0m Trial 22 finished with value: -0.856212644367354 and parameters: {'eta': 0.015433308071209436, 'max_depth': 8, 'gamma': 0.5910980487470379, 'subsample': 0.9975583834719716, 'colsample_bylevel': 0.4935336149760428, 'n_estimators': 7584}. Best is trial 18 with value: -0.8562961078380413.\u001b[0m\n",
      "\u001b[32m[I 2021-07-27 04:49:30,408]\u001b[0m Trial 23 finished with value: -0.8542282964476406 and parameters: {'eta': 0.016960499582948787, 'max_depth': 8, 'gamma': 0.4384323836428547, 'subsample': 0.9973287976024492, 'colsample_bylevel': 0.7275012271042897, 'n_estimators': 7483}. Best is trial 18 with value: -0.8562961078380413.\u001b[0m\n",
      "\u001b[32m[I 2021-07-27 04:56:35,775]\u001b[0m Trial 24 finished with value: -0.850577542057005 and parameters: {'eta': 0.09873927087222313, 'max_depth': 9, 'gamma': 0.56721200690099, 'subsample': 0.9041734805488966, 'colsample_bylevel': 0.5290715856494415, 'n_estimators': 5914}. Best is trial 18 with value: -0.8562961078380413.\u001b[0m\n"
     ]
    },
    {
     "name": "stderr",
     "output_type": "stream",
     "text": [
      "\u001b[32m[I 2021-07-27 05:05:58,555]\u001b[0m Trial 25 finished with value: -0.7725834879899738 and parameters: {'eta': 0.0002815211226304635, 'max_depth': 8, 'gamma': 0.7275413431571195, 'subsample': 0.8492987945286916, 'colsample_bylevel': 0.30869466956729086, 'n_estimators': 8968}. Best is trial 18 with value: -0.8562961078380413.\u001b[0m\n",
      "\u001b[32m[I 2021-07-27 05:11:16,447]\u001b[0m Trial 26 finished with value: -0.8530036453803855 and parameters: {'eta': 0.025392488460348923, 'max_depth': 5, 'gamma': 0.35174596771502603, 'subsample': 0.9554955267746544, 'colsample_bylevel': 0.9937698996987949, 'n_estimators': 7479}. Best is trial 18 with value: -0.8562961078380413.\u001b[0m\n",
      "\u001b[32m[I 2021-07-27 05:17:41,314]\u001b[0m Trial 27 finished with value: -0.6096860444135903 and parameters: {'eta': 0.9453689740306038, 'max_depth': 6, 'gamma': 0.5364384116626889, 'subsample': 0.6282789503650784, 'colsample_bylevel': 0.6312930297683392, 'n_estimators': 8987}. Best is trial 18 with value: -0.8562961078380413.\u001b[0m\n",
      "\u001b[32m[I 2021-07-27 05:21:11,381]\u001b[0m Trial 28 finished with value: -0.8366767742526016 and parameters: {'eta': 0.0018561075114134605, 'max_depth': 7, 'gamma': 0.4449709187783658, 'subsample': 0.3311862228361902, 'colsample_bylevel': 0.4214598786944656, 'n_estimators': 5782}. Best is trial 18 with value: -0.8562961078380413.\u001b[0m\n",
      "\u001b[32m[I 2021-07-27 05:28:57,688]\u001b[0m Trial 29 finished with value: -0.8561584157415825 and parameters: {'eta': 0.0153605898354569, 'max_depth': 8, 'gamma': 0.6158302343275285, 'subsample': 0.9423935936977035, 'colsample_bylevel': 0.25595776983809526, 'n_estimators': 7977}. Best is trial 18 with value: -0.8562961078380413.\u001b[0m\n",
      "\u001b[32m[I 2021-07-27 05:36:28,159]\u001b[0m Trial 30 finished with value: 1.2874502049880454 and parameters: {'eta': 1.8615086310337082e-05, 'max_depth': 9, 'gamma': 0.6773972378938646, 'subsample': 0.9551120757063679, 'colsample_bylevel': 0.22419550755412765, 'n_estimators': 7274}. Best is trial 18 with value: -0.8562961078380413.\u001b[0m\n",
      "\u001b[32m[I 2021-07-27 05:44:02,586]\u001b[0m Trial 31 finished with value: -0.8560571311325219 and parameters: {'eta': 0.013077071798978056, 'max_depth': 8, 'gamma': 0.5913110318181563, 'subsample': 0.8270167032638926, 'colsample_bylevel': 0.30993995730718255, 'n_estimators': 7999}. Best is trial 18 with value: -0.8562961078380413.\u001b[0m\n",
      "\u001b[32m[I 2021-07-27 05:52:21,920]\u001b[0m Trial 32 finished with value: -0.6641996020017809 and parameters: {'eta': 0.0002120176713287667, 'max_depth': 8, 'gamma': 0.5013519011233151, 'subsample': 0.8601541804331981, 'colsample_bylevel': 0.2953284222907424, 'n_estimators': 7881}. Best is trial 18 with value: -0.8562961078380413.\u001b[0m\n",
      "\u001b[32m[I 2021-07-27 06:00:22,451]\u001b[0m Trial 33 finished with value: -0.8459316703320969 and parameters: {'eta': 0.011644003710958983, 'max_depth': 9, 'gamma': 0.6256195936352933, 'subsample': 0.9430586851173985, 'colsample_bylevel': 0.15474560324668674, 'n_estimators': 8057}. Best is trial 18 with value: -0.8562961078380413.\u001b[0m\n",
      "\u001b[32m[I 2021-07-27 06:06:16,920]\u001b[0m Trial 34 finished with value: -0.8474538179126047 and parameters: {'eta': 0.14584817550704327, 'max_depth': 8, 'gamma': 0.8093839977768086, 'subsample': 0.8293323623542678, 'colsample_bylevel': 0.31021675917667785, 'n_estimators': 6382}. Best is trial 18 with value: -0.8562961078380413.\u001b[0m\n",
      "\u001b[32m[I 2021-07-27 06:12:13,438]\u001b[0m Trial 35 finished with value: -0.8264575254526114 and parameters: {'eta': 0.0017878173385376787, 'max_depth': 7, 'gamma': 0.3955739607398022, 'subsample': 0.5871792683646737, 'colsample_bylevel': 0.02721488142236239, 'n_estimators': 9254}. Best is trial 18 with value: -0.8562961078380413.\u001b[0m\n",
      "\u001b[32m[I 2021-07-27 06:21:27,489]\u001b[0m Trial 36 finished with value: -0.8424762330683169 and parameters: {'eta': 0.21808173669174455, 'max_depth': 9, 'gamma': 0.758663086651594, 'subsample': 0.7150756495995914, 'colsample_bylevel': 0.4962903709665991, 'n_estimators': 8211}. Best is trial 18 with value: -0.8562961078380413.\u001b[0m\n",
      "\u001b[32m[I 2021-07-27 06:23:27,359]\u001b[0m Trial 37 finished with value: -0.6109546226627798 and parameters: {'eta': 0.04698640289362522, 'max_depth': 8, 'gamma': 0.6991336355088105, 'subsample': 0.004017075196626807, 'colsample_bylevel': 0.17979516646477714, 'n_estimators': 6940}. Best is trial 18 with value: -0.8562961078380413.\u001b[0m\n",
      "\u001b[32m[I 2021-07-27 06:25:10,036]\u001b[0m Trial 38 finished with value: -0.8288299109696075 and parameters: {'eta': 0.008999396034798863, 'max_depth': 4, 'gamma': 0.899316269228519, 'subsample': 0.4441060322991329, 'colsample_bylevel': 0.2586576753589284, 'n_estimators': 4219}. Best is trial 18 with value: -0.8562961078380413.\u001b[0m\n",
      "\u001b[32m[I 2021-07-27 06:30:15,739]\u001b[0m Trial 39 finished with value: -0.8281917969389061 and parameters: {'eta': 0.003141326838146261, 'max_depth': 6, 'gamma': 0.6123574982182682, 'subsample': 0.9483233459411717, 'colsample_bylevel': 0.07840437345820789, 'n_estimators': 8342}. Best is trial 18 with value: -0.8562961078380413.\u001b[0m\n",
      "\u001b[32m[I 2021-07-27 06:32:43,997]\u001b[0m Trial 40 finished with value: -0.8417620925167194 and parameters: {'eta': 0.08506008308758659, 'max_depth': 3, 'gamma': 0.4726224376133606, 'subsample': 0.8180222354084828, 'colsample_bylevel': 0.4013545706792383, 'n_estimators': 5917}. Best is trial 18 with value: -0.8562961078380413.\u001b[0m\n",
      "\u001b[32m[I 2021-07-27 06:39:41,159]\u001b[0m Trial 41 finished with value: -0.8558549685633944 and parameters: {'eta': 0.035396472191965664, 'max_depth': 7, 'gamma': 0.5610084513529809, 'subsample': 0.7918851129293951, 'colsample_bylevel': 0.3319627916657259, 'n_estimators': 8748}. Best is trial 18 with value: -0.8562961078380413.\u001b[0m\n",
      "\u001b[32m[I 2021-07-27 06:47:20,933]\u001b[0m Trial 42 finished with value: -0.8366301383528933 and parameters: {'eta': 0.31300014900034884, 'max_depth': 7, 'gamma': 0.999063281202323, 'subsample': 0.9194551527345834, 'colsample_bylevel': 0.34409261911408057, 'n_estimators': 9379}. Best is trial 18 with value: -0.8562961078380413.\u001b[0m\n",
      "\u001b[32m[I 2021-07-27 06:55:38,211]\u001b[0m Trial 43 finished with value: -0.8557555649464303 and parameters: {'eta': 0.010502805904019199, 'max_depth': 8, 'gamma': 0.5145607629087875, 'subsample': 0.8527469573358695, 'colsample_bylevel': 0.2740627144807982, 'n_estimators': 8530}. Best is trial 18 with value: -0.8562961078380413.\u001b[0m\n",
      "\u001b[32m[I 2021-07-27 07:04:34,336]\u001b[0m Trial 44 finished with value: -0.8546383001139454 and parameters: {'eta': 0.05494589506477018, 'max_depth': 9, 'gamma': 0.5905131858908379, 'subsample': 0.7051127807882336, 'colsample_bylevel': 0.56471410997324, 'n_estimators': 7839}. Best is trial 18 with value: -0.8562961078380413.\u001b[0m\n",
      "\u001b[32m[I 2021-07-27 07:09:08,066]\u001b[0m Trial 45 finished with value: -0.8471231373546253 and parameters: {'eta': 0.0030184673791750524, 'max_depth': 7, 'gamma': 0.5425155784569337, 'subsample': 0.9998527852487908, 'colsample_bylevel': 0.4846167928249586, 'n_estimators': 4669}. Best is trial 18 with value: -0.8562961078380413.\u001b[0m\n",
      "\u001b[32m[I 2021-07-27 07:16:22,704]\u001b[0m Trial 46 finished with value: -0.8163548423558394 and parameters: {'eta': 0.0009867909613422213, 'max_depth': 8, 'gamma': 0.6602145442533581, 'subsample': 0.7632663501344719, 'colsample_bylevel': 0.20535615174061558, 'n_estimators': 8761}. Best is trial 18 with value: -0.8562961078380413.\u001b[0m\n",
      "\u001b[32m[I 2021-07-27 07:18:47,811]\u001b[0m Trial 47 finished with value: -0.854378156795123 and parameters: {'eta': 0.027165129024989666, 'max_depth': 7, 'gamma': 0.402282015506116, 'subsample': 0.7877979333416607, 'colsample_bylevel': 0.3337977877883164, 'n_estimators': 3034}. Best is trial 18 with value: -0.8562961078380413.\u001b[0m\n",
      "\u001b[32m[I 2021-07-27 07:25:19,745]\u001b[0m Trial 48 finished with value: -0.8130594337233656 and parameters: {'eta': 0.6100543771958207, 'max_depth': 5, 'gamma': 0.32714513289944513, 'subsample': 0.9880392925457859, 'colsample_bylevel': 0.42065612257755847, 'n_estimators': 9946}. Best is trial 18 with value: -0.8562961078380413.\u001b[0m\n",
      "\u001b[32m[I 2021-07-27 07:33:01,599]\u001b[0m Trial 49 finished with value: -0.8559623332005298 and parameters: {'eta': 0.00692936740588563, 'max_depth': 9, 'gamma': 0.20665148996444554, 'subsample': 0.8792640621993895, 'colsample_bylevel': 0.2539369135238408, 'n_estimators': 6521}. Best is trial 18 with value: -0.8562961078380413.\u001b[0m\n"
     ]
    },
    {
     "name": "stderr",
     "output_type": "stream",
     "text": [
      "\u001b[32m[I 2021-07-27 07:37:22,974]\u001b[0m Trial 50 finished with value: -0.0031529869168297033 and parameters: {'eta': 0.00010906579357857243, 'max_depth': 9, 'gamma': 0.1992934646964149, 'subsample': 0.2654778713422907, 'colsample_bylevel': 0.07554616048741228, 'n_estimators': 6597}. Best is trial 18 with value: -0.8562961078380413.\u001b[0m\n",
      "\u001b[32m[I 2021-07-27 07:45:09,256]\u001b[0m Trial 51 finished with value: -0.8571142320280106 and parameters: {'eta': 0.008378469945855749, 'max_depth': 8, 'gamma': 0.06292942357771605, 'subsample': 0.8685845482170546, 'colsample_bylevel': 0.264700678879411, 'n_estimators': 7561}. Best is trial 51 with value: -0.8571142320280106.\u001b[0m\n",
      "\u001b[32m[I 2021-07-27 07:52:38,437]\u001b[0m Trial 52 finished with value: -0.8575094590050814 and parameters: {'eta': 0.012425639966320417, 'max_depth': 8, 'gamma': 0.005400528875512005, 'subsample': 0.8681803551696091, 'colsample_bylevel': 0.2554398555534336, 'n_estimators': 7164}. Best is trial 52 with value: -0.8575094590050814.\u001b[0m\n",
      "\u001b[32m[I 2021-07-27 07:59:00,962]\u001b[0m Trial 53 finished with value: -0.8272413493987884 and parameters: {'eta': 0.0017775479913473813, 'max_depth': 8, 'gamma': 0.036411598402095034, 'subsample': 0.9307851863440051, 'colsample_bylevel': 0.19734446125578478, 'n_estimators': 7201}. Best is trial 52 with value: -0.8575094590050814.\u001b[0m\n",
      "\u001b[32m[I 2021-07-27 08:07:05,928]\u001b[0m Trial 54 finished with value: -0.8582479608166187 and parameters: {'eta': 0.016775623872841653, 'max_depth': 8, 'gamma': 0.058441479929168115, 'subsample': 0.8411489382346067, 'colsample_bylevel': 0.45201822173523254, 'n_estimators': 7597}. Best is trial 54 with value: -0.8582479608166187.\u001b[0m\n",
      "\u001b[32m[I 2021-07-27 08:12:46,487]\u001b[0m Trial 55 finished with value: -0.8554263117852067 and parameters: {'eta': 0.10500458552327588, 'max_depth': 8, 'gamma': 0.10564102528725242, 'subsample': 0.9734980031553901, 'colsample_bylevel': 0.4504882854061132, 'n_estimators': 5417}. Best is trial 54 with value: -0.8582479608166187.\u001b[0m\n",
      "\u001b[32m[I 2021-07-27 08:20:16,450]\u001b[0m Trial 56 finished with value: -0.8228754854222176 and parameters: {'eta': 0.0006037881755298335, 'max_depth': 7, 'gamma': 0.008772078468810028, 'subsample': 0.9043879164306862, 'colsample_bylevel': 0.6120540084555834, 'n_estimators': 7556}. Best is trial 54 with value: -0.8582479608166187.\u001b[0m\n",
      "\u001b[32m[I 2021-07-27 08:28:04,078]\u001b[0m Trial 57 finished with value: -0.8584234262048259 and parameters: {'eta': 0.005910908158645953, 'max_depth': 8, 'gamma': 0.08891206135354651, 'subsample': 0.8622967913387135, 'colsample_bylevel': 0.5416287450622886, 'n_estimators': 6934}. Best is trial 57 with value: -0.8584234262048259.\u001b[0m\n",
      "\u001b[32m[I 2021-07-27 08:35:38,375]\u001b[0m Trial 58 finished with value: -0.8565949150751685 and parameters: {'eta': 0.00480751643527455, 'max_depth': 9, 'gamma': 0.138793353538223, 'subsample': 0.7433556293627352, 'colsample_bylevel': 0.5411485584345649, 'n_estimators': 6083}. Best is trial 57 with value: -0.8584234262048259.\u001b[0m\n",
      "\u001b[32m[I 2021-07-27 08:44:08,264]\u001b[0m Trial 59 finished with value: -0.8561446853296196 and parameters: {'eta': 0.004668627999370766, 'max_depth': 9, 'gamma': 0.11863272616498352, 'subsample': 0.676043468725662, 'colsample_bylevel': 0.6867460448409306, 'n_estimators': 6890}. Best is trial 57 with value: -0.8584234262048259.\u001b[0m\n",
      "\u001b[32m[I 2021-07-27 08:52:14,041]\u001b[0m Trial 60 finished with value: -0.7636828540379716 and parameters: {'eta': 0.00034903733346771493, 'max_depth': 9, 'gamma': 0.1495707801065101, 'subsample': 0.7301106829573575, 'colsample_bylevel': 0.5351590021137549, 'n_estimators': 6178}. Best is trial 57 with value: -0.8584234262048259.\u001b[0m\n",
      "\u001b[32m[I 2021-07-27 09:00:26,665]\u001b[0m Trial 61 finished with value: -0.8589105609504024 and parameters: {'eta': 0.006716840802880437, 'max_depth': 8, 'gamma': 0.060097452138558695, 'subsample': 0.8847218813487688, 'colsample_bylevel': 0.5771928190352562, 'n_estimators': 7210}. Best is trial 61 with value: -0.8589105609504024.\u001b[0m\n",
      "\u001b[32m[I 2021-07-27 09:06:39,234]\u001b[0m Trial 62 finished with value: -0.855775632711064 and parameters: {'eta': 0.004028199300981667, 'max_depth': 8, 'gamma': 0.059871116050855565, 'subsample': 0.86398690893508, 'colsample_bylevel': 0.5915127685208783, 'n_estimators': 5460}. Best is trial 61 with value: -0.8589105609504024.\u001b[0m\n",
      "\u001b[32m[I 2021-07-27 09:15:59,466]\u001b[0m Trial 63 finished with value: -0.8512992535907167 and parameters: {'eta': 0.0016178074317524066, 'max_depth': 9, 'gamma': 0.01053447467320532, 'subsample': 0.7519695918937841, 'colsample_bylevel': 0.6591589041646084, 'n_estimators': 7088}. Best is trial 61 with value: -0.8589105609504024.\u001b[0m\n",
      "\u001b[32m[I 2021-07-27 09:22:54,372]\u001b[0m Trial 64 finished with value: -0.8586997141600252 and parameters: {'eta': 0.00734964637206501, 'max_depth': 8, 'gamma': 0.08655463483269843, 'subsample': 0.8194232323421259, 'colsample_bylevel': 0.5346738527028193, 'n_estimators': 6297}. Best is trial 61 with value: -0.8589105609504024.\u001b[0m\n",
      "\u001b[32m[I 2021-07-27 09:28:40,743]\u001b[0m Trial 65 finished with value: 1.8478713177119694 and parameters: {'eta': 1.5513574384604408e-08, 'max_depth': 7, 'gamma': 0.09251940954018181, 'subsample': 0.8120637619988315, 'colsample_bylevel': 0.5616231684990983, 'n_estimators': 6140}. Best is trial 61 with value: -0.8589105609504024.\u001b[0m\n",
      "\u001b[32m[I 2021-07-27 09:34:11,879]\u001b[0m Trial 66 finished with value: -0.8562445617175609 and parameters: {'eta': 0.007456618548429748, 'max_depth': 8, 'gamma': 0.2622145610737388, 'subsample': 0.8294627142525987, 'colsample_bylevel': 0.707490176126143, 'n_estimators': 4881}. Best is trial 61 with value: -0.8589105609504024.\u001b[0m\n",
      "\u001b[32m[I 2021-07-27 09:39:27,704]\u001b[0m Trial 67 finished with value: 1.8209491022637672 and parameters: {'eta': 7.663748089276332e-07, 'max_depth': 6, 'gamma': 0.16317791423489214, 'subsample': 0.6196610727437636, 'colsample_bylevel': 0.5140146612638065, 'n_estimators': 7302}. Best is trial 61 with value: -0.8589105609504024.\u001b[0m\n",
      "\u001b[32m[I 2021-07-27 09:47:11,033]\u001b[0m Trial 68 finished with value: -0.8564458483735173 and parameters: {'eta': 0.021346839469966048, 'max_depth': 9, 'gamma': 0.0496018986893037, 'subsample': 0.8489349057318689, 'colsample_bylevel': 0.5934651645908037, 'n_estimators': 6046}. Best is trial 61 with value: -0.8589105609504024.\u001b[0m\n",
      "\u001b[32m[I 2021-07-27 09:54:09,650]\u001b[0m Trial 69 finished with value: -0.8540995348456122 and parameters: {'eta': 0.0028094234191059363, 'max_depth': 8, 'gamma': 0.1305857660653737, 'subsample': 0.698058651805545, 'colsample_bylevel': 0.4537288562312336, 'n_estimators': 6718}. Best is trial 61 with value: -0.8589105609504024.\u001b[0m\n",
      "\u001b[32m[I 2021-07-27 10:01:32,648]\u001b[0m Trial 70 finished with value: -0.8401774177444136 and parameters: {'eta': 0.0009586905343795059, 'max_depth': 8, 'gamma': 0.08104908176861637, 'subsample': 0.7446366256017904, 'colsample_bylevel': 0.7462967243114861, 'n_estimators': 6456}. Best is trial 61 with value: -0.8589105609504024.\u001b[0m\n",
      "\u001b[32m[I 2021-07-27 10:09:27,780]\u001b[0m Trial 71 finished with value: -0.8579503589657322 and parameters: {'eta': 0.015945694968584757, 'max_depth': 9, 'gamma': 0.041203403531348166, 'subsample': 0.8582628083634007, 'colsample_bylevel': 0.5796705625442593, 'n_estimators': 6106}. Best is trial 61 with value: -0.8589105609504024.\u001b[0m\n",
      "\u001b[32m[I 2021-07-27 10:16:47,136]\u001b[0m Trial 72 finished with value: -0.8564314185786724 and parameters: {'eta': 0.005917327761937122, 'max_depth': 9, 'gamma': 0.0010017318474125833, 'subsample': 0.7806308134298412, 'colsample_bylevel': 0.6279058777859845, 'n_estimators': 5528}. Best is trial 61 with value: -0.8589105609504024.\u001b[0m\n",
      "\u001b[32m[I 2021-07-27 10:22:16,691]\u001b[0m Trial 73 finished with value: -0.8576759890411768 and parameters: {'eta': 0.03623512450157764, 'max_depth': 8, 'gamma': 0.03233834032538413, 'subsample': 0.8793336841045865, 'colsample_bylevel': 0.5562412612677377, 'n_estimators': 5006}. Best is trial 61 with value: -0.8589105609504024.\u001b[0m\n",
      "\u001b[32m[I 2021-07-27 10:28:10,500]\u001b[0m Trial 74 finished with value: -0.8571280280351792 and parameters: {'eta': 0.037005652602355624, 'max_depth': 8, 'gamma': 0.02976231556415307, 'subsample': 0.8855682889048795, 'colsample_bylevel': 0.672341095394884, 'n_estimators': 5202}. Best is trial 61 with value: -0.8589105609504024.\u001b[0m\n"
     ]
    },
    {
     "name": "stderr",
     "output_type": "stream",
     "text": [
      "\u001b[32m[I 2021-07-27 10:32:38,375]\u001b[0m Trial 75 finished with value: -0.8556896717458062 and parameters: {'eta': 0.06233792870939471, 'max_depth': 7, 'gamma': 0.031807944839288005, 'subsample': 0.914820837141262, 'colsample_bylevel': 0.6617903077980307, 'n_estimators': 4461}. Best is trial 61 with value: -0.8589105609504024.\u001b[0m\n",
      "\u001b[32m[I 2021-07-27 10:38:26,648]\u001b[0m Trial 76 finished with value: -0.844595062428915 and parameters: {'eta': 0.17199905107936264, 'max_depth': 8, 'gamma': 0.021180397319860312, 'subsample': 0.8831960189631077, 'colsample_bylevel': 0.5772000097848005, 'n_estimators': 5110}. Best is trial 61 with value: -0.8589105609504024.\u001b[0m\n",
      "\u001b[32m[I 2021-07-27 10:42:19,501]\u001b[0m Trial 77 finished with value: -0.8550550330013816 and parameters: {'eta': 0.04080472896831694, 'max_depth': 7, 'gamma': 0.0922617806271786, 'subsample': 0.9711173957621061, 'colsample_bylevel': 0.8363750863922834, 'n_estimators': 3795}. Best is trial 61 with value: -0.8589105609504024.\u001b[0m\n",
      "\u001b[32m[I 2021-07-27 10:48:02,499]\u001b[0m Trial 78 finished with value: -0.8583931111581468 and parameters: {'eta': 0.020288691071613463, 'max_depth': 8, 'gamma': 0.18649362245870674, 'subsample': 0.8456906558957683, 'colsample_bylevel': 0.6161257351556221, 'n_estimators': 5170}. Best is trial 61 with value: -0.8589105609504024.\u001b[0m\n",
      "\u001b[32m[I 2021-07-27 10:52:40,444]\u001b[0m Trial 79 finished with value: -0.8588162119206224 and parameters: {'eta': 0.020008549669693, 'max_depth': 7, 'gamma': 0.18929262460646232, 'subsample': 0.7991286538732193, 'colsample_bylevel': 0.6129885200537258, 'n_estimators': 4888}. Best is trial 61 with value: -0.8589105609504024.\u001b[0m\n",
      "\u001b[32m[I 2021-07-27 10:58:00,297]\u001b[0m Trial 80 finished with value: -0.8506517639673425 and parameters: {'eta': 0.11447126873377939, 'max_depth': 7, 'gamma': 0.19217047595731745, 'subsample': 0.8058019284771031, 'colsample_bylevel': 0.5118719869782311, 'n_estimators': 5674}. Best is trial 61 with value: -0.8589105609504024.\u001b[0m\n",
      "\u001b[32m[I 2021-07-27 11:03:33,886]\u001b[0m Trial 81 finished with value: -0.8581971189127046 and parameters: {'eta': 0.017432779109826782, 'max_depth': 8, 'gamma': 0.2256688338410415, 'subsample': 0.8444833489096127, 'colsample_bylevel': 0.6108408026754035, 'n_estimators': 4953}. Best is trial 61 with value: -0.8589105609504024.\u001b[0m\n",
      "\u001b[32m[I 2021-07-27 11:08:52,408]\u001b[0m Trial 82 finished with value: -0.857920530031062 and parameters: {'eta': 0.021671180494001303, 'max_depth': 8, 'gamma': 0.22838260463686558, 'subsample': 0.8392043926920132, 'colsample_bylevel': 0.6048709490460918, 'n_estimators': 4806}. Best is trial 61 with value: -0.8589105609504024.\u001b[0m\n",
      "\u001b[32m[I 2021-07-27 11:13:34,112]\u001b[0m Trial 83 finished with value: -0.8582779251701662 and parameters: {'eta': 0.018139170747352253, 'max_depth': 8, 'gamma': 0.2304698913925992, 'subsample': 0.8351050406125569, 'colsample_bylevel': 0.6230150869588338, 'n_estimators': 4241}. Best is trial 61 with value: -0.8589105609504024.\u001b[0m\n",
      "\u001b[32m[I 2021-07-27 11:17:21,563]\u001b[0m Trial 84 finished with value: -0.855615163761074 and parameters: {'eta': 0.017351154767076424, 'max_depth': 9, 'gamma': 0.2847646651178992, 'subsample': 0.7740998035623882, 'colsample_bylevel': 0.6371168719300582, 'n_estimators': 3002}. Best is trial 61 with value: -0.8589105609504024.\u001b[0m\n",
      "\u001b[32m[I 2021-07-27 11:21:57,719]\u001b[0m Trial 85 finished with value: -0.8560743649245008 and parameters: {'eta': 0.06872592206621563, 'max_depth': 8, 'gamma': 0.22512944601490392, 'subsample': 0.8016879135106566, 'colsample_bylevel': 0.4752497482097857, 'n_estimators': 4430}. Best is trial 61 with value: -0.8589105609504024.\u001b[0m\n",
      "\u001b[32m[I 2021-07-27 11:25:24,020]\u001b[0m Trial 86 finished with value: -0.8577716086902238 and parameters: {'eta': 0.022959200848481985, 'max_depth': 7, 'gamma': 0.16917281354955305, 'subsample': 0.8444843698490148, 'colsample_bylevel': 0.6953003550467146, 'n_estimators': 3520}. Best is trial 61 with value: -0.8589105609504024.\u001b[0m\n",
      "\u001b[32m[I 2021-07-27 11:31:03,494]\u001b[0m Trial 87 finished with value: -0.8507852207259464 and parameters: {'eta': 0.002840876669948784, 'max_depth': 9, 'gamma': 0.24782554971444976, 'subsample': 0.9263154180382301, 'colsample_bylevel': 0.6125638487082553, 'n_estimators': 3970}. Best is trial 61 with value: -0.8589105609504024.\u001b[0m\n",
      "\u001b[32m[I 2021-07-27 11:36:01,022]\u001b[0m Trial 88 finished with value: -0.8285317183650882 and parameters: {'eta': 0.2996885399907347, 'max_depth': 8, 'gamma': 0.3227569999443558, 'subsample': 0.8178910753576786, 'colsample_bylevel': 0.7662953386366137, 'n_estimators': 4500}. Best is trial 61 with value: -0.8589105609504024.\u001b[0m\n",
      "\u001b[32m[I 2021-07-27 11:41:49,580]\u001b[0m Trial 89 finished with value: -0.8579034751422252 and parameters: {'eta': 0.010031335909853261, 'max_depth': 6, 'gamma': 0.11618727853873492, 'subsample': 0.9098741147908471, 'colsample_bylevel': 0.5356882798193815, 'n_estimators': 6883}. Best is trial 61 with value: -0.8589105609504024.\u001b[0m\n",
      "\u001b[32m[I 2021-07-27 11:45:41,056]\u001b[0m Trial 90 finished with value: -0.8579411532880732 and parameters: {'eta': 0.012965526524346212, 'max_depth': 7, 'gamma': 0.17561104966041335, 'subsample': 0.7658069482946486, 'colsample_bylevel': 0.5779802286066966, 'n_estimators': 4151}. Best is trial 61 with value: -0.8589105609504024.\u001b[0m\n",
      "\u001b[32m[I 2021-07-27 11:49:33,930]\u001b[0m Trial 91 finished with value: -0.8584321595462134 and parameters: {'eta': 0.014789003634098383, 'max_depth': 7, 'gamma': 0.1598618449502704, 'subsample': 0.7685193684695828, 'colsample_bylevel': 0.5066376724625923, 'n_estimators': 4168}. Best is trial 61 with value: -0.8589105609504024.\u001b[0m\n",
      "\u001b[32m[I 2021-07-27 11:52:32,176]\u001b[0m Trial 92 finished with value: -0.8572479927862512 and parameters: {'eta': 0.027369052426850133, 'max_depth': 6, 'gamma': 0.14769243022699222, 'subsample': 0.8336189032758725, 'colsample_bylevel': 0.5070537483197701, 'n_estimators': 3648}. Best is trial 61 with value: -0.8589105609504024.\u001b[0m\n",
      "\u001b[32m[I 2021-07-27 11:56:00,763]\u001b[0m Trial 93 finished with value: -0.8551900078572358 and parameters: {'eta': 0.006871519713787069, 'max_depth': 8, 'gamma': 0.07934894438232383, 'subsample': 0.7917447151405018, 'colsample_bylevel': 0.6380694254738496, 'n_estimators': 3044}. Best is trial 61 with value: -0.8589105609504024.\u001b[0m\n",
      "\u001b[32m[I 2021-07-27 11:59:12,471]\u001b[0m Trial 94 finished with value: -0.855809385376516 and parameters: {'eta': 0.01647114465214868, 'max_depth': 7, 'gamma': 0.21988134552115046, 'subsample': 0.4855543448588054, 'colsample_bylevel': 0.47279373031507, 'n_estimators': 4195}. Best is trial 61 with value: -0.8589105609504024.\u001b[0m\n",
      "\u001b[32m[I 2021-07-27 12:05:24,955]\u001b[0m Trial 95 finished with value: -0.8561969205912525 and parameters: {'eta': 0.05652020426730447, 'max_depth': 8, 'gamma': 0.10998171925440965, 'subsample': 0.8502128043186631, 'colsample_bylevel': 0.4163819625847853, 'n_estimators': 5783}. Best is trial 61 with value: -0.8589105609504024.\u001b[0m\n",
      "\u001b[32m[I 2021-07-27 12:11:52,156]\u001b[0m Trial 96 finished with value: -0.8498749621482389 and parameters: {'eta': 0.0023400404044580324, 'max_depth': 8, 'gamma': 0.24952422945597644, 'subsample': 0.8963047297014657, 'colsample_bylevel': 0.7216678687047235, 'n_estimators': 5245}. Best is trial 61 with value: -0.8589105609504024.\u001b[0m\n",
      "\u001b[32m[I 2021-07-27 12:15:03,529]\u001b[0m Trial 97 finished with value: -0.8497227893485085 and parameters: {'eta': 0.004589447324443324, 'max_depth': 7, 'gamma': 0.2826896552375817, 'subsample': 0.817330985586988, 'colsample_bylevel': 0.6160336014343515, 'n_estimators': 3331}. Best is trial 61 with value: -0.8589105609504024.\u001b[0m\n",
      "\u001b[32m[I 2021-07-27 12:22:52,445]\u001b[0m Trial 98 finished with value: -0.8571930698759409 and parameters: {'eta': 0.010891116147683877, 'max_depth': 9, 'gamma': 0.13165822371469232, 'subsample': 0.7201938193870916, 'colsample_bylevel': 0.5213340447648938, 'n_estimators': 6255}. Best is trial 61 with value: -0.8589105609504024.\u001b[0m\n",
      "\u001b[32m[I 2021-07-27 12:26:16,672]\u001b[0m Trial 99 finished with value: -0.812878909474744 and parameters: {'eta': 0.0014078949964892152, 'max_depth': 5, 'gamma': 0.18852821362731, 'subsample': 0.9653441211151037, 'colsample_bylevel': 0.5506690474152762, 'n_estimators': 4674}. Best is trial 61 with value: -0.8589105609504024.\u001b[0m\n"
     ]
    },
    {
     "name": "stdout",
     "output_type": "stream",
     "text": [
      "{'eta': 0.006716840802880437, 'max_depth': 8, 'gamma': 0.060097452138558695, 'subsample': 0.8847218813487688, 'colsample_bylevel': 0.5771928190352562, 'n_estimators': 7210}\n",
      "-0.8589105609504024\n",
      "FrozenTrial(number=61, values=[-0.8589105609504024], datetime_start=datetime.datetime(2021, 7, 27, 8, 52, 14, 42863), datetime_complete=datetime.datetime(2021, 7, 27, 9, 0, 26, 665743), params={'eta': 0.006716840802880437, 'max_depth': 8, 'gamma': 0.060097452138558695, 'subsample': 0.8847218813487688, 'colsample_bylevel': 0.5771928190352562, 'n_estimators': 7210}, distributions={'eta': LogUniformDistribution(high=1.0, low=1e-08), 'max_depth': IntUniformDistribution(high=9, low=1, step=1), 'gamma': UniformDistribution(high=1.0, low=0.0), 'subsample': UniformDistribution(high=1.0, low=0.0), 'colsample_bylevel': UniformDistribution(high=1.0, low=0.0), 'n_estimators': IntUniformDistribution(high=10000, low=100, step=1)}, user_attrs={}, system_attrs={}, intermediate_values={}, trial_id=61, state=TrialState.COMPLETE, value=None)\n"
     ]
    }
   ],
   "source": [
    "def objective(trial):\n",
    "    params = {\n",
    "        # 損失関数は2乗誤差\n",
    "        'objective': 'reg:squarederror',\n",
    "        # logスケールで10^-8～1の一様分布\n",
    "        'eta': trial.suggest_loguniform('eta', 1e-8, 1.0),\n",
    "        # 1～9の整数で一様分布\n",
    "        'max_depth': trial.suggest_int('max_depth', 1, 9),\n",
    "        # 0～1の一様分布\n",
    "        'gamma': trial.suggest_uniform('gamma', 0, 1),\n",
    "        # 0～1の一様分布\n",
    "        'subsample': trial.suggest_uniform('subsample', 0, 1),\n",
    "        # 0～1の一様分布\n",
    "        'colsample_bylevel': trial.suggest_uniform('colsample_bylevel', 0, 1),\n",
    "        # 10～1000の整数で一様分布\n",
    "        'n_estimators': trial.suggest_int('n_estimators', 100, 10000)\n",
    "    }\n",
    "\n",
    "    scores = []\n",
    "    for train_index, test_index in KFold(n_splits=5, shuffle=True, random_state=42).split(df):\n",
    "        x_train, x_test = df.values[train_index], df.values[test_index]\n",
    "        y_train, y_test = housing['target'][train_index], housing['target'][test_index]\n",
    "\n",
    "        model = xgb.XGBRegressor(**params)\n",
    "        model.fit(x_train, y_train)\n",
    "        scores += [model.score(x_test, y_test)]\n",
    "    scores = np.array(scores)\n",
    "    # スコアの負を返す（目的関数を最小化するため）\n",
    "    return -scores.mean()\n",
    "\n",
    "if __name__ == '__main__':\n",
    "\n",
    "    study2 = optuna.create_study()\n",
    "    study2.optimize(objective, n_trials=100)\n",
    "\n",
    "    print(study2.best_params)\n",
    "    print(study2.best_value)\n",
    "    print(study2.best_trial)"
   ]
  },
  {
   "cell_type": "code",
   "execution_count": 15,
   "id": "330dc8a8",
   "metadata": {},
   "outputs": [],
   "source": [
    "import pickle\n",
    "with open('xgb_study1.bin', mode=\"wb\") as f:\n",
    "    pickle.dump(study, f)"
   ]
  },
  {
   "cell_type": "code",
   "execution_count": 16,
   "id": "3017fe58",
   "metadata": {},
   "outputs": [],
   "source": [
    "with open('xgb_study2.bin', mode=\"wb\") as f:\n",
    "    pickle.dump(study2, f)"
   ]
  },
  {
   "cell_type": "code",
   "execution_count": 17,
   "id": "d92f3b08",
   "metadata": {},
   "outputs": [
    {
     "data": {
      "text/html": [
       "<div>\n",
       "<style scoped>\n",
       "    .dataframe tbody tr th:only-of-type {\n",
       "        vertical-align: middle;\n",
       "    }\n",
       "\n",
       "    .dataframe tbody tr th {\n",
       "        vertical-align: top;\n",
       "    }\n",
       "\n",
       "    .dataframe thead th {\n",
       "        text-align: right;\n",
       "    }\n",
       "</style>\n",
       "<table border=\"1\" class=\"dataframe\">\n",
       "  <thead>\n",
       "    <tr style=\"text-align: right;\">\n",
       "      <th></th>\n",
       "      <th>MedInc</th>\n",
       "      <th>HouseAge</th>\n",
       "      <th>AveRooms</th>\n",
       "      <th>AveBedrms</th>\n",
       "      <th>Population</th>\n",
       "      <th>AveOccup</th>\n",
       "      <th>Latitude</th>\n",
       "      <th>Longitude</th>\n",
       "    </tr>\n",
       "  </thead>\n",
       "  <tbody>\n",
       "    <tr>\n",
       "      <th>14196</th>\n",
       "      <td>3.2596</td>\n",
       "      <td>33.0</td>\n",
       "      <td>5.017657</td>\n",
       "      <td>1.006421</td>\n",
       "      <td>2300.0</td>\n",
       "      <td>3.691814</td>\n",
       "      <td>32.71</td>\n",
       "      <td>-117.03</td>\n",
       "    </tr>\n",
       "    <tr>\n",
       "      <th>8267</th>\n",
       "      <td>3.8125</td>\n",
       "      <td>49.0</td>\n",
       "      <td>4.473545</td>\n",
       "      <td>1.041005</td>\n",
       "      <td>1314.0</td>\n",
       "      <td>1.738095</td>\n",
       "      <td>33.77</td>\n",
       "      <td>-118.16</td>\n",
       "    </tr>\n",
       "    <tr>\n",
       "      <th>17445</th>\n",
       "      <td>4.1563</td>\n",
       "      <td>4.0</td>\n",
       "      <td>5.645833</td>\n",
       "      <td>0.985119</td>\n",
       "      <td>915.0</td>\n",
       "      <td>2.723214</td>\n",
       "      <td>34.66</td>\n",
       "      <td>-120.48</td>\n",
       "    </tr>\n",
       "    <tr>\n",
       "      <th>14265</th>\n",
       "      <td>1.9425</td>\n",
       "      <td>36.0</td>\n",
       "      <td>4.002817</td>\n",
       "      <td>1.033803</td>\n",
       "      <td>1418.0</td>\n",
       "      <td>3.994366</td>\n",
       "      <td>32.69</td>\n",
       "      <td>-117.11</td>\n",
       "    </tr>\n",
       "    <tr>\n",
       "      <th>2271</th>\n",
       "      <td>3.5542</td>\n",
       "      <td>43.0</td>\n",
       "      <td>6.268421</td>\n",
       "      <td>1.134211</td>\n",
       "      <td>874.0</td>\n",
       "      <td>2.300000</td>\n",
       "      <td>36.78</td>\n",
       "      <td>-119.80</td>\n",
       "    </tr>\n",
       "    <tr>\n",
       "      <th>...</th>\n",
       "      <td>...</td>\n",
       "      <td>...</td>\n",
       "      <td>...</td>\n",
       "      <td>...</td>\n",
       "      <td>...</td>\n",
       "      <td>...</td>\n",
       "      <td>...</td>\n",
       "      <td>...</td>\n",
       "    </tr>\n",
       "    <tr>\n",
       "      <th>11284</th>\n",
       "      <td>6.3700</td>\n",
       "      <td>35.0</td>\n",
       "      <td>6.129032</td>\n",
       "      <td>0.926267</td>\n",
       "      <td>658.0</td>\n",
       "      <td>3.032258</td>\n",
       "      <td>33.78</td>\n",
       "      <td>-117.96</td>\n",
       "    </tr>\n",
       "    <tr>\n",
       "      <th>11964</th>\n",
       "      <td>3.0500</td>\n",
       "      <td>33.0</td>\n",
       "      <td>6.868597</td>\n",
       "      <td>1.269488</td>\n",
       "      <td>1753.0</td>\n",
       "      <td>3.904232</td>\n",
       "      <td>34.02</td>\n",
       "      <td>-117.43</td>\n",
       "    </tr>\n",
       "    <tr>\n",
       "      <th>5390</th>\n",
       "      <td>2.9344</td>\n",
       "      <td>36.0</td>\n",
       "      <td>3.986717</td>\n",
       "      <td>1.079696</td>\n",
       "      <td>1756.0</td>\n",
       "      <td>3.332068</td>\n",
       "      <td>34.03</td>\n",
       "      <td>-118.38</td>\n",
       "    </tr>\n",
       "    <tr>\n",
       "      <th>860</th>\n",
       "      <td>5.7192</td>\n",
       "      <td>15.0</td>\n",
       "      <td>6.395349</td>\n",
       "      <td>1.067979</td>\n",
       "      <td>1777.0</td>\n",
       "      <td>3.178891</td>\n",
       "      <td>37.58</td>\n",
       "      <td>-121.96</td>\n",
       "    </tr>\n",
       "    <tr>\n",
       "      <th>15795</th>\n",
       "      <td>2.5755</td>\n",
       "      <td>52.0</td>\n",
       "      <td>3.402576</td>\n",
       "      <td>1.058776</td>\n",
       "      <td>2619.0</td>\n",
       "      <td>2.108696</td>\n",
       "      <td>37.77</td>\n",
       "      <td>-122.42</td>\n",
       "    </tr>\n",
       "  </tbody>\n",
       "</table>\n",
       "<p>16512 rows × 8 columns</p>\n",
       "</div>"
      ],
      "text/plain": [
       "       MedInc  HouseAge  AveRooms  AveBedrms  Population  AveOccup  Latitude  \\\n",
       "14196  3.2596      33.0  5.017657   1.006421      2300.0  3.691814     32.71   \n",
       "8267   3.8125      49.0  4.473545   1.041005      1314.0  1.738095     33.77   \n",
       "17445  4.1563       4.0  5.645833   0.985119       915.0  2.723214     34.66   \n",
       "14265  1.9425      36.0  4.002817   1.033803      1418.0  3.994366     32.69   \n",
       "2271   3.5542      43.0  6.268421   1.134211       874.0  2.300000     36.78   \n",
       "...       ...       ...       ...        ...         ...       ...       ...   \n",
       "11284  6.3700      35.0  6.129032   0.926267       658.0  3.032258     33.78   \n",
       "11964  3.0500      33.0  6.868597   1.269488      1753.0  3.904232     34.02   \n",
       "5390   2.9344      36.0  3.986717   1.079696      1756.0  3.332068     34.03   \n",
       "860    5.7192      15.0  6.395349   1.067979      1777.0  3.178891     37.58   \n",
       "15795  2.5755      52.0  3.402576   1.058776      2619.0  2.108696     37.77   \n",
       "\n",
       "       Longitude  \n",
       "14196    -117.03  \n",
       "8267     -118.16  \n",
       "17445    -120.48  \n",
       "14265    -117.11  \n",
       "2271     -119.80  \n",
       "...          ...  \n",
       "11284    -117.96  \n",
       "11964    -117.43  \n",
       "5390     -118.38  \n",
       "860      -121.96  \n",
       "15795    -122.42  \n",
       "\n",
       "[16512 rows x 8 columns]"
      ]
     },
     "execution_count": 17,
     "metadata": {},
     "output_type": "execute_result"
    }
   ],
   "source": []
  },
  {
   "cell_type": "code",
   "execution_count": 22,
   "id": "6a07c40d",
   "metadata": {
    "scrolled": true
   },
   "outputs": [
    {
     "name": "stderr",
     "output_type": "stream",
     "text": [
      "\u001b[32m[I 2021-07-27 17:04:20,572]\u001b[0m A new study created in memory with name: no-name-0f85a17c-9997-4866-a279-2555c711b1ee\u001b[0m\n",
      "\u001b[32m[I 2021-07-27 17:04:21,066]\u001b[0m Trial 0 finished with value: -0.6597391903369761 and parameters: {'n_estimators': 29, 'critarion_index': 0, 'max_features': 3, 'max_depth': 5}. Best is trial 0 with value: -0.6597391903369761.\u001b[0m\n",
      "\u001b[32m[I 2021-07-27 17:07:56,757]\u001b[0m Trial 1 finished with value: -0.8138012178052769 and parameters: {'n_estimators': 70, 'critarion_index': 1, 'max_features': 6, 'max_depth': 0}. Best is trial 1 with value: -0.8138012178052769.\u001b[0m\n",
      "\u001b[32m[I 2021-07-27 17:08:32,707]\u001b[0m Trial 2 finished with value: -0.784106291217016 and parameters: {'n_estimators': 35, 'critarion_index': 1, 'max_features': 1, 'max_depth': 0}. Best is trial 1 with value: -0.8138012178052769.\u001b[0m\n",
      "\u001b[32m[I 2021-07-27 17:08:33,890]\u001b[0m Trial 3 finished with value: -0.61614916359041 and parameters: {'n_estimators': 61, 'critarion_index': 0, 'max_features': 8, 'max_depth': 4}. Best is trial 1 with value: -0.8138012178052769.\u001b[0m\n",
      "\u001b[32m[I 2021-07-27 17:10:07,442]\u001b[0m Trial 4 finished with value: -0.7360826827443618 and parameters: {'n_estimators': 47, 'critarion_index': 1, 'max_features': 4, 'max_depth': 7}. Best is trial 1 with value: -0.8138012178052769.\u001b[0m\n",
      "\u001b[32m[I 2021-07-27 17:10:08,233]\u001b[0m Trial 5 finished with value: -0.3681698895578299 and parameters: {'n_estimators': 97, 'critarion_index': 0, 'max_features': 2, 'max_depth': 2}. Best is trial 1 with value: -0.8138012178052769.\u001b[0m\n",
      "\u001b[32m[I 2021-07-27 17:10:09,145]\u001b[0m Trial 6 finished with value: -0.6240552252542184 and parameters: {'n_estimators': 60, 'critarion_index': 0, 'max_features': 6, 'max_depth': 4}. Best is trial 1 with value: -0.8138012178052769.\u001b[0m\n",
      "\u001b[32m[I 2021-07-27 17:15:01,168]\u001b[0m Trial 7 finished with value: -0.7544572168582946 and parameters: {'n_estimators': 88, 'critarion_index': 1, 'max_features': 7, 'max_depth': 8}. Best is trial 1 with value: -0.8138012178052769.\u001b[0m\n",
      "\u001b[32m[I 2021-07-27 17:17:19,747]\u001b[0m Trial 8 finished with value: -0.6987237236515883 and parameters: {'n_estimators': 44, 'critarion_index': 1, 'max_features': 7, 'max_depth': 6}. Best is trial 1 with value: -0.8138012178052769.\u001b[0m\n",
      "\u001b[32m[I 2021-07-27 17:17:20,351]\u001b[0m Trial 9 finished with value: -0.7533778679520295 and parameters: {'n_estimators': 24, 'critarion_index': 0, 'max_features': 5, 'max_depth': 8}. Best is trial 1 with value: -0.8138012178052769.\u001b[0m\n"
     ]
    },
    {
     "name": "stdout",
     "output_type": "stream",
     "text": [
      "{'n_estimators': 70, 'critarion_index': 1, 'max_features': 6, 'max_depth': 0}\n",
      "-0.8138012178052769\n",
      "FrozenTrial(number=1, values=[-0.8138012178052769], datetime_start=datetime.datetime(2021, 7, 27, 17, 4, 21, 66302), datetime_complete=datetime.datetime(2021, 7, 27, 17, 7, 56, 757590), params={'n_estimators': 70, 'critarion_index': 1, 'max_features': 6, 'max_depth': 0}, distributions={'n_estimators': IntUniformDistribution(high=100, low=10, step=1), 'critarion_index': IntUniformDistribution(high=1, low=0, step=1), 'max_features': IntUniformDistribution(high=8, low=1, step=1), 'max_depth': IntUniformDistribution(high=10, low=0, step=1)}, user_attrs={}, system_attrs={}, intermediate_values={}, trial_id=1, state=TrialState.COMPLETE, value=None)\n"
     ]
    }
   ],
   "source": [
    "from sklearn.ensemble import RandomForestRegressor\n",
    "def objective_rf(trial):\n",
    "    params = {\n",
    "        'n_estimators': trial.suggest_int('n_estimators', 10, 100),\n",
    "        'criterion': ['mse', 'mae'][trial.suggest_int('critarion_index', 0, 1)],\n",
    "        'max_features': trial.suggest_int('max_features', 1, 8),\n",
    "        'max_depth': [None,1,2,3,4,5,6,7,8,9,10][trial.suggest_int('max_depth', 0, 10)],\n",
    "        'n_jobs': -1\n",
    "    }\n",
    "\n",
    "    scores = []\n",
    "    for train_index, test_index in KFold(n_splits=5, shuffle=True, random_state=42).split(df):\n",
    "        x_train, x_test = df.values[train_index], df.values[test_index]\n",
    "        y_train, y_test = housing['target'][train_index], housing['target'][test_index]\n",
    "\n",
    "        model = RandomForestRegressor(**params)\n",
    "        model.fit(x_train, y_train)\n",
    "        scores += [model.score(x_test, y_test)]\n",
    "    scores = np.array(scores)\n",
    "    # スコアの負を返す（目的関数を最小化するため）\n",
    "    return -scores.mean()\n",
    "\n",
    "if __name__ == '__main__':\n",
    "    study = optuna.create_study()\n",
    "    study.optimize(objective_rf, n_trials=10)\n",
    "\n",
    "    print(study.best_params)\n",
    "    print(study.best_value)\n",
    "    print(study.best_trial)"
   ]
  },
  {
   "cell_type": "code",
   "execution_count": 27,
   "id": "c2dedae2",
   "metadata": {},
   "outputs": [
    {
     "name": "stderr",
     "output_type": "stream",
     "text": [
      "1-th validation...\n",
      "2-th validation...\n",
      "3-th validation...\n",
      "4-th validation...\n",
      "5-th validation...\n"
     ]
    },
    {
     "name": "stdout",
     "output_type": "stream",
     "text": [
      "0.8122±0.0082\n"
     ]
    }
   ],
   "source": [
    "import sys\n",
    "scores = []\n",
    "i=1\n",
    "for train_index, test_index in KFold(n_splits=5, shuffle=True, random_state=42).split(df):\n",
    "    print(f\"{i}-th validation...\", file=sys.stderr)\n",
    "    i+=1\n",
    "    x_train, x_test = df.values[train_index], df.values[test_index]\n",
    "    y_train, y_test = housing['target'][train_index], housing['target'][test_index]\n",
    "\n",
    "    model = RandomForestRegressor(n_estimators=500, criterion='mse', n_jobs=-1)\n",
    "    model.fit(x_train, y_train)\n",
    "    scores += [model.score(x_test, y_test)]\n",
    "scores = np.array(scores)\n",
    "print(f\"{scores.mean():.4f}±{scores.std():.4f}\")"
   ]
  },
  {
   "cell_type": "code",
   "execution_count": 32,
   "id": "239ce486",
   "metadata": {},
   "outputs": [
    {
     "data": {
      "text/plain": [
       "16512"
      ]
     },
     "execution_count": 32,
     "metadata": {},
     "output_type": "execute_result"
    }
   ],
   "source": [
    "train_index.size"
   ]
  },
  {
   "cell_type": "code",
   "execution_count": 35,
   "id": "58c2c43f",
   "metadata": {},
   "outputs": [
    {
     "name": "stderr",
     "output_type": "stream",
     "text": [
      "rate=0.001\n",
      "rate=0.002\n",
      "rate=0.004\n",
      "rate=0.008\n",
      "rate=0.016\n",
      "rate=0.032\n",
      "rate=0.064\n",
      "rate=0.128\n",
      "rate=0.256\n",
      "rate=0.512\n",
      "rate=1\n"
     ]
    }
   ],
   "source": [
    "scores = []\n",
    "for rate in [min(0.001 * 2**i,1) for i in range(11)]:\n",
    "    scores_ = []\n",
    "    print(f\"rate={rate}\", file=sys.stderr)\n",
    "    for i,(train_index, test_index) in enumerate(KFold(n_splits=5, shuffle=True, random_state=42).split(df)):\n",
    "        x_train, x_test = df.values[train_index[:int(train_index.size*rate)]], df.values[test_index]\n",
    "        y_train, y_test = housing['target'][train_index[:int(train_index.size*rate)]], housing['target'][test_index]\n",
    "\n",
    "        model = RandomForestRegressor(n_estimators=500, criterion='mse', n_jobs=-1)\n",
    "        model.fit(x_train, y_train)\n",
    "        scores_ += [[model.score(x_train, y_train), model.score(x_test, y_test)]]\n",
    "    scores += [scores_]\n",
    "scores = np.array(scores)"
   ]
  },
  {
   "cell_type": "code",
   "execution_count": 40,
   "id": "37155dbd",
   "metadata": {},
   "outputs": [
    {
     "data": {
      "text/plain": [
       "(array([0.96286523, 0.97704359, 0.9618742 , 0.96669845, 0.96774032,\n",
       "        0.97068454, 0.97380471, 0.97948206, 0.97991799, 0.97823648,\n",
       "        0.97429717]),\n",
       " array([-0.08107788, -0.00142995, -0.50374898, -0.1255074 ,  0.33911903,\n",
       "         0.26353648,  0.47207722, -0.01579959,  0.56173624,  0.7149651 ,\n",
       "         0.81245026]))"
      ]
     },
     "execution_count": 40,
     "metadata": {},
     "output_type": "execute_result"
    }
   ],
   "source": [
    "scores.mean(axis=1)[:, 0], scores.mean(axis=1)[:, 1]"
   ]
  },
  {
   "cell_type": "code",
   "execution_count": 45,
   "id": "e28d8f1f",
   "metadata": {},
   "outputs": [
    {
     "data": {
      "text/plain": [
       "20640"
      ]
     },
     "execution_count": 45,
     "metadata": {},
     "output_type": "execute_result"
    }
   ],
   "source": [
    "df.index.size"
   ]
  },
  {
   "cell_type": "code",
   "execution_count": 57,
   "id": "4e857b47",
   "metadata": {},
   "outputs": [
    {
     "data": {
      "image/png": "[encoded data removed]",
      "text/plain": [
       "<Figure size 432x288 with 1 Axes>"
      ]
     },
     "metadata": {
      "needs_background": "light"
     },
     "output_type": "display_data"
    }
   ],
   "source": [
    "n_sample = [int(df.index.size*0.8*min(0.001 * 2**i,1)) for i in range(11)]\n",
    "plt.plot(n_sample, scores.mean(axis=1)[:, 0], marker=\"o\", label=\"learning score\")\n",
    "plt.fill_between(n_sample,\n",
    "                 scores.mean(axis=1)[:, 0]-scores.std(axis=1)[:, 0],\n",
    "                 scores.mean(axis=1)[:, 0]+scores.std(axis=1)[:, 0], alpha=0.5)\n",
    "plt.plot(n_sample, scores.mean(axis=1)[:, 1], marker=\"o\", label=\"validaiton score\")\n",
    "plt.fill_between(n_sample,\n",
    "                 scores.mean(axis=1)[:, 1]-scores.std(axis=1)[:, 1],\n",
    "                 scores.mean(axis=1)[:, 1]+scores.std(axis=1)[:, 1], alpha=0.5)\n",
    "plt.xscale(\"log\")\n",
    "plt.ylim(0,1)\n",
    "plt.legend()\n",
    "plt.show()"
   ]
  },
  {
   "cell_type": "code",
   "execution_count": 59,
   "id": "5178d264",
   "metadata": {},
   "outputs": [],
   "source": [
    "np.save('RF_learning_curve.npy', scores)"
   ]
  },
  {
   "cell_type": "code",
   "execution_count": 58,
   "id": "f7bea776",
   "metadata": {
    "scrolled": true
   },
   "outputs": [
    {
     "data": {
      "text/plain": [
       "[16,\n",
       " 23,\n",
       " 32,\n",
       " 45,\n",
       " 63,\n",
       " 88,\n",
       " 124,\n",
       " 174,\n",
       " 243,\n",
       " 341,\n",
       " 477,\n",
       " 668,\n",
       " 936,\n",
       " 1310,\n",
       " 1834,\n",
       " 2568,\n",
       " 3596,\n",
       " 5034,\n",
       " 7048,\n",
       " 9868,\n",
       " 13815,\n",
       " 16512]"
      ]
     },
     "execution_count": 58,
     "metadata": {},
     "output_type": "execute_result"
    }
   ],
   "source": [
    "n_samples = [int(df.index.size*0.8*min(0.001 * 1.4**i,1)) for i in range(22)]\n",
    "n_samples"
   ]
  },
  {
   "cell_type": "code",
   "execution_count": 60,
   "id": "ad315853",
   "metadata": {},
   "outputs": [
    {
     "name": "stderr",
     "output_type": "stream",
     "text": [
      "n_sample=16\n",
      "n_sample=23\n",
      "n_sample=32\n",
      "n_sample=45\n",
      "n_sample=63\n",
      "n_sample=88\n",
      "n_sample=124\n",
      "n_sample=174\n",
      "n_sample=243\n",
      "n_sample=341\n",
      "n_sample=477\n",
      "n_sample=668\n",
      "n_sample=936\n",
      "n_sample=1310\n",
      "n_sample=1834\n",
      "n_sample=2568\n",
      "n_sample=3596\n",
      "n_sample=5034\n",
      "n_sample=7048\n",
      "n_sample=9868\n",
      "n_sample=13815\n",
      "n_sample=16512\n"
     ]
    }
   ],
   "source": [
    "n_samples = [int(df.index.size*0.8*min(0.001 * 1.4**i,1)) for i in range(22)]\n",
    "scores = []\n",
    "\n",
    "for n_sample in n_samples:\n",
    "    scores_ = []\n",
    "    print(f\"n_sample={n_sample}\", file=sys.stderr)\n",
    "    for i,(train_index, test_index) in enumerate(KFold(n_splits=5, shuffle=True, random_state=42).split(df)):\n",
    "        x_train, x_test = df.values[train_index[:n_sample]], df.values[test_index]\n",
    "        y_train, y_test = housing['target'][train_index[:n_sample]], housing['target'][test_index]\n",
    "\n",
    "        model = RandomForestRegressor(n_estimators=500, criterion='mse', n_jobs=-1)\n",
    "        model.fit(x_train, y_train)\n",
    "        scores_ += [[model.score(x_train, y_train), model.score(x_test, y_test)]]\n",
    "    scores += [scores_]\n",
    "scores = np.array(scores)"
   ]
  },
  {
   "cell_type": "code",
   "execution_count": 187,
   "id": "f4b40f9b",
   "metadata": {},
   "outputs": [
    {
     "data": {
      "text/plain": [
       "[13,\n",
       " 19,\n",
       " 26,\n",
       " 37,\n",
       " 52,\n",
       " 74,\n",
       " 103,\n",
       " 145,\n",
       " 203,\n",
       " 284,\n",
       " 398,\n",
       " 557,\n",
       " 780,\n",
       " 1092,\n",
       " 1529,\n",
       " 2140,\n",
       " 2996,\n",
       " 4195,\n",
       " 5873,\n",
       " 8223,\n",
       " 11512,\n",
       " 13760]"
      ]
     },
     "execution_count": 187,
     "metadata": {},
     "output_type": "execute_result"
    }
   ],
   "source": [
    "[int(df.index.size*2/3*min(0.001 * 1.4**i,1)) for i in range(22)]"
   ]
  },
  {
   "cell_type": "code",
   "execution_count": 62,
   "id": "34a09598",
   "metadata": {},
   "outputs": [],
   "source": [
    "np.save('RF_learning_curve_2.npy', scores)"
   ]
  },
  {
   "cell_type": "code",
   "execution_count": 76,
   "id": "45b56a1b",
   "metadata": {},
   "outputs": [],
   "source": [
    "scores = np.load('RF_learning_curve_2.npy')"
   ]
  },
  {
   "cell_type": "code",
   "execution_count": 74,
   "id": "ba89d870",
   "metadata": {
    "scrolled": true
   },
   "outputs": [
    {
     "data": {
      "image/png": "[encoded data removed]",
      "text/plain": [
       "<Figure size 432x288 with 1 Axes>"
      ]
     },
     "metadata": {
      "needs_background": "light"
     },
     "output_type": "display_data"
    }
   ],
   "source": [
    "plt.rcParams['font.family'] ='sans-serif' #フォント選択\n",
    "plt.rcParams['font.size'] = 12 #フォントの大きさ\n",
    "plt.rcParams[\"xtick.minor.visible\"] = True #補助目盛りの追加\n",
    "plt.rcParams[\"ytick.minor.visible\"] = True\n",
    "plt.gca().xaxis.set_tick_params(which='both', direction='in',bottom=True, top=True)\n",
    "plt.gca().yaxis.set_tick_params(which='both', direction='in',left=True, right=True)"
   ]
  },
  {
   "cell_type": "code",
   "execution_count": 77,
   "id": "a3d60542",
   "metadata": {},
   "outputs": [
    {
     "data": {
      "image/png": "[encoded data removed]",
      "text/plain": [
       "<Figure size 432x288 with 1 Axes>"
      ]
     },
     "metadata": {
      "needs_background": "light"
     },
     "output_type": "display_data"
    }
   ],
   "source": [
    "plt.plot(n_samples, scores.mean(axis=1)[:, 0], marker=\"o\", label=\"learning score\")\n",
    "plt.fill_between(n_samples,\n",
    "                 scores.mean(axis=1)[:, 0]-scores.std(axis=1)[:, 0],\n",
    "                 scores.mean(axis=1)[:, 0]+scores.std(axis=1)[:, 0], alpha=0.5)\n",
    "plt.plot(n_samples, scores.mean(axis=1)[:, 1], marker=\"o\", label=\"validaiton score\")\n",
    "plt.fill_between(n_samples,\n",
    "                 scores.mean(axis=1)[:, 1]-scores.std(axis=1)[:, 1],\n",
    "                 scores.mean(axis=1)[:, 1]+scores.std(axis=1)[:, 1], alpha=0.5)\n",
    "plt.xscale(\"log\")\n",
    "plt.ylim(0,1)\n",
    "plt.xlabel(\"Training Samples\")\n",
    "plt.ylabel(r\"$R^2$ Score\")\n",
    "plt.legend()\n",
    "plt.show()"
   ]
  },
  {
   "cell_type": "code",
   "execution_count": 69,
   "id": "fe6e95fd",
   "metadata": {},
   "outputs": [
    {
     "name": "stderr",
     "output_type": "stream",
     "text": [
      "n_estimators=10\n",
      "n_estimators=20\n",
      "n_estimators=30\n",
      "n_estimators=60\n",
      "n_estimators=100\n",
      "n_estimators=200\n",
      "n_estimators=300\n",
      "n_estimators=600\n",
      "n_estimators=1000\n"
     ]
    }
   ],
   "source": [
    "n_estimators_ = [10, 20, 30, 60, 100, 200, 300, 600, 1000]\n",
    "scores = []\n",
    "\n",
    "for n_estimators in n_estimators_:\n",
    "    scores_ = []\n",
    "    print(f\"n_estimators={n_estimators}\", file=sys.stderr)\n",
    "    for i,(train_index, test_index) in enumerate(KFold(n_splits=5, shuffle=True, random_state=42).split(df)):\n",
    "        x_train, x_test = df.values[train_index], df.values[test_index]\n",
    "        y_train, y_test = housing['target'][train_index], housing['target'][test_index]\n",
    "\n",
    "        model = RandomForestRegressor(n_estimators=n_estimators, criterion='mse', n_jobs=-1)\n",
    "        model.fit(x_train, y_train)\n",
    "        scores_ += [[model.score(x_train, y_train), model.score(x_test, y_test)]]\n",
    "    scores += [scores_]\n",
    "scores = np.array(scores)"
   ]
  },
  {
   "cell_type": "code",
   "execution_count": 73,
   "id": "1b2ceb26",
   "metadata": {},
   "outputs": [],
   "source": [
    "np.save('RF_validaiton_n_samples.npy', scores)"
   ]
  },
  {
   "cell_type": "code",
   "execution_count": 75,
   "id": "5a6f7b9b",
   "metadata": {},
   "outputs": [
    {
     "data": {
      "image/png": "[encoded data removed]",
      "text/plain": [
       "<Figure size 432x288 with 1 Axes>"
      ]
     },
     "metadata": {
      "needs_background": "light"
     },
     "output_type": "display_data"
    }
   ],
   "source": [
    "plt.plot(n_estimators_, scores.mean(axis=1)[:, 0], marker=\"o\", label=\"learning score\")\n",
    "plt.fill_between(n_estimators_,\n",
    "                 scores.mean(axis=1)[:, 0]-scores.std(axis=1)[:, 0],\n",
    "                 scores.mean(axis=1)[:, 0]+scores.std(axis=1)[:, 0], alpha=0.5)\n",
    "plt.plot(n_estimators_, scores.mean(axis=1)[:, 1], marker=\"o\", label=\"validaiton score\")\n",
    "plt.fill_between(n_estimators_,\n",
    "                 scores.mean(axis=1)[:, 1]-scores.std(axis=1)[:, 1],\n",
    "                 scores.mean(axis=1)[:, 1]+scores.std(axis=1)[:, 1], alpha=0.5)\n",
    "plt.xscale(\"log\")\n",
    "plt.ylim(0.75 ,1)\n",
    "plt.xlabel(\"n_estimators\")\n",
    "plt.ylabel(r\"$R^2$ Score\")\n",
    "plt.legend()\n",
    "plt.show()"
   ]
  },
  {
   "cell_type": "code",
   "execution_count": 79,
   "id": "01ad0c1e",
   "metadata": {},
   "outputs": [
    {
     "name": "stderr",
     "output_type": "stream",
     "text": [
      "max_features=1\n",
      "max_features=2\n",
      "max_features=3\n",
      "max_features=4\n",
      "max_features=5\n",
      "max_features=6\n",
      "max_features=7\n",
      "max_features=8\n"
     ]
    }
   ],
   "source": [
    "max_features_ = list(range(1,9))\n",
    "scores = []\n",
    "\n",
    "for max_features in max_features_:\n",
    "    scores_ = []\n",
    "    print(f\"max_features={max_features}\", file=sys.stderr)\n",
    "    for i,(train_index, test_index) in enumerate(KFold(n_splits=5, shuffle=True, random_state=42).split(df)):\n",
    "        x_train, x_test = df.values[train_index], df.values[test_index]\n",
    "        y_train, y_test = housing['target'][train_index], housing['target'][test_index]\n",
    "\n",
    "        model = RandomForestRegressor(n_estimators=200, max_features=max_features, criterion='mse', n_jobs=-1)\n",
    "        model.fit(x_train, y_train)\n",
    "        scores_ += [[model.score(x_train, y_train), model.score(x_test, y_test)]]\n",
    "    scores += [scores_]\n",
    "scores = np.array(scores)"
   ]
  },
  {
   "cell_type": "code",
   "execution_count": 81,
   "id": "a19f7bc0",
   "metadata": {},
   "outputs": [
    {
     "data": {
      "image/png": "[encoded data removed]",
      "text/plain": [
       "<Figure size 432x288 with 1 Axes>"
      ]
     },
     "metadata": {
      "needs_background": "light"
     },
     "output_type": "display_data"
    }
   ],
   "source": [
    "plt.plot(max_features_, scores.mean(axis=1)[:, 0], marker=\"o\", label=\"learning score\")\n",
    "plt.fill_between(max_features_,\n",
    "                 scores.mean(axis=1)[:, 0]-scores.std(axis=1)[:, 0],\n",
    "                 scores.mean(axis=1)[:, 0]+scores.std(axis=1)[:, 0], alpha=0.5)\n",
    "plt.plot(max_features_, scores.mean(axis=1)[:, 1], marker=\"o\", label=\"validaiton score\")\n",
    "plt.fill_between(max_features_,\n",
    "                 scores.mean(axis=1)[:, 1]-scores.std(axis=1)[:, 1],\n",
    "                 scores.mean(axis=1)[:, 1]+scores.std(axis=1)[:, 1], alpha=0.5)\n",
    "#plt.xscale(\"log\")\n",
    "plt.ylim(0.75 ,1)\n",
    "plt.xlabel(\"max_features\")\n",
    "plt.ylabel(r\"$R^2$ Score\")\n",
    "plt.legend()\n",
    "plt.show()"
   ]
  },
  {
   "cell_type": "code",
   "execution_count": 82,
   "id": "58921cc5",
   "metadata": {},
   "outputs": [
    {
     "data": {
      "text/plain": [
       "RandomForestRegressor(max_features=8, n_estimators=200, n_jobs=-1)"
      ]
     },
     "execution_count": 82,
     "metadata": {},
     "output_type": "execute_result"
    }
   ],
   "source": [
    "model"
   ]
  },
  {
   "cell_type": "code",
   "execution_count": 83,
   "id": "17b7ae86",
   "metadata": {},
   "outputs": [
    {
     "data": {
      "text/plain": [
       "RandomForestRegressor(max_features=3, n_estimators=200, n_jobs=-1)"
      ]
     },
     "execution_count": 83,
     "metadata": {},
     "output_type": "execute_result"
    }
   ],
   "source": [
    "model = RandomForestRegressor(max_features=3, n_estimators=200, n_jobs=-1)\n",
    "model.fit(x_train, y_train)"
   ]
  },
  {
   "cell_type": "code",
   "execution_count": 84,
   "id": "2fbc78a6",
   "metadata": {},
   "outputs": [
    {
     "data": {
      "text/plain": [
       "array([0.39965804, 0.05538143, 0.0992387 , 0.03884409, 0.03167318,\n",
       "       0.12841753, 0.12582735, 0.12095967])"
      ]
     },
     "execution_count": 84,
     "metadata": {},
     "output_type": "execute_result"
    }
   ],
   "source": [
    "model.feature_importances_"
   ]
  },
  {
   "cell_type": "code",
   "execution_count": 85,
   "id": "087bf588",
   "metadata": {},
   "outputs": [],
   "source": [
    "from sklearn.linear_model import Lasso"
   ]
  },
  {
   "cell_type": "code",
   "execution_count": 124,
   "id": "dfbdd453",
   "metadata": {},
   "outputs": [
    {
     "data": {
      "text/plain": [
       "(16512, 8)"
      ]
     },
     "execution_count": 124,
     "metadata": {},
     "output_type": "execute_result"
    }
   ],
   "source": [
    "data = np.hstack([df.values, housing['target'][:,None]])\n",
    "x_train, x_test, y_train, y_test = train_test_split(df, housing['target'],\n",
    "                                                    test_size=0.2, random_state=42)\n",
    "scaler = StandardScaler()\n",
    "scaler.fit(np.hstack([x_train, y_train[:,None]]))\n",
    "data_train = scaler.transform(np.hstack([x_train, y_train[:,None]]))\n",
    "data_test = scaler.transform(np.hstack([x_test, y_test[:,None]]))\n",
    "x_train, x_test, y_train, y_test = data_train[:,:-2], data_test[:,:-2], data_train[:,-1], data_test[:,-1]"
   ]
  },
  {
   "cell_type": "code",
   "execution_count": 88,
   "id": "0e92cb22",
   "metadata": {},
   "outputs": [
    {
     "data": {
      "text/plain": [
       "Lasso()"
      ]
     },
     "execution_count": 88,
     "metadata": {},
     "output_type": "execute_result"
    }
   ],
   "source": [
    "model = Lasso()\n",
    "model.fit(x_train, y_train)"
   ]
  },
  {
   "cell_type": "code",
   "execution_count": 89,
   "id": "bcfda1bc",
   "metadata": {},
   "outputs": [
    {
     "data": {
      "text/plain": [
       "(0.28677899218285774, 0.28231862775746575)"
      ]
     },
     "execution_count": 89,
     "metadata": {},
     "output_type": "execute_result"
    }
   ],
   "source": [
    "model.score(x_train, y_train), model.score(x_test, y_test)"
   ]
  },
  {
   "cell_type": "code",
   "execution_count": 106,
   "id": "aa3b2fdc",
   "metadata": {},
   "outputs": [],
   "source": [
    "from sklearn.preprocessing import StandardScaler"
   ]
  },
  {
   "cell_type": "code",
   "execution_count": 125,
   "id": "23324e0c",
   "metadata": {
    "scrolled": true
   },
   "outputs": [
    {
     "name": "stderr",
     "output_type": "stream",
     "text": [
      "\u001b[32m[I 2021-07-27 19:56:49,808]\u001b[0m A new study created in memory with name: no-name-9d3bf302-aa29-4000-a585-5266273546f1\u001b[0m\n",
      "\u001b[32m[I 2021-07-27 19:56:49,890]\u001b[0m Trial 0 finished with value: -0.6016572373576079 and parameters: {'alpha': 0.001979434759777127}. Best is trial 0 with value: -0.6016572373576079.\u001b[0m\n",
      "\u001b[32m[I 2021-07-27 19:56:49,950]\u001b[0m Trial 1 finished with value: -0.46009976721357243 and parameters: {'alpha': 0.14655222325108977}. Best is trial 0 with value: -0.6016572373576079.\u001b[0m\n",
      "\u001b[32m[I 2021-07-27 19:56:50,037]\u001b[0m Trial 2 finished with value: -0.60138179237603 and parameters: {'alpha': 1.4665128574310139e-05}. Best is trial 0 with value: -0.6016572373576079.\u001b[0m\n",
      "\u001b[32m[I 2021-07-27 19:56:50,128]\u001b[0m Trial 3 finished with value: -0.6013781892215544 and parameters: {'alpha': 3.479258101283477e-07}. Best is trial 0 with value: -0.6016572373576079.\u001b[0m\n",
      "\u001b[32m[I 2021-07-27 19:56:50,181]\u001b[0m Trial 4 finished with value: -0.5046802307569487 and parameters: {'alpha': 0.06255018894356652}. Best is trial 0 with value: -0.6016572373576079.\u001b[0m\n",
      "\u001b[32m[I 2021-07-27 19:56:50,268]\u001b[0m Trial 5 finished with value: -0.6013781355216362 and parameters: {'alpha': 1.3523330003458457e-07}. Best is trial 0 with value: -0.6016572373576079.\u001b[0m\n",
      "\u001b[32m[I 2021-07-27 19:56:50,332]\u001b[0m Trial 6 finished with value: -0.6015192274313127 and parameters: {'alpha': 0.0006616757947064946}. Best is trial 0 with value: -0.6016572373576079.\u001b[0m\n",
      "\u001b[32m[I 2021-07-27 19:56:50,440]\u001b[0m Trial 7 finished with value: -0.6013781923745241 and parameters: {'alpha': 3.6014295548131966e-07}. Best is trial 0 with value: -0.6016572373576079.\u001b[0m\n",
      "\u001b[32m[I 2021-07-27 19:56:50,538]\u001b[0m Trial 8 finished with value: -0.6013781041520907 and parameters: {'alpha': 1.1018133706648267e-08}. Best is trial 0 with value: -0.6016572373576079.\u001b[0m\n",
      "\u001b[32m[I 2021-07-27 19:56:50,594]\u001b[0m Trial 9 finished with value: -0.383865492667976 and parameters: {'alpha': 0.29885214064468774}. Best is trial 0 with value: -0.6016572373576079.\u001b[0m\n",
      "\u001b[32m[I 2021-07-27 19:56:50,663]\u001b[0m Trial 10 finished with value: -0.6016469319154601 and parameters: {'alpha': 0.0017485461214251563}. Best is trial 0 with value: -0.6016572373576079.\u001b[0m\n",
      "\u001b[32m[I 2021-07-27 19:56:50,732]\u001b[0m Trial 11 finished with value: -0.6016404433264089 and parameters: {'alpha': 0.001649451513777336}. Best is trial 0 with value: -0.6016572373576079.\u001b[0m\n",
      "\u001b[32m[I 2021-07-27 19:56:50,803]\u001b[0m Trial 12 finished with value: -0.6005162185113854 and parameters: {'alpha': 0.006773677042365818}. Best is trial 0 with value: -0.6016572373576079.\u001b[0m\n",
      "\u001b[32m[I 2021-07-27 19:56:50,900]\u001b[0m Trial 13 finished with value: -0.6013868135108963 and parameters: {'alpha': 3.48040021209103e-05}. Best is trial 0 with value: -0.6016572373576079.\u001b[0m\n",
      "\u001b[32m[I 2021-07-27 19:56:50,966]\u001b[0m Trial 14 finished with value: -0.5961813015427095 and parameters: {'alpha': 0.012032093703323556}. Best is trial 0 with value: -0.6016572373576079.\u001b[0m\n",
      "\u001b[32m[I 2021-07-27 19:56:51,037]\u001b[0m Trial 15 finished with value: -0.6014870697124867 and parameters: {'alpha': 0.0004874646163305939}. Best is trial 0 with value: -0.6016572373576079.\u001b[0m\n",
      "\u001b[32m[I 2021-07-27 19:56:51,126]\u001b[0m Trial 16 finished with value: -0.6013797960024828 and parameters: {'alpha': 6.721011957488746e-06}. Best is trial 0 with value: -0.6016572373576079.\u001b[0m\n",
      "\u001b[32m[I 2021-07-27 19:56:51,211]\u001b[0m Trial 17 finished with value: -0.6014159372989016 and parameters: {'alpha': 0.0001555677358501321}. Best is trial 0 with value: -0.6016572373576079.\u001b[0m\n",
      "\u001b[32m[I 2021-07-27 19:56:51,297]\u001b[0m Trial 18 finished with value: -0.5967334042863699 and parameters: {'alpha': 0.01153087440906534}. Best is trial 0 with value: -0.6016572373576079.\u001b[0m\n",
      "\u001b[32m[I 2021-07-27 19:56:51,396]\u001b[0m Trial 19 finished with value: -0.6013789173857974 and parameters: {'alpha': 3.2340725714641247e-06}. Best is trial 0 with value: -0.6016572373576079.\u001b[0m\n",
      "\u001b[32m[I 2021-07-27 19:56:51,469]\u001b[0m Trial 20 finished with value: 0.00028167420145832624 and parameters: {'alpha': 0.7762759253142081}. Best is trial 0 with value: -0.6016572373576079.\u001b[0m\n",
      "\u001b[32m[I 2021-07-27 19:56:51,542]\u001b[0m Trial 21 finished with value: -0.6016527034398594 and parameters: {'alpha': 0.0018611003614780843}. Best is trial 0 with value: -0.6016572373576079.\u001b[0m\n",
      "\u001b[32m[I 2021-07-27 19:56:51,606]\u001b[0m Trial 22 finished with value: -0.6016429827077929 and parameters: {'alpha': 0.0028075193112355253}. Best is trial 0 with value: -0.6016572373576079.\u001b[0m\n",
      "\u001b[32m[I 2021-07-27 19:56:51,684]\u001b[0m Trial 23 finished with value: -0.601425308052252 and parameters: {'alpha': 0.00019602361978171852}. Best is trial 0 with value: -0.6016572373576079.\u001b[0m\n",
      "\u001b[32m[I 2021-07-27 19:56:51,769]\u001b[0m Trial 24 finished with value: -0.5569037718406017 and parameters: {'alpha': 0.03709029269765078}. Best is trial 0 with value: -0.6016572373576079.\u001b[0m\n",
      "\u001b[32m[I 2021-07-27 19:56:51,840]\u001b[0m Trial 25 finished with value: -0.6016286171399742 and parameters: {'alpha': 0.0014919294694616054}. Best is trial 0 with value: -0.6016572373576079.\u001b[0m\n",
      "\u001b[32m[I 2021-07-27 19:56:51,919]\u001b[0m Trial 26 finished with value: -0.6013934312710999 and parameters: {'alpha': 6.166019872090749e-05}. Best is trial 0 with value: -0.6016572373576079.\u001b[0m\n",
      "\u001b[32m[I 2021-07-27 19:56:51,989]\u001b[0m Trial 27 finished with value: -0.6011898211787244 and parameters: {'alpha': 0.00519028950928873}. Best is trial 0 with value: -0.6016572373576079.\u001b[0m\n",
      "\u001b[32m[I 2021-07-27 19:56:52,070]\u001b[0m Trial 28 finished with value: -0.6014756267795214 and parameters: {'alpha': 0.00042934835398106703}. Best is trial 0 with value: -0.6016572373576079.\u001b[0m\n",
      "\u001b[32m[I 2021-07-27 19:56:52,136]\u001b[0m Trial 29 finished with value: -0.5542577850331118 and parameters: {'alpha': 0.03839880808197852}. Best is trial 0 with value: -0.6016572373576079.\u001b[0m\n",
      "\u001b[32m[I 2021-07-27 19:56:52,190]\u001b[0m Trial 30 finished with value: -0.4429207030504917 and parameters: {'alpha': 0.17398455133506852}. Best is trial 0 with value: -0.6016572373576079.\u001b[0m\n",
      "\u001b[32m[I 2021-07-27 19:56:52,265]\u001b[0m Trial 31 finished with value: -0.6016603928523827 and parameters: {'alpha': 0.0023772675047093457}. Best is trial 31 with value: -0.6016603928523827.\u001b[0m\n",
      "\u001b[32m[I 2021-07-27 19:56:52,351]\u001b[0m Trial 32 finished with value: -0.6015959804040952 and parameters: {'alpha': 0.0011726796617564917}. Best is trial 31 with value: -0.6016603928523827.\u001b[0m\n",
      "\u001b[32m[I 2021-07-27 19:56:52,424]\u001b[0m Trial 33 finished with value: -0.588866531947682 and parameters: {'alpha': 0.018064796205368716}. Best is trial 31 with value: -0.6016603928523827.\u001b[0m\n",
      "\u001b[32m[I 2021-07-27 19:56:52,497]\u001b[0m Trial 34 finished with value: -0.6016462632518691 and parameters: {'alpha': 0.0027534516152651583}. Best is trial 31 with value: -0.6016603928523827.\u001b[0m\n",
      "\u001b[32m[I 2021-07-27 19:56:52,580]\u001b[0m Trial 35 finished with value: -0.6014201848124548 and parameters: {'alpha': 0.00017364748693107006}. Best is trial 31 with value: -0.6016603928523827.\u001b[0m\n",
      "\u001b[32m[I 2021-07-27 19:56:52,660]\u001b[0m Trial 36 finished with value: -0.6013845525889454 and parameters: {'alpha': 2.571022957292132e-05}. Best is trial 31 with value: -0.6016603928523827.\u001b[0m\n",
      "\u001b[32m[I 2021-07-27 19:56:52,738]\u001b[0m Trial 37 finished with value: -0.6014819545483278 and parameters: {'alpha': 0.0004615270849250118}. Best is trial 31 with value: -0.6016603928523827.\u001b[0m\n",
      "\u001b[32m[I 2021-07-27 19:56:52,805]\u001b[0m Trial 38 finished with value: -0.5022113102939212 and parameters: {'alpha': 0.06857356617725799}. Best is trial 31 with value: -0.6016603928523827.\u001b[0m\n",
      "\u001b[32m[I 2021-07-27 19:56:52,880]\u001b[0m Trial 39 finished with value: -0.6001921062126936 and parameters: {'alpha': 0.007361228899254521}. Best is trial 31 with value: -0.6016603928523827.\u001b[0m\n",
      "\u001b[32m[I 2021-07-27 19:56:52,948]\u001b[0m Trial 40 finished with value: -0.601646115310353 and parameters: {'alpha': 0.002756017538682613}. Best is trial 31 with value: -0.6016603928523827.\u001b[0m\n",
      "\u001b[32m[I 2021-07-27 19:56:53,017]\u001b[0m Trial 41 finished with value: -0.6016384624845903 and parameters: {'alpha': 0.0028742313068375633}. Best is trial 31 with value: -0.6016603928523827.\u001b[0m\n",
      "\u001b[32m[I 2021-07-27 19:56:53,106]\u001b[0m Trial 42 finished with value: -0.6015355332040853 and parameters: {'alpha': 0.0007566530610530683}. Best is trial 31 with value: -0.6016603928523827.\u001b[0m\n"
     ]
    },
    {
     "name": "stderr",
     "output_type": "stream",
     "text": [
      "\u001b[32m[I 2021-07-27 19:56:53,179]\u001b[0m Trial 43 finished with value: -0.6014561661138886 and parameters: {'alpha': 0.004209750741580053}. Best is trial 31 with value: -0.6016603928523827.\u001b[0m\n",
      "\u001b[32m[I 2021-07-27 19:56:53,256]\u001b[0m Trial 44 finished with value: -0.5878058213902058 and parameters: {'alpha': 0.01890767052689867}. Best is trial 31 with value: -0.6016603928523827.\u001b[0m\n",
      "\u001b[32m[I 2021-07-27 19:56:53,351]\u001b[0m Trial 45 finished with value: -0.6014451235613345 and parameters: {'alpha': 0.0002843676928532918}. Best is trial 31 with value: -0.6016603928523827.\u001b[0m\n",
      "\u001b[32m[I 2021-07-27 19:56:53,429]\u001b[0m Trial 46 finished with value: -0.6015992297408637 and parameters: {'alpha': 0.001199964555400936}. Best is trial 31 with value: -0.6016603928523827.\u001b[0m\n",
      "\u001b[32m[I 2021-07-27 19:56:53,490]\u001b[0m Trial 47 finished with value: -0.504051283204759 and parameters: {'alpha': 0.06413837171496736}. Best is trial 31 with value: -0.6016603928523827.\u001b[0m\n",
      "\u001b[32m[I 2021-07-27 19:56:53,565]\u001b[0m Trial 48 finished with value: -0.601396720787027 and parameters: {'alpha': 7.50704400312262e-05}. Best is trial 31 with value: -0.6016603928523827.\u001b[0m\n",
      "\u001b[32m[I 2021-07-27 19:56:53,631]\u001b[0m Trial 49 finished with value: -0.5994739029646385 and parameters: {'alpha': 0.008464506770363294}. Best is trial 31 with value: -0.6016603928523827.\u001b[0m\n",
      "\u001b[32m[I 2021-07-27 19:56:53,697]\u001b[0m Trial 50 finished with value: -0.6015210127581312 and parameters: {'alpha': 0.0006719939075997789}. Best is trial 31 with value: -0.6016603928523827.\u001b[0m\n",
      "\u001b[32m[I 2021-07-27 19:56:53,768]\u001b[0m Trial 51 finished with value: -0.6016612752331586 and parameters: {'alpha': 0.002194148203576497}. Best is trial 51 with value: -0.6016612752331586.\u001b[0m\n",
      "\u001b[32m[I 2021-07-27 19:56:53,848]\u001b[0m Trial 52 finished with value: -0.601660505736457 and parameters: {'alpha': 0.002114432546903365}. Best is trial 51 with value: -0.6016612752331586.\u001b[0m\n",
      "\u001b[32m[I 2021-07-27 19:56:53,920]\u001b[0m Trial 53 finished with value: -0.6016313467646368 and parameters: {'alpha': 0.0015256026828451969}. Best is trial 51 with value: -0.6016612752331586.\u001b[0m\n",
      "\u001b[32m[I 2021-07-27 19:56:53,988]\u001b[0m Trial 54 finished with value: -0.5822862847010659 and parameters: {'alpha': 0.023131981207559504}. Best is trial 51 with value: -0.6016612752331586.\u001b[0m\n",
      "\u001b[32m[I 2021-07-27 19:56:54,060]\u001b[0m Trial 55 finished with value: -0.6012992639959034 and parameters: {'alpha': 0.004834808170034852}. Best is trial 51 with value: -0.6016612752331586.\u001b[0m\n",
      "\u001b[32m[I 2021-07-27 19:56:54,137]\u001b[0m Trial 56 finished with value: -0.6014424243487854 and parameters: {'alpha': 0.000272157498745995}. Best is trial 51 with value: -0.6016612752331586.\u001b[0m\n",
      "\u001b[32m[I 2021-07-27 19:56:54,222]\u001b[0m Trial 57 finished with value: -0.6014051339551365 and parameters: {'alpha': 0.00010987118199276211}. Best is trial 51 with value: -0.6016612752331586.\u001b[0m\n",
      "\u001b[32m[I 2021-07-27 19:56:54,303]\u001b[0m Trial 58 finished with value: -0.6015611131097748 and parameters: {'alpha': 0.0009162837261695845}. Best is trial 51 with value: -0.6016612752331586.\u001b[0m\n",
      "\u001b[32m[I 2021-07-27 19:56:54,376]\u001b[0m Trial 59 finished with value: -0.6016580600838946 and parameters: {'alpha': 0.0020071403391328413}. Best is trial 51 with value: -0.6016612752331586.\u001b[0m\n",
      "\u001b[32m[I 2021-07-27 19:56:54,448]\u001b[0m Trial 60 finished with value: -0.595755318188743 and parameters: {'alpha': 0.01240175981992635}. Best is trial 51 with value: -0.6016612752331586.\u001b[0m\n",
      "\u001b[32m[I 2021-07-27 19:56:54,518]\u001b[0m Trial 61 finished with value: -0.6016577428630691 and parameters: {'alpha': 0.001996092082196704}. Best is trial 51 with value: -0.6016612752331586.\u001b[0m\n",
      "\u001b[32m[I 2021-07-27 19:56:54,597]\u001b[0m Trial 62 finished with value: -0.601657884193247 and parameters: {'alpha': 0.002000952552674215}. Best is trial 51 with value: -0.6016612752331586.\u001b[0m\n",
      "\u001b[32m[I 2021-07-27 19:56:54,671]\u001b[0m Trial 63 finished with value: -0.6014551253253698 and parameters: {'alpha': 0.0003308356662721008}. Best is trial 51 with value: -0.6016612752331586.\u001b[0m\n",
      "\u001b[32m[I 2021-07-27 19:56:54,739]\u001b[0m Trial 64 finished with value: -0.6014464062377989 and parameters: {'alpha': 0.00425501624263196}. Best is trial 51 with value: -0.6016612752331586.\u001b[0m\n",
      "\u001b[32m[I 2021-07-27 19:56:54,813]\u001b[0m Trial 65 finished with value: -0.6016562526148334 and parameters: {'alpha': 0.0019496723856467192}. Best is trial 51 with value: -0.6016612752331586.\u001b[0m\n",
      "\u001b[32m[I 2021-07-27 19:56:54,881]\u001b[0m Trial 66 finished with value: -0.6015327832222452 and parameters: {'alpha': 0.0007408961549617179}. Best is trial 51 with value: -0.6016612752331586.\u001b[0m\n",
      "\u001b[32m[I 2021-07-27 19:56:54,948]\u001b[0m Trial 67 finished with value: -0.5998678105386848 and parameters: {'alpha': 0.007886470399706332}. Best is trial 51 with value: -0.6016612752331586.\u001b[0m\n",
      "\u001b[32m[I 2021-07-27 19:56:55,030]\u001b[0m Trial 68 finished with value: -0.6016573593468748 and parameters: {'alpha': 0.0025114378878928582}. Best is trial 51 with value: -0.6016612752331586.\u001b[0m\n",
      "\u001b[32m[I 2021-07-27 19:56:55,112]\u001b[0m Trial 69 finished with value: -0.5623967713749387 and parameters: {'alpha': 0.034346337328265815}. Best is trial 51 with value: -0.6016612752331586.\u001b[0m\n",
      "\u001b[32m[I 2021-07-27 19:56:55,179]\u001b[0m Trial 70 finished with value: -0.6016307110854315 and parameters: {'alpha': 0.0029741897754315444}. Best is trial 51 with value: -0.6016612752331586.\u001b[0m\n",
      "\u001b[32m[I 2021-07-27 19:56:55,296]\u001b[0m Trial 71 finished with value: -0.6016398044392718 and parameters: {'alpha': 0.0016404288794124942}. Best is trial 51 with value: -0.6016612752331586.\u001b[0m\n",
      "\u001b[32m[I 2021-07-27 19:56:55,390]\u001b[0m Trial 72 finished with value: -0.597536636652048 and parameters: {'alpha': 0.010748410113914775}. Best is trial 51 with value: -0.6016612752331586.\u001b[0m\n",
      "\u001b[32m[I 2021-07-27 19:56:55,502]\u001b[0m Trial 73 finished with value: -0.6013781052896361 and parameters: {'alpha': 1.5520775544851255e-08}. Best is trial 51 with value: -0.6016612752331586.\u001b[0m\n",
      "\u001b[32m[I 2021-07-27 19:56:55,580]\u001b[0m Trial 74 finished with value: -0.601094115927989 and parameters: {'alpha': 0.005466137102644199}. Best is trial 51 with value: -0.6016612752331586.\u001b[0m\n",
      "\u001b[32m[I 2021-07-27 19:56:55,655]\u001b[0m Trial 75 finished with value: -0.6015012122201772 and parameters: {'alpha': 0.0005621228091468243}. Best is trial 51 with value: -0.6016612752331586.\u001b[0m\n",
      "\u001b[32m[I 2021-07-27 19:56:55,736]\u001b[0m Trial 76 finished with value: -0.6015885601447699 and parameters: {'alpha': 0.0011124942017266025}. Best is trial 51 with value: -0.6016612752331586.\u001b[0m\n",
      "\u001b[32m[I 2021-07-27 19:56:55,797]\u001b[0m Trial 77 finished with value: -0.4752150228046913 and parameters: {'alpha': 0.1217448401733954}. Best is trial 51 with value: -0.6016612752331586.\u001b[0m\n",
      "\u001b[32m[I 2021-07-27 19:56:55,882]\u001b[0m Trial 78 finished with value: -0.6016611544503163 and parameters: {'alpha': 0.002312866453069841}. Best is trial 51 with value: -0.6016612752331586.\u001b[0m\n",
      "\u001b[32m[I 2021-07-27 19:56:55,952]\u001b[0m Trial 79 finished with value: -0.6016489011594794 and parameters: {'alpha': 0.002706187059810618}. Best is trial 51 with value: -0.6016612752331586.\u001b[0m\n",
      "\u001b[32m[I 2021-07-27 19:56:56,022]\u001b[0m Trial 80 finished with value: -0.5943193251474923 and parameters: {'alpha': 0.013558532741122741}. Best is trial 51 with value: -0.6016612752331586.\u001b[0m\n",
      "\u001b[32m[I 2021-07-27 19:56:56,096]\u001b[0m Trial 81 finished with value: -0.601655106593789 and parameters: {'alpha': 0.001918434441571863}. Best is trial 51 with value: -0.6016612752331586.\u001b[0m\n",
      "\u001b[32m[I 2021-07-27 19:56:56,165]\u001b[0m Trial 82 finished with value: -0.6015557276750375 and parameters: {'alpha': 0.00365704982033721}. Best is trial 51 with value: -0.6016612752331586.\u001b[0m\n",
      "\u001b[32m[I 2021-07-27 19:56:56,251]\u001b[0m Trial 83 finished with value: -0.6015611275576924 and parameters: {'alpha': 0.0009163794334261262}. Best is trial 51 with value: -0.6016612752331586.\u001b[0m\n",
      "\u001b[32m[I 2021-07-27 19:56:56,332]\u001b[0m Trial 84 finished with value: -0.6011190322048631 and parameters: {'alpha': 0.005398095853133712}. Best is trial 51 with value: -0.6016612752331586.\u001b[0m\n",
      "\u001b[32m[I 2021-07-27 19:56:56,408]\u001b[0m Trial 85 finished with value: -0.6014752489731089 and parameters: {'alpha': 0.0004274716961150307}. Best is trial 51 with value: -0.6016612752331586.\u001b[0m\n",
      "\u001b[32m[I 2021-07-27 19:56:56,493]\u001b[0m Trial 86 finished with value: -0.6014133650583414 and parameters: {'alpha': 0.00014445609909115667}. Best is trial 51 with value: -0.6016612752331586.\u001b[0m\n"
     ]
    },
    {
     "name": "stderr",
     "output_type": "stream",
     "text": [
      "\u001b[32m[I 2021-07-27 19:56:56,567]\u001b[0m Trial 87 finished with value: -0.6016537761636783 and parameters: {'alpha': 0.00188556100344146}. Best is trial 51 with value: -0.6016612752331586.\u001b[0m\n",
      "\u001b[32m[I 2021-07-27 19:56:56,642]\u001b[0m Trial 88 finished with value: -0.5779441002102405 and parameters: {'alpha': 0.0259509891821802}. Best is trial 51 with value: -0.6016612752331586.\u001b[0m\n",
      "\u001b[32m[I 2021-07-27 19:56:56,721]\u001b[0m Trial 89 finished with value: -0.6014378155444836 and parameters: {'alpha': 0.00025133254370570925}. Best is trial 51 with value: -0.6016612752331586.\u001b[0m\n",
      "\u001b[32m[I 2021-07-27 19:56:56,793]\u001b[0m Trial 90 finished with value: -0.6000945729221285 and parameters: {'alpha': 0.007524841876545135}. Best is trial 51 with value: -0.6016612752331586.\u001b[0m\n",
      "\u001b[32m[I 2021-07-27 19:56:56,873]\u001b[0m Trial 91 finished with value: -0.6016612496880857 and parameters: {'alpha': 0.0022997289445679152}. Best is trial 51 with value: -0.6016612752331586.\u001b[0m\n",
      "\u001b[32m[I 2021-07-27 19:56:56,951]\u001b[0m Trial 92 finished with value: -0.6015959805768605 and parameters: {'alpha': 0.0011726810931152638}. Best is trial 51 with value: -0.6016612752331586.\u001b[0m\n",
      "\u001b[32m[I 2021-07-27 19:56:57,023]\u001b[0m Trial 93 finished with value: -0.6016613339956023 and parameters: {'alpha': 0.0022846276346693115}. Best is trial 93 with value: -0.6016613339956023.\u001b[0m\n",
      "\u001b[32m[I 2021-07-27 19:56:57,101]\u001b[0m Trial 94 finished with value: -0.6016573251262336 and parameters: {'alpha': 0.0025125232192544263}. Best is trial 93 with value: -0.6016613339956023.\u001b[0m\n",
      "\u001b[32m[I 2021-07-27 19:56:57,181]\u001b[0m Trial 95 finished with value: -0.6015005407810637 and parameters: {'alpha': 0.000558506631187146}. Best is trial 93 with value: -0.6016613339956023.\u001b[0m\n",
      "\u001b[32m[I 2021-07-27 19:56:57,260]\u001b[0m Trial 96 finished with value: -0.6015829685244942 and parameters: {'alpha': 0.003458084606340409}. Best is trial 93 with value: -0.6016613339956023.\u001b[0m\n",
      "\u001b[32m[I 2021-07-27 19:56:57,333]\u001b[0m Trial 97 finished with value: -0.6016109937210501 and parameters: {'alpha': 0.0013048986963272394}. Best is trial 93 with value: -0.6016613339956023.\u001b[0m\n",
      "\u001b[32m[I 2021-07-27 19:56:57,405]\u001b[0m Trial 98 finished with value: -0.5916894637460682 and parameters: {'alpha': 0.015614088466756966}. Best is trial 93 with value: -0.6016613339956023.\u001b[0m\n",
      "\u001b[32m[I 2021-07-27 19:56:57,470]\u001b[0m Trial 99 finished with value: -0.5990427811267417 and parameters: {'alpha': 0.009040396710907167}. Best is trial 93 with value: -0.6016613339956023.\u001b[0m\n"
     ]
    },
    {
     "name": "stdout",
     "output_type": "stream",
     "text": [
      "{'alpha': 0.0022846276346693115}\n",
      "-0.6016613339956023\n",
      "FrozenTrial(number=93, values=[-0.6016613339956023], datetime_start=datetime.datetime(2021, 7, 27, 19, 56, 56, 952503), datetime_complete=datetime.datetime(2021, 7, 27, 19, 56, 57, 22896), params={'alpha': 0.0022846276346693115}, distributions={'alpha': LogUniformDistribution(high=1.0, low=1e-08)}, user_attrs={}, system_attrs={}, intermediate_values={}, trial_id=93, state=TrialState.COMPLETE, value=None)\n"
     ]
    }
   ],
   "source": [
    "def objective_lasso(trial):\n",
    "    params = {\n",
    "        'alpha': trial.suggest_loguniform('alpha', 1e-8, 1)\n",
    "    }\n",
    "\n",
    "    scores = []\n",
    "    for train_index, test_index in KFold(n_splits=5, shuffle=True, random_state=42).split(df):\n",
    "        scaler = StandardScaler()\n",
    "        data = np.hstack([df.values, housing['target'][:,None]])\n",
    "        scaler.fit(data[train_index])\n",
    "        xy_train = scaler.transform(data[train_index])\n",
    "        xy_test = scaler.transform(data[test_index])\n",
    "        x_train, x_test, y_train, y_test = xy_train[:,:-2], xy_test[:,:-2], xy_train[:,-1], xy_test[:,-1]\n",
    "\n",
    "        model = Lasso(**params)\n",
    "        model.fit(x_train, y_train)\n",
    "        scores += [model.score(x_test, y_test)]\n",
    "    scores = np.array(scores)\n",
    "    # スコアの負を返す（目的関数を最小化するため）\n",
    "    return -scores.mean()\n",
    "\n",
    "if __name__ == '__main__':\n",
    "    study = optuna.create_study()\n",
    "    study.optimize(objective_lasso, n_trials=100)\n",
    "\n",
    "    print(study.best_params)\n",
    "    print(study.best_value)\n",
    "    print(study.best_trial)"
   ]
  },
  {
   "cell_type": "code",
   "execution_count": 127,
   "id": "8b564209",
   "metadata": {},
   "outputs": [
    {
     "name": "stdout",
     "output_type": "stream",
     "text": [
      "[ 1.45774399e-01  5.92146366e-03  0.00000000e+00 -0.00000000e+00\n",
      " -6.85952285e-06 -0.00000000e+00 -0.00000000e+00 -0.00000000e+00]\n"
     ]
    }
   ],
   "source": [
    "print(model.coef_)"
   ]
  },
  {
   "cell_type": "code",
   "execution_count": 128,
   "id": "7351fa1e",
   "metadata": {},
   "outputs": [],
   "source": [
    "with open('Lasso_model.bin', mode='wb') as f:\n",
    "    pickle.dump(model, f)"
   ]
  },
  {
   "cell_type": "code",
   "execution_count": 130,
   "id": "08d4620b",
   "metadata": {},
   "outputs": [],
   "source": [
    "from sklearn.kernel_ridge import KernelRidge"
   ]
  },
  {
   "cell_type": "code",
   "execution_count": 135,
   "id": "d13c7906",
   "metadata": {
    "scrolled": true
   },
   "outputs": [
    {
     "name": "stderr",
     "output_type": "stream",
     "text": [
      "\u001b[32m[I 2021-07-27 20:21:35,471]\u001b[0m A new study created in memory with name: no-name-08f9996a-ecbd-4820-be2c-ec51f2426ecd\u001b[0m\n",
      "\u001b[32m[I 2021-07-27 20:22:13,644]\u001b[0m Trial 0 finished with value: 98.70160290513586 and parameters: {'alpha': 3.561709293376304e-08, 'gamma': 0.08516990928971344}. Best is trial 0 with value: 98.70160290513586.\u001b[0m\n",
      "\u001b[32m[I 2021-07-27 20:22:51,425]\u001b[0m Trial 1 finished with value: -0.0010472614174746875 and parameters: {'alpha': 0.3553548289843493, 'gamma': 1.3935614277285742e-08}. Best is trial 1 with value: -0.0010472614174746875.\u001b[0m\n",
      "\u001b[32m[I 2021-07-27 20:23:31,411]\u001b[0m Trial 2 finished with value: -0.774072028813286 and parameters: {'alpha': 0.2891466958322625, 'gamma': 0.51893875086944}. Best is trial 2 with value: -0.774072028813286.\u001b[0m\n",
      "\u001b[32m[I 2021-07-27 20:24:10,828]\u001b[0m Trial 3 finished with value: -0.5350086571239797 and parameters: {'alpha': 0.0004534762746803521, 'gamma': 0.0003052246532011858}. Best is trial 2 with value: -0.774072028813286.\u001b[0m\n",
      "\u001b[32m[I 2021-07-27 20:24:49,322]\u001b[0m Trial 4 finished with value: 37.600114320810405 and parameters: {'alpha': 3.5990006153127253e-08, 'gamma': 0.007271885040270008}. Best is trial 2 with value: -0.774072028813286.\u001b[0m\n",
      "\u001b[32m[I 2021-07-27 20:25:29,635]\u001b[0m Trial 5 finished with value: -0.6131360006949694 and parameters: {'alpha': 0.009792459235747376, 'gamma': 0.0005665595055235894}. Best is trial 2 with value: -0.774072028813286.\u001b[0m\n",
      "\u001b[32m[I 2021-07-27 20:26:08,832]\u001b[0m Trial 6 finished with value: -0.034570509953840554 and parameters: {'alpha': 8.050407179593702e-08, 'gamma': 1.771021833760692e-07}. Best is trial 2 with value: -0.774072028813286.\u001b[0m\n",
      "\u001b[32m[I 2021-07-27 20:26:48,975]\u001b[0m Trial 7 finished with value: -0.6021469619942574 and parameters: {'alpha': 0.00023555218013424995, 'gamma': 6.830807610302591e-07}. Best is trial 2 with value: -0.774072028813286.\u001b[0m\n",
      "\u001b[32m[I 2021-07-27 20:27:28,810]\u001b[0m Trial 8 finished with value: 9.068585644653503 and parameters: {'alpha': 7.561342474428666e-07, 'gamma': 0.01297861865540455}. Best is trial 2 with value: -0.774072028813286.\u001b[0m\n",
      "\u001b[32m[I 2021-07-27 20:28:10,429]\u001b[0m Trial 9 finished with value: 0.009809132735015899 and parameters: {'alpha': 4.138718608458857e-06, 'gamma': 5.32381074582947e-06}. Best is trial 2 with value: -0.774072028813286.\u001b[0m\n",
      "\u001b[32m[I 2021-07-27 20:28:53,614]\u001b[0m Trial 10 finished with value: -0.7616327957180031 and parameters: {'alpha': 0.762282260753193, 'gamma': 0.9287645340900283}. Best is trial 2 with value: -0.774072028813286.\u001b[0m\n",
      "\u001b[32m[I 2021-07-27 20:29:35,915]\u001b[0m Trial 11 finished with value: -0.7640105656359807 and parameters: {'alpha': 0.7379145741200321, 'gamma': 0.8243571154605486}. Best is trial 2 with value: -0.774072028813286.\u001b[0m\n",
      "\u001b[32m[I 2021-07-27 20:30:19,407]\u001b[0m Trial 12 finished with value: -0.7498104804819281 and parameters: {'alpha': 0.024707541728456343, 'gamma': 0.9631127930343765}. Best is trial 2 with value: -0.774072028813286.\u001b[0m\n",
      "\u001b[32m[I 2021-07-27 20:31:00,636]\u001b[0m Trial 13 finished with value: -0.7691237548059516 and parameters: {'alpha': 0.066355813366804, 'gamma': 0.13647835995616}. Best is trial 2 with value: -0.774072028813286.\u001b[0m\n",
      "\u001b[32m[I 2021-07-27 20:31:38,857]\u001b[0m Trial 14 finished with value: -0.7456337816125723 and parameters: {'alpha': 0.023601111534327302, 'gamma': 0.046396064185990335}. Best is trial 2 with value: -0.774072028813286.\u001b[0m\n",
      "\u001b[32m[I 2021-07-27 20:32:17,355]\u001b[0m Trial 15 finished with value: -0.6403215664683433 and parameters: {'alpha': 0.0019151812048295435, 'gamma': 0.0017533180140480924}. Best is trial 2 with value: -0.774072028813286.\u001b[0m\n",
      "\u001b[32m[I 2021-07-27 20:32:57,165]\u001b[0m Trial 16 finished with value: -0.5416327295333406 and parameters: {'alpha': 0.14678061342600038, 'gamma': 2.7623230166668747e-05}. Best is trial 2 with value: -0.774072028813286.\u001b[0m\n",
      "\u001b[32m[I 2021-07-27 20:33:35,863]\u001b[0m Trial 17 finished with value: -0.2635013538886381 and parameters: {'alpha': 1.889320229131427e-05, 'gamma': 0.16066425047547636}. Best is trial 2 with value: -0.774072028813286.\u001b[0m\n",
      "\u001b[32m[I 2021-07-27 20:34:15,842]\u001b[0m Trial 18 finished with value: -0.7760854935529471 and parameters: {'alpha': 0.09263366274829903, 'gamma': 0.3023471641046272}. Best is trial 18 with value: -0.7760854935529471.\u001b[0m\n",
      "\u001b[32m[I 2021-07-27 20:34:53,853]\u001b[0m Trial 19 finished with value: -0.6969868126803318 and parameters: {'alpha': 0.002626254396327852, 'gamma': 0.004672043234710473}. Best is trial 18 with value: -0.7760854935529471.\u001b[0m\n"
     ]
    },
    {
     "name": "stdout",
     "output_type": "stream",
     "text": [
      "{'alpha': 0.09263366274829903, 'gamma': 0.3023471641046272}\n",
      "-0.7760854935529471\n",
      "FrozenTrial(number=18, values=[-0.7760854935529471], datetime_start=datetime.datetime(2021, 7, 27, 20, 33, 35, 864620), datetime_complete=datetime.datetime(2021, 7, 27, 20, 34, 15, 841972), params={'alpha': 0.09263366274829903, 'gamma': 0.3023471641046272}, distributions={'alpha': LogUniformDistribution(high=1.0, low=1e-08), 'gamma': LogUniformDistribution(high=1.0, low=1e-08)}, user_attrs={}, system_attrs={}, intermediate_values={}, trial_id=18, state=TrialState.COMPLETE, value=None)\n"
     ]
    }
   ],
   "source": [
    "def objective_kr(trial):\n",
    "    params = {\n",
    "        'kernel': 'rbf',\n",
    "        'alpha': trial.suggest_loguniform('alpha', 1e-8, 1),\n",
    "        'gamma': trial.suggest_loguniform('gamma', 1e-8, 1)\n",
    "    }\n",
    "\n",
    "    scores = []\n",
    "    for train_index, test_index in KFold(n_splits=3, shuffle=True, random_state=42).split(df):\n",
    "        scaler = StandardScaler()\n",
    "        data = np.hstack([df.values, housing['target'][:,None]])\n",
    "        scaler.fit(data[train_index])\n",
    "        xy_train = scaler.transform(data[train_index])\n",
    "        xy_test = scaler.transform(data[test_index])\n",
    "        x_train, x_test, y_train, y_test = xy_train[:,:-2], xy_test[:,:-2], xy_train[:,-1], xy_test[:,-1]\n",
    "\n",
    "        model = KernelRidge(**params)\n",
    "        model.fit(x_train, y_train)\n",
    "        scores += [model.score(x_test, y_test)]\n",
    "    scores = np.array(scores)\n",
    "    # スコアの負を返す（目的関数を最小化するため）\n",
    "    return -scores.mean()\n",
    "\n",
    "if __name__ == '__main__':\n",
    "    study = optuna.create_study()\n",
    "    study.optimize(objective_kr, n_trials=20)\n",
    "\n",
    "    print(study.best_params)\n",
    "    print(study.best_value)\n",
    "    print(study.best_trial)"
   ]
  },
  {
   "cell_type": "code",
   "execution_count": 136,
   "id": "6f44cc7e",
   "metadata": {
    "scrolled": true
   },
   "outputs": [
    {
     "name": "stderr",
     "output_type": "stream",
     "text": [
      "\u001b[32m[I 2021-07-27 20:37:26,617]\u001b[0m Trial 20 finished with value: -0.5955234459968664 and parameters: {'alpha': 0.003484197530293403, 'gamma': 5.4870808908371826e-05}. Best is trial 18 with value: -0.7760854935529471.\u001b[0m\n",
      "\u001b[32m[I 2021-07-27 20:38:05,352]\u001b[0m Trial 21 finished with value: -0.7764715034344759 and parameters: {'alpha': 0.07759761448035783, 'gamma': 0.35620427426081175}. Best is trial 21 with value: -0.7764715034344759.\u001b[0m\n",
      "\u001b[32m[I 2021-07-27 20:38:44,394]\u001b[0m Trial 22 finished with value: -0.767285050152758 and parameters: {'alpha': 0.12176232511325516, 'gamma': 0.9938276030759435}. Best is trial 21 with value: -0.7764715034344759.\u001b[0m\n",
      "\u001b[32m[I 2021-07-27 20:39:23,083]\u001b[0m Trial 23 finished with value: -0.7121447001050539 and parameters: {'alpha': 0.9387504736295331, 'gamma': 0.03772069954226896}. Best is trial 21 with value: -0.7764715034344759.\u001b[0m\n",
      "\u001b[32m[I 2021-07-27 20:40:01,759]\u001b[0m Trial 24 finished with value: -0.7752760998943877 and parameters: {'alpha': 0.04994285037723684, 'gamma': 0.23633550769224546}. Best is trial 21 with value: -0.7764715034344759.\u001b[0m\n",
      "\u001b[32m[I 2021-07-27 20:40:40,335]\u001b[0m Trial 25 finished with value: -0.774589770349955 and parameters: {'alpha': 0.029842733020167822, 'gamma': 0.26261396353446514}. Best is trial 21 with value: -0.7764715034344759.\u001b[0m\n",
      "\u001b[32m[I 2021-07-27 20:41:19,399]\u001b[0m Trial 26 finished with value: -0.7099864257821364 and parameters: {'alpha': 0.0005637694091087115, 'gamma': 0.0225679618953302}. Best is trial 21 with value: -0.7764715034344759.\u001b[0m\n",
      "\u001b[32m[I 2021-07-27 20:41:59,318]\u001b[0m Trial 27 finished with value: -0.6053718328205667 and parameters: {'alpha': 4.949639406263939e-05, 'gamma': 0.003635202640900858}. Best is trial 21 with value: -0.7764715034344759.\u001b[0m\n",
      "\u001b[32m[I 2021-07-27 20:42:42,663]\u001b[0m Trial 28 finished with value: -0.7644545999108013 and parameters: {'alpha': 0.007567899115613175, 'gamma': 0.2435985201032038}. Best is trial 21 with value: -0.7764715034344759.\u001b[0m\n",
      "\u001b[32m[I 2021-07-27 20:43:25,777]\u001b[0m Trial 29 finished with value: -0.7601682584961283 and parameters: {'alpha': 0.04018579829234248, 'gamma': 0.07886858745066665}. Best is trial 21 with value: -0.7764715034344759.\u001b[0m\n",
      "\u001b[32m[I 2021-07-27 20:44:08,000]\u001b[0m Trial 30 finished with value: -0.6309923485777408 and parameters: {'alpha': 0.009269866675272092, 'gamma': 0.0008915460934741438}. Best is trial 21 with value: -0.7764715034344759.\u001b[0m\n",
      "\u001b[32m[I 2021-07-27 20:44:50,229]\u001b[0m Trial 31 finished with value: -0.7757698077457817 and parameters: {'alpha': 0.07505622160215983, 'gamma': 0.26917454363422527}. Best is trial 21 with value: -0.7764715034344759.\u001b[0m\n",
      "\u001b[32m[I 2021-07-27 20:45:31,253]\u001b[0m Trial 32 finished with value: -0.7317986325419922 and parameters: {'alpha': 0.15916492481400007, 'gamma': 0.03875307287800816}. Best is trial 21 with value: -0.7764715034344759.\u001b[0m\n",
      "\u001b[32m[I 2021-07-27 20:46:13,203]\u001b[0m Trial 33 finished with value: -0.7737039044614614 and parameters: {'alpha': 0.24032588035287955, 'gamma': 0.3344212724925656}. Best is trial 21 with value: -0.7764715034344759.\u001b[0m\n",
      "\u001b[32m[I 2021-07-27 20:46:55,481]\u001b[0m Trial 34 finished with value: -0.7452224895377734 and parameters: {'alpha': 0.49175126494362337, 'gamma': 0.09589346052011094}. Best is trial 21 with value: -0.7764715034344759.\u001b[0m\n",
      "\u001b[32m[I 2021-07-27 20:47:37,467]\u001b[0m Trial 35 finished with value: -0.6923100140824451 and parameters: {'alpha': 0.0011308607141781177, 'gamma': 0.01267783548679549}. Best is trial 21 with value: -0.7764715034344759.\u001b[0m\n",
      "\u001b[32m[I 2021-07-27 20:48:19,427]\u001b[0m Trial 36 finished with value: -0.7749466266053889 and parameters: {'alpha': 0.0707822210918192, 'gamma': 0.497365891962779}. Best is trial 21 with value: -0.7764715034344759.\u001b[0m\n",
      "\u001b[32m[I 2021-07-27 20:48:58,970]\u001b[0m Trial 37 finished with value: -0.7610239300596447 and parameters: {'alpha': 0.008632790744537032, 'gamma': 0.32551192431544185}. Best is trial 21 with value: -0.7764715034344759.\u001b[0m\n",
      "\u001b[32m[I 2021-07-27 20:49:36,464]\u001b[0m Trial 38 finished with value: -0.5888510045634815 and parameters: {'alpha': 0.26931343196312246, 'gamma': 0.00016851894933053092}. Best is trial 21 with value: -0.7764715034344759.\u001b[0m\n",
      "\u001b[32m[I 2021-07-27 20:50:17,314]\u001b[0m Trial 39 finished with value: -0.01677759681711007 and parameters: {'alpha': 0.018252638665480835, 'gamma': 1.0750200079937938e-08}. Best is trial 21 with value: -0.7764715034344759.\u001b[0m\n"
     ]
    },
    {
     "name": "stdout",
     "output_type": "stream",
     "text": [
      "{'alpha': 0.07759761448035783, 'gamma': 0.35620427426081175}\n",
      "-0.7764715034344759\n",
      "FrozenTrial(number=21, values=[-0.7764715034344759], datetime_start=datetime.datetime(2021, 7, 27, 20, 37, 26, 618897), datetime_complete=datetime.datetime(2021, 7, 27, 20, 38, 5, 350096), params={'alpha': 0.07759761448035783, 'gamma': 0.35620427426081175}, distributions={'alpha': LogUniformDistribution(high=1.0, low=1e-08), 'gamma': LogUniformDistribution(high=1.0, low=1e-08)}, user_attrs={}, system_attrs={}, intermediate_values={}, trial_id=21, state=TrialState.COMPLETE, value=None)\n"
     ]
    }
   ],
   "source": [
    "if __name__ == '__main__':\n",
    "    #study = optuna.create_study()\n",
    "    study.optimize(objective_kr, n_trials=20)\n",
    "\n",
    "    print(study.best_params)\n",
    "    print(study.best_value)\n",
    "    print(study.best_trial)"
   ]
  },
  {
   "cell_type": "code",
   "execution_count": 138,
   "id": "d8d1a54d",
   "metadata": {
    "scrolled": true
   },
   "outputs": [
    {
     "name": "stderr",
     "output_type": "stream",
     "text": [
      "n_sample=16\n",
      "n_sample=23\n",
      "n_sample=32\n",
      "n_sample=45\n",
      "n_sample=63\n",
      "n_sample=88\n",
      "n_sample=124\n",
      "n_sample=174\n",
      "n_sample=243\n",
      "n_sample=341\n",
      "n_sample=477\n",
      "n_sample=668\n",
      "n_sample=936\n",
      "n_sample=1310\n",
      "n_sample=1834\n",
      "n_sample=2568\n",
      "n_sample=3596\n",
      "n_sample=5034\n",
      "n_sample=7048\n",
      "n_sample=9868\n",
      "n_sample=13815\n",
      "n_sample=16512\n"
     ]
    }
   ],
   "source": [
    "n_samples = [int(df.index.size*0.8*min(0.001 * 1.4**i,1)) for i in range(22)]\n",
    "scores = []\n",
    "\n",
    "for n_sample in n_samples:\n",
    "    scores_ = []\n",
    "    print(f\"n_sample={n_sample}\", file=sys.stderr)\n",
    "    for i,(train_index, test_index) in enumerate(KFold(n_splits=3, shuffle=True, random_state=42).split(df)):\n",
    "        scaler = StandardScaler()\n",
    "        data = np.hstack([df.values, housing['target'][:,None]])\n",
    "        scaler.fit(data[train_index])\n",
    "        xy_train = scaler.transform(data[train_index[:n_sample]])\n",
    "        xy_test = scaler.transform(data[test_index])\n",
    "        x_train, x_test, y_train, y_test = xy_train[:,:-2], xy_test[:,:-2], xy_train[:,-1], xy_test[:,-1]\n",
    "\n",
    "        model = KernelRidge(**study.best_params)\n",
    "        model.fit(x_train, y_train)\n",
    "        scores_ += [[model.score(x_train, y_train), model.score(x_test, y_test)]]\n",
    "    scores += [scores_]\n",
    "scores = np.array(scores)"
   ]
  },
  {
   "cell_type": "code",
   "execution_count": 144,
   "id": "50b9d093",
   "metadata": {},
   "outputs": [],
   "source": [
    "np.save('KR_learning.npy', scores)"
   ]
  },
  {
   "cell_type": "code",
   "execution_count": 188,
   "id": "5008ada4",
   "metadata": {},
   "outputs": [],
   "source": [
    "scores=np.load('KR_learning.npy')"
   ]
  },
  {
   "cell_type": "code",
   "execution_count": 191,
   "id": "43323aa1",
   "metadata": {},
   "outputs": [
    {
     "data": {
      "text/plain": [
       "[16,\n",
       " 23,\n",
       " 32,\n",
       " 45,\n",
       " 63,\n",
       " 88,\n",
       " 124,\n",
       " 174,\n",
       " 243,\n",
       " 341,\n",
       " 477,\n",
       " 668,\n",
       " 936,\n",
       " 1310,\n",
       " 1834,\n",
       " 2568,\n",
       " 3596,\n",
       " 5034,\n",
       " 7048,\n",
       " 9868,\n",
       " 13815,\n",
       " 16512]"
      ]
     },
     "execution_count": 191,
     "metadata": {},
     "output_type": "execute_result"
    }
   ],
   "source": [
    "[int(df.index.size*0.8*min(0.001 * 1.4**i,1)) for i in range(22)]"
   ]
  },
  {
   "cell_type": "code",
   "execution_count": 189,
   "id": "c5e61087",
   "metadata": {},
   "outputs": [
    {
     "data": {
      "image/png": "[encoded data removed]",
      "text/plain": [
       "<Figure size 432x288 with 1 Axes>"
      ]
     },
     "metadata": {
      "needs_background": "light"
     },
     "output_type": "display_data"
    }
   ],
   "source": [
    "n_samples = [int(df.index.size*2/3*min(0.001 * 1.4**i,1)) for i in range(22)]\n",
    "plt.plot(n_samples, scores.mean(axis=1)[:, 0], marker=\"o\", label=\"learning score\")\n",
    "plt.fill_between(n_samples,\n",
    "                 scores.mean(axis=1)[:, 0]-scores.std(axis=1)[:, 0],\n",
    "                 scores.mean(axis=1)[:, 0]+scores.std(axis=1)[:, 0], alpha=0.5)\n",
    "plt.plot(n_samples, scores.mean(axis=1)[:, 1], marker=\"o\", label=\"validaiton score\")\n",
    "plt.fill_between(n_samples,\n",
    "                 scores.mean(axis=1)[:, 1]-scores.std(axis=1)[:, 1],\n",
    "                 scores.mean(axis=1)[:, 1]+scores.std(axis=1)[:, 1], alpha=0.5)\n",
    "plt.xscale(\"log\")\n",
    "plt.ylim(0,1)\n",
    "plt.legend()\n",
    "plt.xlabel(\"Training Samples\")\n",
    "plt.ylabel(r\"$R^2$ Score\")\n",
    "plt.show()"
   ]
  },
  {
   "cell_type": "code",
   "execution_count": 157,
   "id": "c984209d",
   "metadata": {},
   "outputs": [
    {
     "name": "stderr",
     "output_type": "stream",
     "text": [
      "alpha=0.0001; 0.9148744094616154, 0.43025858147863283; 0.9161614244712287, 0.4180540309501851; 0.9168610413479821, 0.4079063778785502\n",
      "alpha=0.0002; 0.906659436461228, 0.5676368010204664; 0.9081696160983902, 0.5653209171929167; 0.9087622963946981, 0.5303050393234945\n",
      "alpha=0.0004; 0.8982637466021286, 0.6489860686866324; 0.9001442823638968, 0.6445977241825118; 0.9004550579480829, 0.6008475456201279\n",
      "alpha=0.0008; 0.8897286781729525, 0.6971445272642851; 0.8921232325759857, 0.6892509355004399; 0.8920277257449483, 0.6500177488571568\n",
      "alpha=0.0016; 0.8810637807898265, 0.7263809317048024; 0.8840524962596236, 0.7183963391915763; 0.8834900022112787, 0.6897464546678937\n",
      "alpha=0.0032; 0.8722344223247083, 0.7447790134648822; 0.8758173918571566, 0.7399906447934754; 0.8747701087048831, 0.7222435121611446\n",
      "alpha=0.0064; 0.8632175551368233, 0.7567219890058409; 0.8673413244146716, 0.7563554343828458; 0.8657558561569798, 0.7466111856381659\n",
      "alpha=0.0128; 0.854020816917143, 0.764551137337589; 0.8586032022015566, 0.7679831431125057; 0.8563425483432522, 0.7626439534382583\n",
      "alpha=0.0256; 0.8446386446273263, 0.7694772260631303; 0.8495794965555599, 0.7753692971550408; 0.8465246728758985, 0.7717090693969473\n",
      "alpha=0.0512; 0.8349875928673381, 0.7720961834238318; 0.8401972388028928, 0.7792943321692827; 0.8363962500549649, 0.7757773534591971\n",
      "alpha=0.1024; 0.8248481669641838, 0.772596535848779; 0.8303600323062565, 0.7804603825137008; 0.8259811636595658, 0.7763399370860173\n",
      "alpha=0.2048; 0.8138941937237459, 0.7708637555537734; 0.8199585899923905, 0.7793257065336187; 0.8151013806278721, 0.7742193068715\n",
      "alpha=0.4096; 0.801828399009467, 0.7667361874287361; 0.8087562457342677, 0.7760596006778387; 0.803385301496302, 0.7698624141777185\n",
      "alpha=0.8192; 0.788377981589634, 0.760167997084648; 0.796314385585295, 0.7705302093965071; 0.7903046022908851, 0.7633505762082563\n"
     ]
    }
   ],
   "source": [
    "alphas = [1e-4 * 2**i for i in range(14)]\n",
    "scores = []\n",
    "\n",
    "for alpha in alphas:\n",
    "    scores_ = []\n",
    "    print(f\"alpha={alpha}\", file=sys.stderr, end='')\n",
    "    for i,(train_index, test_index) in enumerate(KFold(n_splits=3, shuffle=True, random_state=42).split(df)):\n",
    "        scaler = StandardScaler()\n",
    "        data = np.hstack([df.values, housing['target'][:,None]])\n",
    "        scaler.fit(data[train_index])\n",
    "        xy_train = scaler.transform(data[train_index])\n",
    "        xy_test = scaler.transform(data[test_index])\n",
    "        x_train, x_test, y_train, y_test = xy_train[:,:-2], xy_test[:,:-2], xy_train[:,-1], xy_test[:,-1]\n",
    "\n",
    "        model = KernelRidge(kernel='rbf', alpha=alpha, gamma=study.best_params['gamma'])\n",
    "        model.fit(x_train, y_train)\n",
    "        scores_ += [[model.score(x_train, y_train), model.score(x_test, y_test)]]\n",
    "        print(f\"; {scores_[-1][0]}, {scores_[-1][1]}\", file=sys.stderr, end='')\n",
    "    print('', file=sys.stderr)\n",
    "    scores += [scores_]\n",
    "scores = np.array(scores)"
   ]
  },
  {
   "cell_type": "code",
   "execution_count": 158,
   "id": "f85b3842",
   "metadata": {},
   "outputs": [],
   "source": [
    "np.save('KR_validation_alpha.npy', scores)"
   ]
  },
  {
   "cell_type": "code",
   "execution_count": 162,
   "id": "cbf9e676",
   "metadata": {},
   "outputs": [
    {
     "data": {
      "image/png": "[encoded data removed]",
      "text/plain": [
       "<Figure size 432x288 with 1 Axes>"
      ]
     },
     "metadata": {
      "needs_background": "light"
     },
     "output_type": "display_data"
    }
   ],
   "source": [
    "plt.plot(alphas, scores.mean(axis=1)[:, 0], marker=\"o\", label=\"learning score\")\n",
    "plt.fill_between(alphas,\n",
    "                 scores.mean(axis=1)[:, 0]-scores.std(axis=1)[:, 0],\n",
    "                 scores.mean(axis=1)[:, 0]+scores.std(axis=1)[:, 0], alpha=0.5)\n",
    "plt.plot(alphas, scores.mean(axis=1)[:, 1], marker=\"o\", label=\"validaiton score\")\n",
    "plt.fill_between(alphas,\n",
    "                 scores.mean(axis=1)[:, 1]-scores.std(axis=1)[:, 1],\n",
    "                 scores.mean(axis=1)[:, 1]+scores.std(axis=1)[:, 1], alpha=0.5)\n",
    "plt.xscale(\"log\")\n",
    "plt.ylim(0.5 ,1)\n",
    "plt.xlabel(\"alpha\")\n",
    "plt.ylabel(r\"$R^2$ Score\")\n",
    "plt.legend()\n",
    "plt.show()"
   ]
  },
  {
   "cell_type": "code",
   "execution_count": 163,
   "id": "c32c4cbe",
   "metadata": {},
   "outputs": [
    {
     "data": {
      "image/png": "[encoded data removed]",
      "text/plain": [
       "<Figure size 432x288 with 1 Axes>"
      ]
     },
     "metadata": {
      "needs_background": "light"
     },
     "output_type": "display_data"
    }
   ],
   "source": [
    "plt.plot(alphas, scores.mean(axis=1)[:, 0], marker=\"o\", label=\"learning score\")\n",
    "plt.fill_between(alphas,\n",
    "                 scores.mean(axis=1)[:, 0]-scores.std(axis=1)[:, 0],\n",
    "                 scores.mean(axis=1)[:, 0]+scores.std(axis=1)[:, 0], alpha=0.5)\n",
    "plt.plot(alphas, scores.mean(axis=1)[:, 1], marker=\"o\", label=\"validaiton score\")\n",
    "plt.fill_between(alphas,\n",
    "                 scores.mean(axis=1)[:, 1]-scores.std(axis=1)[:, 1],\n",
    "                 scores.mean(axis=1)[:, 1]+scores.std(axis=1)[:, 1], alpha=0.5)\n",
    "plt.xscale(\"log\")\n",
    "plt.ylim(0.7 ,0.85)\n",
    "plt.xlabel(\"alpha\")\n",
    "plt.ylabel(r\"$R^2$ Score\")\n",
    "plt.legend()\n",
    "plt.show()"
   ]
  },
  {
   "cell_type": "code",
   "execution_count": 168,
   "id": "4b490e25",
   "metadata": {},
   "outputs": [
    {
     "name": "stderr",
     "output_type": "stream",
     "text": [
      "gamma=0.001; 0.6440, 0.6323; 0.6454, 0.6498; 0.6421, 0.6329\n",
      "gamma=0.002; 0.6607, 0.6443; 0.6625, 0.6595; 0.6577, 0.6550\n",
      "gamma=0.004; 0.6798, 0.6643; 0.6846, 0.6825; 0.6807, 0.6760\n",
      "gamma=0.008; 0.7005, 0.6923; 0.7074, 0.7011; 0.7040, 0.6976\n",
      "gamma=0.016; 0.7188, 0.7091; 0.7261, 0.7207; 0.7216, 0.7126\n",
      "gamma=0.032; 0.7399, 0.7254; 0.7471, 0.7394; 0.7427, 0.7304\n",
      "gamma=0.064; 0.7635, 0.7447; 0.7681, 0.7561; 0.7654, 0.7485\n",
      "gamma=0.128; 0.7893, 0.7637; 0.7938, 0.7722; 0.7905, 0.7663\n",
      "gamma=0.256; 0.8151, 0.7722; 0.8204, 0.7793; 0.8163, 0.7749\n",
      "gamma=0.512; 0.8459, 0.7706; 0.8514, 0.7790; 0.8479, 0.7755\n",
      "gamma=1.024; 0.8854, 0.7597; 0.8900, 0.7694; 0.8887, 0.7623\n",
      "gamma=2.048; 0.9311, 0.7303; 0.9351, 0.7358; 0.9340, 0.7263\n",
      "gamma=4.096; 0.9696, 0.6680; 0.9718, 0.6722; 0.9707, 0.6575\n",
      "gamma=8.192; 0.9896, 0.5469; 0.9905, 0.5585; 0.9897, 0.5362\n"
     ]
    }
   ],
   "source": [
    "gammas = [1e-3 * 2**i for i in range(14)]\n",
    "scores = []\n",
    "\n",
    "for gamma in gammas:\n",
    "    scores_ = []\n",
    "    print(f\"gamma={gamma}\", file=sys.stderr, end='')\n",
    "    for i,(train_index, test_index) in enumerate(KFold(n_splits=3, shuffle=True, random_state=42).split(df)):\n",
    "        scaler = StandardScaler()\n",
    "        data = np.hstack([df.values, housing['target'][:,None]])\n",
    "        scaler.fit(data[train_index])\n",
    "        xy_train = scaler.transform(data[train_index])\n",
    "        xy_test = scaler.transform(data[test_index])\n",
    "        x_train, x_test, y_train, y_test = xy_train[:,:-2], xy_test[:,:-2], xy_train[:,-1], xy_test[:,-1]\n",
    "\n",
    "        model = KernelRidge(kernel='rbf', gamma=gamma, alpha=study.best_params['alpha'])\n",
    "        model.fit(x_train, y_train)\n",
    "        scores_ += [[model.score(x_train, y_train), model.score(x_test, y_test)]]\n",
    "        print(f\"; {scores_[-1][0]:.4f}, {scores_[-1][1]:.4f}\", file=sys.stderr, end='')\n",
    "    print('', file=sys.stderr)\n",
    "    scores += [scores_]\n",
    "scores = np.array(scores)\n",
    "np.save('KR_validation_gamma.npy', scores)"
   ]
  },
  {
   "cell_type": "code",
   "execution_count": 169,
   "id": "a86a8609",
   "metadata": {},
   "outputs": [
    {
     "data": {
      "image/png": "[encoded data removed]",
      "text/plain": [
       "<Figure size 432x288 with 1 Axes>"
      ]
     },
     "metadata": {
      "needs_background": "light"
     },
     "output_type": "display_data"
    }
   ],
   "source": [
    "plt.plot(gammas, scores.mean(axis=1)[:, 0], marker=\"o\", label=\"learning score\")\n",
    "plt.fill_between(gammas,\n",
    "                 scores.mean(axis=1)[:, 0]-scores.std(axis=1)[:, 0],\n",
    "                 scores.mean(axis=1)[:, 0]+scores.std(axis=1)[:, 0], alpha=0.5)\n",
    "plt.plot(gammas, scores.mean(axis=1)[:, 1], marker=\"o\", label=\"validaiton score\")\n",
    "plt.fill_between(gammas,\n",
    "                 scores.mean(axis=1)[:, 1]-scores.std(axis=1)[:, 1],\n",
    "                 scores.mean(axis=1)[:, 1]+scores.std(axis=1)[:, 1], alpha=0.5)\n",
    "plt.xscale(\"log\")\n",
    "plt.ylim(0.5 ,1)\n",
    "plt.xlabel(\"gamma\")\n",
    "plt.ylabel(r\"$R^2$ Score\")\n",
    "plt.legend()\n",
    "plt.show()"
   ]
  },
  {
   "cell_type": "code",
   "execution_count": 170,
   "id": "bfe2a3fd",
   "metadata": {
    "scrolled": true
   },
   "outputs": [
    {
     "data": {
      "image/png": "[encoded data removed]",
      "text/plain": [
       "<Figure size 432x288 with 1 Axes>"
      ]
     },
     "metadata": {
      "needs_background": "light"
     },
     "output_type": "display_data"
    }
   ],
   "source": [
    "plt.plot(gammas, scores.mean(axis=1)[:, 0], marker=\"o\", label=\"learning score\")\n",
    "plt.fill_between(gammas,\n",
    "                 scores.mean(axis=1)[:, 0]-scores.std(axis=1)[:, 0],\n",
    "                 scores.mean(axis=1)[:, 0]+scores.std(axis=1)[:, 0], alpha=0.5)\n",
    "plt.plot(gammas, scores.mean(axis=1)[:, 1], marker=\"o\", label=\"validaiton score\")\n",
    "plt.fill_between(gammas,\n",
    "                 scores.mean(axis=1)[:, 1]-scores.std(axis=1)[:, 1],\n",
    "                 scores.mean(axis=1)[:, 1]+scores.std(axis=1)[:, 1], alpha=0.5)\n",
    "plt.xscale(\"log\")\n",
    "plt.ylim(0.7 ,0.85)\n",
    "plt.xlabel(\"gamma\")\n",
    "plt.ylabel(r\"$R^2$ Score\")\n",
    "plt.legend()\n",
    "plt.show()"
   ]
  },
  {
   "cell_type": "code",
   "execution_count": 171,
   "id": "0012cb69",
   "metadata": {},
   "outputs": [
    {
     "data": {
      "text/html": [
       "<div>\n",
       "<style scoped>\n",
       "    .dataframe tbody tr th:only-of-type {\n",
       "        vertical-align: middle;\n",
       "    }\n",
       "\n",
       "    .dataframe tbody tr th {\n",
       "        vertical-align: top;\n",
       "    }\n",
       "\n",
       "    .dataframe thead th {\n",
       "        text-align: right;\n",
       "    }\n",
       "</style>\n",
       "<table border=\"1\" class=\"dataframe\">\n",
       "  <thead>\n",
       "    <tr style=\"text-align: right;\">\n",
       "      <th></th>\n",
       "      <th>MedInc</th>\n",
       "      <th>HouseAge</th>\n",
       "      <th>AveRooms</th>\n",
       "      <th>AveBedrms</th>\n",
       "      <th>Population</th>\n",
       "      <th>AveOccup</th>\n",
       "      <th>Latitude</th>\n",
       "      <th>Longitude</th>\n",
       "      <th>target</th>\n",
       "    </tr>\n",
       "  </thead>\n",
       "  <tbody>\n",
       "    <tr>\n",
       "      <th>0</th>\n",
       "      <td>8.3252</td>\n",
       "      <td>41.0</td>\n",
       "      <td>6.984127</td>\n",
       "      <td>1.023810</td>\n",
       "      <td>322.0</td>\n",
       "      <td>2.555556</td>\n",
       "      <td>37.88</td>\n",
       "      <td>-122.23</td>\n",
       "      <td>4.526</td>\n",
       "    </tr>\n",
       "    <tr>\n",
       "      <th>1</th>\n",
       "      <td>8.3014</td>\n",
       "      <td>21.0</td>\n",
       "      <td>6.238137</td>\n",
       "      <td>0.971880</td>\n",
       "      <td>2401.0</td>\n",
       "      <td>2.109842</td>\n",
       "      <td>37.86</td>\n",
       "      <td>-122.22</td>\n",
       "      <td>3.585</td>\n",
       "    </tr>\n",
       "    <tr>\n",
       "      <th>2</th>\n",
       "      <td>7.2574</td>\n",
       "      <td>52.0</td>\n",
       "      <td>8.288136</td>\n",
       "      <td>1.073446</td>\n",
       "      <td>496.0</td>\n",
       "      <td>2.802260</td>\n",
       "      <td>37.85</td>\n",
       "      <td>-122.24</td>\n",
       "      <td>3.521</td>\n",
       "    </tr>\n",
       "    <tr>\n",
       "      <th>3</th>\n",
       "      <td>5.6431</td>\n",
       "      <td>52.0</td>\n",
       "      <td>5.817352</td>\n",
       "      <td>1.073059</td>\n",
       "      <td>558.0</td>\n",
       "      <td>2.547945</td>\n",
       "      <td>37.85</td>\n",
       "      <td>-122.25</td>\n",
       "      <td>3.413</td>\n",
       "    </tr>\n",
       "    <tr>\n",
       "      <th>4</th>\n",
       "      <td>3.8462</td>\n",
       "      <td>52.0</td>\n",
       "      <td>6.281853</td>\n",
       "      <td>1.081081</td>\n",
       "      <td>565.0</td>\n",
       "      <td>2.181467</td>\n",
       "      <td>37.85</td>\n",
       "      <td>-122.25</td>\n",
       "      <td>3.422</td>\n",
       "    </tr>\n",
       "    <tr>\n",
       "      <th>...</th>\n",
       "      <td>...</td>\n",
       "      <td>...</td>\n",
       "      <td>...</td>\n",
       "      <td>...</td>\n",
       "      <td>...</td>\n",
       "      <td>...</td>\n",
       "      <td>...</td>\n",
       "      <td>...</td>\n",
       "      <td>...</td>\n",
       "    </tr>\n",
       "    <tr>\n",
       "      <th>20635</th>\n",
       "      <td>1.5603</td>\n",
       "      <td>25.0</td>\n",
       "      <td>5.045455</td>\n",
       "      <td>1.133333</td>\n",
       "      <td>845.0</td>\n",
       "      <td>2.560606</td>\n",
       "      <td>39.48</td>\n",
       "      <td>-121.09</td>\n",
       "      <td>0.781</td>\n",
       "    </tr>\n",
       "    <tr>\n",
       "      <th>20636</th>\n",
       "      <td>2.5568</td>\n",
       "      <td>18.0</td>\n",
       "      <td>6.114035</td>\n",
       "      <td>1.315789</td>\n",
       "      <td>356.0</td>\n",
       "      <td>3.122807</td>\n",
       "      <td>39.49</td>\n",
       "      <td>-121.21</td>\n",
       "      <td>0.771</td>\n",
       "    </tr>\n",
       "    <tr>\n",
       "      <th>20637</th>\n",
       "      <td>1.7000</td>\n",
       "      <td>17.0</td>\n",
       "      <td>5.205543</td>\n",
       "      <td>1.120092</td>\n",
       "      <td>1007.0</td>\n",
       "      <td>2.325635</td>\n",
       "      <td>39.43</td>\n",
       "      <td>-121.22</td>\n",
       "      <td>0.923</td>\n",
       "    </tr>\n",
       "    <tr>\n",
       "      <th>20638</th>\n",
       "      <td>1.8672</td>\n",
       "      <td>18.0</td>\n",
       "      <td>5.329513</td>\n",
       "      <td>1.171920</td>\n",
       "      <td>741.0</td>\n",
       "      <td>2.123209</td>\n",
       "      <td>39.43</td>\n",
       "      <td>-121.32</td>\n",
       "      <td>0.847</td>\n",
       "    </tr>\n",
       "    <tr>\n",
       "      <th>20639</th>\n",
       "      <td>2.3886</td>\n",
       "      <td>16.0</td>\n",
       "      <td>5.254717</td>\n",
       "      <td>1.162264</td>\n",
       "      <td>1387.0</td>\n",
       "      <td>2.616981</td>\n",
       "      <td>39.37</td>\n",
       "      <td>-121.24</td>\n",
       "      <td>0.894</td>\n",
       "    </tr>\n",
       "  </tbody>\n",
       "</table>\n",
       "<p>20640 rows × 9 columns</p>\n",
       "</div>"
      ],
      "text/plain": [
       "       MedInc  HouseAge  AveRooms  AveBedrms  Population  AveOccup  Latitude  \\\n",
       "0      8.3252      41.0  6.984127   1.023810       322.0  2.555556     37.88   \n",
       "1      8.3014      21.0  6.238137   0.971880      2401.0  2.109842     37.86   \n",
       "2      7.2574      52.0  8.288136   1.073446       496.0  2.802260     37.85   \n",
       "3      5.6431      52.0  5.817352   1.073059       558.0  2.547945     37.85   \n",
       "4      3.8462      52.0  6.281853   1.081081       565.0  2.181467     37.85   \n",
       "...       ...       ...       ...        ...         ...       ...       ...   \n",
       "20635  1.5603      25.0  5.045455   1.133333       845.0  2.560606     39.48   \n",
       "20636  2.5568      18.0  6.114035   1.315789       356.0  3.122807     39.49   \n",
       "20637  1.7000      17.0  5.205543   1.120092      1007.0  2.325635     39.43   \n",
       "20638  1.8672      18.0  5.329513   1.171920       741.0  2.123209     39.43   \n",
       "20639  2.3886      16.0  5.254717   1.162264      1387.0  2.616981     39.37   \n",
       "\n",
       "       Longitude  target  \n",
       "0        -122.23   4.526  \n",
       "1        -122.22   3.585  \n",
       "2        -122.24   3.521  \n",
       "3        -122.25   3.413  \n",
       "4        -122.25   3.422  \n",
       "...          ...     ...  \n",
       "20635    -121.09   0.781  \n",
       "20636    -121.21   0.771  \n",
       "20637    -121.22   0.923  \n",
       "20638    -121.32   0.847  \n",
       "20639    -121.24   0.894  \n",
       "\n",
       "[20640 rows x 9 columns]"
      ]
     },
     "execution_count": 171,
     "metadata": {},
     "output_type": "execute_result"
    }
   ],
   "source": [
    "df"
   ]
  },
  {
   "cell_type": "code",
   "execution_count": 176,
   "id": "0e100ce9",
   "metadata": {},
   "outputs": [],
   "source": [
    "from sklearn.decomposition import PCA\n",
    "\n",
    "pca = PCA(n_components=2)\n",
    "scaler = StandardScaler()\n",
    "data = np.hstack([df.values, housing['target'][:,None]])\n",
    "\n",
    "ab = pca.fit_transform(data)"
   ]
  },
  {
   "cell_type": "code",
   "execution_count": 178,
   "id": "aab60976",
   "metadata": {},
   "outputs": [
    {
     "data": {
      "text/plain": [
       "<matplotlib.collections.PathCollection at 0x1e347820a60>"
      ]
     },
     "execution_count": 178,
     "metadata": {},
     "output_type": "execute_result"
    },
    {
     "data": {
      "image/png": "[encoded data removed]",
      "text/plain": [
       "<Figure size 432x288 with 1 Axes>"
      ]
     },
     "metadata": {
      "needs_background": "light"
     },
     "output_type": "display_data"
    }
   ],
   "source": [
    "plt.scatter(ab[:,0], ab[:,1], s=1)"
   ]
  },
  {
   "cell_type": "code",
   "execution_count": 179,
   "id": "4cd9ebb5",
   "metadata": {},
   "outputs": [
    {
     "data": {
      "text/plain": [
       "array([0, 0, 0, ..., 0, 0, 0])"
      ]
     },
     "execution_count": 179,
     "metadata": {},
     "output_type": "execute_result"
    }
   ],
   "source": [
    "from sklearn.cluster import KMeans\n",
    "\n",
    "kmeans = KMeans(n_clusters=2, random_state=0).fit(data)\n",
    "kmeans.labels_"
   ]
  },
  {
   "cell_type": "code",
   "execution_count": 185,
   "id": "31f6faee",
   "metadata": {},
   "outputs": [
    {
     "data": {
      "image/png": "[encoded data removed]",
      "text/plain": [
       "<Figure size 432x288 with 1 Axes>"
      ]
     },
     "metadata": {
      "needs_background": "light"
     },
     "output_type": "display_data"
    },
    {
     "data": {
      "image/png": "[encoded data removed]",
      "text/plain": [
       "<Figure size 432x288 with 1 Axes>"
      ]
     },
     "metadata": {
      "needs_background": "light"
     },
     "output_type": "display_data"
    },
    {
     "data": {
      "image/png": "[encoded data removed]",
      "text/plain": [
       "<Figure size 432x288 with 1 Axes>"
      ]
     },
     "metadata": {
      "needs_background": "light"
     },
     "output_type": "display_data"
    }
   ],
   "source": [
    "for k in range(2,5):\n",
    "    kmeans = KMeans(n_clusters=k, random_state=0).fit(data)\n",
    "    for i in range(k):\n",
    "        plt.scatter(ab[:,0][kmeans.labels_==i], ab[:,1][kmeans.labels_==i], s=1)\n",
    "    #plt.xlim(-2000, 2000)\n",
    "    #plt.ylim(-50,50)\n",
    "    plt.show()"
   ]
  },
  {
   "cell_type": "code",
   "execution_count": 193,
   "id": "d917ff4a",
   "metadata": {},
   "outputs": [
    {
     "data": {
      "text/html": [
       "<div>\n",
       "<style scoped>\n",
       "    .dataframe tbody tr th:only-of-type {\n",
       "        vertical-align: middle;\n",
       "    }\n",
       "\n",
       "    .dataframe tbody tr th {\n",
       "        vertical-align: top;\n",
       "    }\n",
       "\n",
       "    .dataframe thead th {\n",
       "        text-align: right;\n",
       "    }\n",
       "</style>\n",
       "<table border=\"1\" class=\"dataframe\">\n",
       "  <thead>\n",
       "    <tr style=\"text-align: right;\">\n",
       "      <th></th>\n",
       "      <th>MedInc</th>\n",
       "      <th>HouseAge</th>\n",
       "      <th>AveRooms</th>\n",
       "      <th>AveBedrms</th>\n",
       "      <th>Population</th>\n",
       "      <th>AveOccup</th>\n",
       "      <th>Latitude</th>\n",
       "      <th>Longitude</th>\n",
       "    </tr>\n",
       "  </thead>\n",
       "  <tbody>\n",
       "    <tr>\n",
       "      <th>20046</th>\n",
       "      <td>1.6812</td>\n",
       "      <td>25.0</td>\n",
       "      <td>4.192201</td>\n",
       "      <td>1.022284</td>\n",
       "      <td>1392.0</td>\n",
       "      <td>3.877437</td>\n",
       "      <td>36.06</td>\n",
       "      <td>-119.01</td>\n",
       "    </tr>\n",
       "    <tr>\n",
       "      <th>3024</th>\n",
       "      <td>2.5313</td>\n",
       "      <td>30.0</td>\n",
       "      <td>5.039384</td>\n",
       "      <td>1.193493</td>\n",
       "      <td>1565.0</td>\n",
       "      <td>2.679795</td>\n",
       "      <td>35.14</td>\n",
       "      <td>-119.46</td>\n",
       "    </tr>\n",
       "    <tr>\n",
       "      <th>15663</th>\n",
       "      <td>3.4801</td>\n",
       "      <td>52.0</td>\n",
       "      <td>3.977155</td>\n",
       "      <td>1.185877</td>\n",
       "      <td>1310.0</td>\n",
       "      <td>1.360332</td>\n",
       "      <td>37.80</td>\n",
       "      <td>-122.44</td>\n",
       "    </tr>\n",
       "    <tr>\n",
       "      <th>20484</th>\n",
       "      <td>5.7376</td>\n",
       "      <td>17.0</td>\n",
       "      <td>6.163636</td>\n",
       "      <td>1.020202</td>\n",
       "      <td>1705.0</td>\n",
       "      <td>3.444444</td>\n",
       "      <td>34.28</td>\n",
       "      <td>-118.72</td>\n",
       "    </tr>\n",
       "    <tr>\n",
       "      <th>9814</th>\n",
       "      <td>3.7250</td>\n",
       "      <td>34.0</td>\n",
       "      <td>5.492991</td>\n",
       "      <td>1.028037</td>\n",
       "      <td>1063.0</td>\n",
       "      <td>2.483645</td>\n",
       "      <td>36.62</td>\n",
       "      <td>-121.93</td>\n",
       "    </tr>\n",
       "    <tr>\n",
       "      <th>...</th>\n",
       "      <td>...</td>\n",
       "      <td>...</td>\n",
       "      <td>...</td>\n",
       "      <td>...</td>\n",
       "      <td>...</td>\n",
       "      <td>...</td>\n",
       "      <td>...</td>\n",
       "      <td>...</td>\n",
       "    </tr>\n",
       "    <tr>\n",
       "      <th>15362</th>\n",
       "      <td>4.6050</td>\n",
       "      <td>16.0</td>\n",
       "      <td>7.002212</td>\n",
       "      <td>1.066372</td>\n",
       "      <td>1351.0</td>\n",
       "      <td>2.988938</td>\n",
       "      <td>33.36</td>\n",
       "      <td>-117.22</td>\n",
       "    </tr>\n",
       "    <tr>\n",
       "      <th>16623</th>\n",
       "      <td>2.7266</td>\n",
       "      <td>28.0</td>\n",
       "      <td>6.131915</td>\n",
       "      <td>1.256738</td>\n",
       "      <td>1650.0</td>\n",
       "      <td>2.340426</td>\n",
       "      <td>35.36</td>\n",
       "      <td>-120.83</td>\n",
       "    </tr>\n",
       "    <tr>\n",
       "      <th>18086</th>\n",
       "      <td>9.2298</td>\n",
       "      <td>25.0</td>\n",
       "      <td>7.237676</td>\n",
       "      <td>0.947183</td>\n",
       "      <td>1585.0</td>\n",
       "      <td>2.790493</td>\n",
       "      <td>37.31</td>\n",
       "      <td>-122.05</td>\n",
       "    </tr>\n",
       "    <tr>\n",
       "      <th>2144</th>\n",
       "      <td>2.7850</td>\n",
       "      <td>36.0</td>\n",
       "      <td>5.289030</td>\n",
       "      <td>0.983122</td>\n",
       "      <td>1227.0</td>\n",
       "      <td>2.588608</td>\n",
       "      <td>36.77</td>\n",
       "      <td>-119.76</td>\n",
       "    </tr>\n",
       "    <tr>\n",
       "      <th>3665</th>\n",
       "      <td>3.5521</td>\n",
       "      <td>17.0</td>\n",
       "      <td>3.988839</td>\n",
       "      <td>1.033482</td>\n",
       "      <td>1671.0</td>\n",
       "      <td>3.729911</td>\n",
       "      <td>34.22</td>\n",
       "      <td>-118.37</td>\n",
       "    </tr>\n",
       "  </tbody>\n",
       "</table>\n",
       "<p>4128 rows × 8 columns</p>\n",
       "</div>"
      ],
      "text/plain": [
       "       MedInc  HouseAge  AveRooms  AveBedrms  Population  AveOccup  Latitude  \\\n",
       "20046  1.6812      25.0  4.192201   1.022284      1392.0  3.877437     36.06   \n",
       "3024   2.5313      30.0  5.039384   1.193493      1565.0  2.679795     35.14   \n",
       "15663  3.4801      52.0  3.977155   1.185877      1310.0  1.360332     37.80   \n",
       "20484  5.7376      17.0  6.163636   1.020202      1705.0  3.444444     34.28   \n",
       "9814   3.7250      34.0  5.492991   1.028037      1063.0  2.483645     36.62   \n",
       "...       ...       ...       ...        ...         ...       ...       ...   \n",
       "15362  4.6050      16.0  7.002212   1.066372      1351.0  2.988938     33.36   \n",
       "16623  2.7266      28.0  6.131915   1.256738      1650.0  2.340426     35.36   \n",
       "18086  9.2298      25.0  7.237676   0.947183      1585.0  2.790493     37.31   \n",
       "2144   2.7850      36.0  5.289030   0.983122      1227.0  2.588608     36.77   \n",
       "3665   3.5521      17.0  3.988839   1.033482      1671.0  3.729911     34.22   \n",
       "\n",
       "       Longitude  \n",
       "20046    -119.01  \n",
       "3024     -119.46  \n",
       "15663    -122.44  \n",
       "20484    -118.72  \n",
       "9814     -121.93  \n",
       "...          ...  \n",
       "15362    -117.22  \n",
       "16623    -120.83  \n",
       "18086    -122.05  \n",
       "2144     -119.76  \n",
       "3665     -118.37  \n",
       "\n",
       "[4128 rows x 8 columns]"
      ]
     },
     "execution_count": 193,
     "metadata": {},
     "output_type": "execute_result"
    }
   ],
   "source": [
    "test_x"
   ]
  },
  {
   "cell_type": "code",
   "execution_count": 194,
   "id": "757702f5",
   "metadata": {},
   "outputs": [
    {
     "data": {
      "text/plain": [
       "<matplotlib.collections.PathCollection at 0x1e2cf65b070>"
      ]
     },
     "execution_count": 194,
     "metadata": {},
     "output_type": "execute_result"
    },
    {
     "data": {
      "image/png": "[encoded data removed]",
      "text/plain": [
       "<Figure size 432x288 with 1 Axes>"
      ]
     },
     "metadata": {
      "needs_background": "light"
     },
     "output_type": "display_data"
    }
   ],
   "source": [
    "model = RandomForestRegressor(n_estimators=200, max_features=2)\n",
    "model.fit(train_x, train_y)\n",
    "test_p = model.predict(test_x)\n",
    "plt.scatter(test_y, test_p)"
   ]
  },
  {
   "cell_type": "code",
   "execution_count": 197,
   "id": "d0c07d2a",
   "metadata": {},
   "outputs": [
    {
     "data": {
      "text/plain": [
       "Text(0, 0.5, 'predicted')"
      ]
     },
     "execution_count": 197,
     "metadata": {},
     "output_type": "execute_result"
    },
    {
     "data": {
      "image/png": "[encoded data removed]",
      "text/plain": [
       "<Figure size 432x432 with 1 Axes>"
      ]
     },
     "metadata": {
      "needs_background": "light"
     },
     "output_type": "display_data"
    }
   ],
   "source": [
    "plt.figure(figsize=(6,6))\n",
    "plt.scatter(test_y, test_p, s=2)\n",
    "plt.ylim(0,6)\n",
    "plt.xlim(0,6)\n",
    "plt.xlabel(\"experimental\")\n",
    "plt.ylabel(\"predicted\")"
   ]
  },
  {
   "cell_type": "code",
   "execution_count": 198,
   "id": "45cd519d",
   "metadata": {},
   "outputs": [
    {
     "data": {
      "text/plain": [
       "{'alpha': 0.07759761448035783, 'gamma': 0.35620427426081175}"
      ]
     },
     "execution_count": 198,
     "metadata": {},
     "output_type": "execute_result"
    }
   ],
   "source": [
    "study.best_params"
   ]
  },
  {
   "cell_type": "code",
   "execution_count": 202,
   "id": "bc797fff",
   "metadata": {},
   "outputs": [],
   "source": [
    "scaler = StandardScaler()\n",
    "data = np.hstack([train_x, train_y[:,None]])\n",
    "scaler.fit(data)\n",
    "xy_train = scaler.transform(data)\n",
    "xy_test = scaler.transform(np.hstack([test_x, test_y[:,None]]))\n",
    "x_train, x_test, y_train, y_test = xy_train[:,:-2], xy_test[:,:-2], xy_train[:,-1], xy_test[:,-1]\n",
    "\n",
    "model = KernelRidge(kernel='rbf', **study.best_params)\n",
    "model.fit(x_train, y_train)\n",
    "p_test = model.predict(x_test)"
   ]
  },
  {
   "cell_type": "code",
   "execution_count": 207,
   "id": "527f05fc",
   "metadata": {},
   "outputs": [
    {
     "data": {
      "text/plain": [
       "Text(0, 0.5, 'predicted')"
      ]
     },
     "execution_count": 207,
     "metadata": {},
     "output_type": "execute_result"
    },
    {
     "data": {
      "image/png": "[encoded data removed]",
      "text/plain": [
       "<Figure size 432x432 with 1 Axes>"
      ]
     },
     "metadata": {
      "needs_background": "light"
     },
     "output_type": "display_data"
    }
   ],
   "source": [
    "plt.figure(figsize=(6,6))\n",
    "plt.scatter(y_test, p_test, s=2)\n",
    "plt.ylim(-2.5,3)\n",
    "plt.xlim(-2.5,3)\n",
    "plt.xlabel(\"experimental\")\n",
    "plt.ylabel(\"predicted\")"
   ]
  },
  {
   "cell_type": "code",
   "execution_count": null,
   "id": "0a863fd3",
   "metadata": {},
   "outputs": [],
   "source": []
  }
 ],
 "metadata": {
  "kernelspec": {
   "display_name": "Python 3",
   "language": "python",
   "name": "python3"
  },
  "language_info": {
   "codemirror_mode": {
    "name": "ipython",
    "version": 3
   },
   "file_extension": ".py",
   "mimetype": "text/x-python",
   "name": "python",
   "nbconvert_exporter": "python",
   "pygments_lexer": "ipython3",
   "version": "3.8.10"
  }
 },
 "nbformat": 4,
 "nbformat_minor": 5
}
